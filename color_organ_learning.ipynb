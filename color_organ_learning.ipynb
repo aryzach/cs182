{
  "cells": [
    {
      "cell_type": "markdown",
      "metadata": {
        "id": "view-in-github",
        "colab_type": "text"
      },
      "source": [
        "<a href=\"https://colab.research.google.com/github/aryzach/cs182/blob/master/color_organ_learning.ipynb\" target=\"_parent\"><img src=\"https://colab.research.google.com/assets/colab-badge.svg\" alt=\"Open In Colab\"/></a>"
      ]
    },
    {
      "cell_type": "code",
      "execution_count": null,
      "id": "Jevqt6z9JwB6",
      "metadata": {
        "id": "Jevqt6z9JwB6"
      },
      "outputs": [],
      "source": [
        "!pip install ipympl torchviz\n",
        "!pip install torch==1.13 --extra-index-url https://download.pytorch.org/whl/cpu\n",
        "# restart your runtime after this step"
      ]
    },
    {
      "cell_type": "code",
      "execution_count": 1,
      "id": "b2c6b958",
      "metadata": {
        "id": "b2c6b958"
      },
      "outputs": [],
      "source": [
        "import math\n",
        "import matplotlib.pyplot as plt\n",
        "import numpy as np\n",
        "import torch\n",
        "import torch.nn as nn\n",
        "from torch.autograd import Variable\n",
        "import tqdm\n",
        "\n",
        "import IPython\n",
        "from ipywidgets import interactive, widgets, Layout\n",
        "from IPython.display import display, HTML"
      ]
    },
    {
      "cell_type": "code",
      "execution_count": 2,
      "id": "stAbSJUKJssH",
      "metadata": {
        "id": "stAbSJUKJssH",
        "outputId": "0f16ef4a-e0c0-4bdd-fd3b-0621aa03a704",
        "colab": {
          "base_uri": "https://localhost:8080/"
        }
      },
      "outputs": [
        {
          "output_type": "stream",
          "name": "stdout",
          "text": [
            "1.13.0+cpu False\n"
          ]
        }
      ],
      "source": [
        "print(torch.__version__, torch.cuda.is_available())\n",
        "# Homework 0 does not require a GPU"
      ]
    },
    {
      "cell_type": "code",
      "execution_count": 3,
      "id": "34d01662",
      "metadata": {
        "id": "34d01662"
      },
      "outputs": [],
      "source": [
        "# enable matplotlib widgets;\n",
        "\n",
        "# on Google Colab\n",
        "from google.colab import output\n",
        "output.enable_custom_widget_manager()\n",
        "\n",
        "%matplotlib widget"
      ]
    },
    {
      "cell_type": "code",
      "execution_count": 4,
      "id": "61cf3329",
      "metadata": {
        "id": "61cf3329"
      },
      "outputs": [],
      "source": [
        "# Constants\n",
        "cap_value = 1e-6          # Farads\n",
        "R_init = 500              # Ohms\n",
        "cutoff_mag = 1. / math.sqrt(2)\n",
        "cutoff_dB = 20 * math.log10(cutoff_mag)\n",
        "dataset_size = 1000\n",
        "max_training_steps = 100000"
      ]
    },
    {
      "cell_type": "markdown",
      "id": "6a5aebcb",
      "metadata": {
        "id": "6a5aebcb"
      },
      "source": [
        "## (a) Designing a Low Pass Filter by Matching Transfer Functions"
      ]
    },
    {
      "cell_type": "code",
      "execution_count": 5,
      "id": "103bf234",
      "metadata": {
        "id": "103bf234"
      },
      "outputs": [],
      "source": [
        "# Transfer function: evaluates magnitude of given frequencies for a resistor value in the low pass circuit\n",
        "def evaluate_lp_circuit(freqs, R_low):\n",
        "    return 1. / torch.sqrt(1 + (R_low * cap_value * freqs) ** 2)"
      ]
    },
    {
      "cell_type": "code",
      "execution_count": 6,
      "id": "b636c220",
      "metadata": {
        "id": "b636c220",
        "outputId": "63cb84f7-1712-4b8c-e22b-17eafd3312b2",
        "colab": {
          "base_uri": "https://localhost:8080/",
          "height": 409,
          "referenced_widgets": [
            "644ed579cf0c40598fd39e99af427169",
            "77144464634f4e4b926c5c3829db2fdd",
            "9e821748976f4bd187b285e21e6f48c1",
            "3951276c075b4ca49b8077524e7386bf",
            "9016966708cf48e284245cadc9bd5d86",
            "c44fb679d7564cb9811fc83d41849612",
            "715299af16c841dcb466959e40363881",
            "10de9bfa44a34e6db6261d735a84500e",
            "74f8a0ecf9c8416fb8aabeccdf0e281b",
            "41ca5c2153ba43abab248eb9d171d38f",
            "ef9a20de3d764283925bf19f1f51614b"
          ]
        }
      },
      "outputs": [
        {
          "output_type": "display_data",
          "data": {
            "text/plain": [
              "interactive(children=(IntSlider(value=500, description='R', layout=Layout(width='100%'), max=1000, min=1), Out…"
            ],
            "application/vnd.jupyter.widget-view+json": {
              "version_major": 2,
              "version_minor": 0,
              "model_id": "644ed579cf0c40598fd39e99af427169"
            }
          },
          "metadata": {
            "application/vnd.jupyter.widget-view+json": {
              "colab": {
                "custom_widget_manager": {
                  "url": "https://ssl.gstatic.com/colaboratory-static/widgets/colab-cdn-widget-manager/b3e629b1971e1542/manager.min.js"
                }
              }
            }
          }
        },
        {
          "output_type": "display_data",
          "data": {
            "text/plain": [
              "Canvas(toolbar=Toolbar(toolitems=[('Home', 'Reset original view', 'home', 'home'), ('Back', 'Back to previous …"
            ],
            "image/png": "[encoded data removed]",
            "text/html": [
              "\n",
              "            <div style=\"display: inline-block;\">\n",
              "                <div class=\"jupyter-widgets widget-label\" style=\"text-align: center;\">\n",
              "                    Figure\n",
              "                </div>\n",
              "                <img src='data:image/png;base64,iVBORw0KGgoAAAANSUhEUgAAAogAAAEgCAYAAAA37oKkAAAAOXRFWHRTb2Z0d2FyZQBNYXRwbG90bGliIHZlcnNpb24zLjYuMywgaHR0cHM6Ly9tYXRwbG90bGliLm9yZy/P9b71AAAACXBIWXMAAAsTAAALEwEAmpwYAABjt0lEQVR4nO3dd3hU1dbA4d+adJIQWui99w7SQUWKINKsiBURFcHe8Fqu/dOrgqA0FewiioqAIkrvHem99xaSkDqzvz/OMJmQQArJnJCs93nmYWadffZZs41kccreYoxBKaWUUkqpCxx2J6CUUkoppfIWLRCVUkoppVQqWiAqpZRSSqlUtEBUSimllFKpaIGolFJKKaVS0QJRKaWUUkqlogWiUkoppZRKRQtEpZRSSimVihaISimllFIqFS0QlVJKKaVUKlogKqWUD4hIiIhMF5EoEfnR7nxygoi8KCIT7c5DKZXztEBUqoATkb0i0tlHx3pVRJJEJEZEzorIEhFp7YPjbnIfM0ZEnCIS7/X5xdw+vlt/oBRQ3Bhzy5V2JiKVRcR4fY8YEVl/5Wle8nidROSgd8wY85YxZlBuHVMpZR8tEJVSvvaDMSYMiAQWAT+LiOTmAY0x9YwxYe7jLgSGXvhsjHnrQjsR8c/FNCoB240xyVndMYO8inh9l0bZT08ppVJogaiUSpeIBInIRyJy2P36SESC3Nvmi0g/9/u27jNZPdyfrxeRdRn1b4xJAiYDpYHiIvK8iOwSkWgR2Swifbxyqe4+ZpSInBSRH9xxEZEPReS4iJwTkX9FpH4WvuOFs3APiMh+4B93/EcROeo+3gIRqee1zyQRGSMiM9y5LheRapfLR0ReA14GbnOf6XvA3f5+EdkiImdE5E8RqeR1HCMij4rIDmBHNr6Tv1dsnogMcr+/V0QWicj77uPuEZHuXm2LicgX7v/mZ0TkFxEJBWYBZb3OVpZ1nxH+2mvfXu6ztWfdx6zjtW2viDwtIhvc4/qDiAS7t5UQkd/d+50WkYUior+flLKR/g+olLqUEUAroDHQCGgJvOTeNh/o5H7fEdgNdPD6PD+jzt3F5r3AAWPMSWAX0B6IAF4DvhaRMu7mrwOzgaJAeeBjd7yL+7g13fvdCpzK4ve8kHMdoKv78yygBlASWAN8c1H72905FgV2Am9eLh9jzCvAW7jPnhpjPhORm4EXgb5YZ1MXAt9ddJzewDVA3Wx8p8u5BtgGlAD+D/jM6yzuV0AhoB7W9//QGBMLdAcOe52tPOzdoYjUdOf/uPv7zASmi0igV7NbgW5AFaAh1n9/gKeAg+79SmGNi8nB76uUyiItEJVSlzIA+K8x5rgx5gRWQTTQvW0+VlEFVkH0ttfnjArEW0XkLHAAaAb0ATDG/GiMOWyMcRljfsA6a9bSvU8S1iXassaYeGPMIq94OFAbEGPMFmPMkWx811eNMbHGmDh3Lp8bY6KNMQnAq0AjEYnwaj/NGLPCfbn4G6wiOqv5DAHedrdJxiogG3ufRXRvP30hr0s46T7zdlZEns7k991njJlgjHFincUtA5RyF+TdgSHGmDPGmCRjTIbFvtttwAxjzF/us8PvAyFAG682o9z/jU8D00k9bmWASu5jLjTGaIGolI20QFRKXUpZYJ/X533uGMBSoKaIlML6Jf8lUEFESmAVdQsu0+8UY0wRY0xJY8x1xpjVACJyt4isu1DsAPWxznABPAsIsMJ9CfN+AGPMP8BoYAxwXETGi0jhbHzXAxfeiIifiLzjvtx9Dtjr3lTCq/1Rr/fngbBs5FMJGOn1fU+7v2O59PK6jBLu8SxijHk/E+1T5W+MOe9+GwZUAE4bY85ksh9vqX5ejDEurPy9v0+64wa8h3UmdraI7BaR57NxfKVUDtICUSl1KYexipgLKrpjF4qK1cBwYKMxJhFYAjwJ7HJfMs4091mzCcBQrKd8iwAbsQomjDFHjTEPGmPKAg8Bn4hIdfe2UcaYZliXYWsCz2Tju3qfrboTuBnojHWZuPKFNDPVUebzOQA85FXcFTHGhBhjllwir8yKdf9ZyCtWOpP7HgCKiUiRdLZllEuqnxf3JesKwKGMDuo+W/uUMaYq0At4UkSuz2TOSqlcoAWiUgogQESCvV7+WPeTvSQike4zgy8DX3vtMx+roLtwCXLeRZ+zIhSrADkBICL3YZ1BxP35FhEp7/54xt3WJSItROQaEQnAKoziAVc2ju8tHEjAupexENal30zJYj5jgRcuPAAjIhEicsXT37hvBzgE3OU+G3o/UC2T+x7Buv/yExEpKiIBInLh3tJjWA8TRVxi9ylAD7EeUgrAuq8wAesfDpclIj3FehBJgCjAyZX/d1RKXQEtEJVSYD1QEOf1ehV4A1gFbAD+xXpY4w2vfeZjFVMLLvE504wxm4H/YV26PgY0ABZ7NWkBLBeRGOA3YLgxZjdQGOvM4xmsy5unsC5XXokv3X0dAjYDy7Kwb6bzMcZMA94Fvndfyt6Idf9fTngQ68zlKayHTTIs0rwMxLoncCtwHOuhE4wxW7H+0bDbfVm8rPdOxphtwF1YDxCdBG4CbnKfXc5IDWAOEIP1M/CJMWZuFnJWSuUw0fuAlVJKKaWUNz2DqJRSSimlUtECUSmllFJKpaIFolJKKaWUSkULRKWUUkoplcpVUSCKSDcR2SYiO3UCVaWUUkqp3JXnn2IWET9gO3AD1lqdK4E73NNipKtIkSKmevXqPsrQEhsbS2hoqM/6yGzby7XL6rYrieUmX499Vtr7evx9PfY5dczcGP+M2lxqe1biOv7Zb6Pjn/0+dPwvn1du9+Hr8c9sbPXq1SeNMZEZ5Z9Z/jnVUS5qCex0z3mGiHyPtcrBJQvEyOJF+emrcamD6a2B4PAnqUjq+WMdSTH4xx5NFUtvVxHB+AWTXNiau3f58uW0uuYaJOEcfnEnvdql7Uncf7oCCuEKLeVpt2zZMto0roXER6X7vcSR0tm6tWtp1LIdJjT1z4Ij7hSOxFjP5zVr19K0SZNU+16wYv02mre/4aL9TyLJ8axevZpmzZqlZC3C6lWrada8maetCS7C4lXradOmjed7yfkTrF6+jObNm6f+/pL2+Ca4CPgHI17bJPY4GFc6Yy5pujAhxRC/QBYtXkS7tu3c+59I9z/Yxd9fAAkphp+/PyKwaMECru3YAUdC+mN/sUWLF9Huhl6pg85kSIxO3W7RYtq1a0uapMTBvGVr6NSpk9f+SZAUB+JgwaLFdOjYCcQPxAEOB/PmzUvdHtLE0muT23LimFntIzPtM2pzqe1Ziev4Z7+Njn/2+9Dxv3xeud2Hr8c/szER2UcOuhoKxHKkXo/0IHDN5XaIiNtPpR+uy7DjY6YIHRM+SRW73rGazwL/l6nE/nVV5qZEr0UWFs7jTr+/eSvgs0ztP8fZhEFJqVfhenzJSzzu/3OG+5YBvl19HS8mD0oVf8t/Anf6p8wv2x1gXfp97Ezuy9BFqe8ymBjwHp391tINYG3q9l0vir2Q9ADfOa+HuX97YtMDX6SrY681pXIGHkh8ir9dzVLFVgQ9Qkk5m/HOQM+EN9hoqlof/p4NwN7gOzO1L0CL+DGcoKjnc8nZ37Ei+NFM7dsOaL3qZxwiOBzgEKG2axfj4p5K0y7VdM9uUf7FmVTkU+ZGbSTAz0GAv4PaUYu4eYu1fweAhan36YADs8AqGJ2lGmAe+Ct1g/U/0HrJc7A6BBx+VlHuKTD9Ut77BUDF1tD9ndT7b50BW6Zb2/2CwC/Q/T7QevkHQkAh61WiJlRokXr/+ChwOa3t/kHp/qNAKaXU1eFqKBAzRUQGA4MBmpW5Km6tVFe5I1HxqT6HSxwEZW7f+CQn8w4mw8GUf/Bd7zjMzYGX3seBC1zW6mObD56i14hZBDgMoXNnEhoAt8oKhiedgcQzGR7/VII//4bMSxWrtHc6VfZ+l6n8j5S+jm21hwMQExPDvHnzqLF9HOUOzwTA4CDZP5SkgHCS/UNJ9g8jKSCMZH/rdaZoQ84WbejpLyYmhnlz52a6qLxwzCtpc6ntWYlfHMtMXjktJ46Z1T50/C+fV273oeN/+bxyuw9fj39mYzntaigQD2Et+H5BedJZ/N0YMx4YD9CgbIjZ5/DeJe19lgaIkgiqFg5NFYxILsL+hHLppJG2j7MBpagcXgiA83FxhISEEJwcwcHEMpnaPy6wOBXCQ7hwG2h8fDziX4RDyaXS2f+i3owhKagoZUODU8WTk4tyxJly2dlg0r1EDpDsF0qpQikVjTEQl1yEo6YExhjPpV9x534hduGb+AWFUThZCAwM9Hy/aGcRjrmKpr5snM53BwgKDqEoAaliZ10RafK91P7BQYEUxp/k5GT8/a0f5VMUTtNOLnGfbVCAP0HGgcsYnC6DMXDGhKXbNk2f6eTkwkGUKZRO27RiTEiamBM/YkwwDgwOXO6XwV/SLkl74SJ8kks4m2A4mwAn/JxcNJyXtPGsHx9tCiAyPIhyRUIoXzSECsGXWmI3rTIVqlHGfXnDc6nj7BQ4bG0XXAQkRxOQHJ3u/pWqVIWLL02d/BL2LICw0hBWEgqXgSKVrFdR959hpS55uf1ieokt9/rQ8b98Xrndh47/5fPK7T58Pf6ZjeW0q6FAXAnUEJEqWIXh7cBlryMmhlek0ssbM9X5P2kinYBhmdq3IjDP/T7lP9a1wCuZ2r881mKlF1h9fAh8mOG+8+bN455OnbgnzZbr07S71A9R83nzeDrNts6X3O/i2BtA5zTtbsj0D+4n6UY3ZLjfBVPTzevAJVqntcjrvdVHD4wZgNNlcBqrYHS6DC5jcLmwCkljfV68eAlLWrX2FJZOd5F53NyN0xiSnYYkp4sVq9ZQv2EjEp0ukpJd1p9OF0nJhru3bKVKterWZ6chMbkGY5z9iE9ysmvfQYoUL8n5RCfxSU7OJyRx+sxZ/AIDSUhMIi7JhUPA5VWn/uRsz2xnc/wuFJdiFZh+3sUmTvxxEkMIuw+cTTUe06QidRwPEUAyhQMMkYWEUqEOShYSSoQ4KB7korB/Eo6kOCjfPO2A+gVCcAQkngdX0uUHP7hI2ti5IxB7wnodu8R+fkFQpCIlS/bC+n9VqZyRlJTEwYMHiY+Pz7ixl4iICLZs2XJFx85qH5lpn1GbS23PSvziWE6MRVYVhPG/OBYcnPre/dyS5wtEY0yyiAwF/gT8gM+NMZtsTkvlUyKCv59k+D9G0WAHZYukPQt4sajdfrStXiLdbSVjd9GpbZV0t82bd4JOnZpcFEtdeBtj+PPveTRs3oqz55OIiktiyaq1VKhai6i4JM/rdGwix6PjORGdwKHoBGITnekec5OpzCZnZeuDE4gHTqduE+jnoGpkKLUTw2kYvYeG5SNISHZXqTd9ZL0AkhOsexLjzkL8WevPuDMp7yumcxtx7PF080rFmQCnduAqnc6p0q/7W5eoyzSCsk0JTMjaL3pVsB08eJDw8HAqV66cpV++0dHRhIeHX9Gxs9pHZtpn1OZS27MSvziWE2ORVQVh/L1jxhhOnTrlk6fF83yBCGCMmQnMtDsPpfISESHYXyhbJMRTrCYc8KdTiwqX3S82IZkT0QmciEngaFQ8h87GceD0eQ6eiePAGevPxOS0l7UBEp0uth6NZuvRaH5ZZ11PFqDWxgU0KBdB88pFaVmlOJWLF0LCSlqXijPrkWXW2cPooxBzDKIOwtl9cGaf9efZ/VaRCcSGVky9rzMZ9swHZyLssB5YagOw8UUo2xTKNYXK7az3/pe50VMVWPHx8VkuDpXyNRGhePHiHDiQ+atl2XVVFIhKqZwTGuRPaJA/lUuk/y9Ql8twMiaBvafOs/N4DDuOR7PzeAzbj0Vz7FxCmvYGPEXjj6sPAlCqcBAtqxTnmirFaFu9BFUucaxU/AKgcFnrdSnxUXB2P3FbLjrbeHq3VRxeLPoIbJthvQD8Q6ynr/t9nnE+qsDR4lBdDXz1c6oFolIqFYdDKFk4mJKFg2lZpViqbVFxSew4Fs3GQ1FsOBTFhoNR7Doek+aRnWPnEpi+/jDT11tnGSsXL0SnWiXpVCuSVlWLExzgl73kgiOgdAPYOi91vFgV6wzk0Y1weC0cXoPz4Br8XBcVtMlxcHg9FEr9vUg8DwnnILx09vJSKgf4+fnRoEEDkpOTqVOnDpMnT6ZQobQPvmXGkCFD6NOnD/3792fQoEE8+eST1K1bN9228+bNIzAw0DOnbWbVr1+f1atXU6JEym0011xzDQkJCZw+fZq4uDjKlbMe+vzll1+oXLlytr7LpZw4cYLu3bvjdDoZNWoU7du3z3Ifr776KuPHj6dkSetqR7du3XjnnXcy2Ctzzp49y7fffssjjzwCwOHDhxk2bBhTp07NYM+8QQtEpVSmRYQE0LxyMZpXTimwZs2ZS7GqDVl74CzLd59i1d4zRCckp9pv76nzTFqyl0lL9hIc4KBd9RJ0r1+GznVLERGSyUevL8cvAErWsV4NbwFg0T9/07FeaTi0BvYvg32L4MxeqNjKmhfS247Z8OM9ULohlYLrw4myEFnzyvNSKgtCQkJYt24dAAMGDGDs2LE8+eSTnu3eMzZkxcSJEy+7fd68eYSFhWW5QEzP8uXLAZg0aRKrVq1i9OjRqbZn9zuk5++//6ZevXpMnjw50/s4nU78/FL////oo48yYsSIHMnJ29mzZ/nkk088BWLZsmWvmuIQrpK1mJVSeVeIv3BN1eIM6ViNL+5rybpXujB9aDte6lGH62uXJOSis4XxSS7mbDnOUz+up/kbf3H/pJUsOmQ9UJOTjMMPStWDpgOh9xgYvh6e2ARdXk/beId70vGjG6iy91sY0wI+aQPz/w9O7sjRvJTKjPbt27Nz507mzZtH+/bt6dWrF3Xr1sXpdPLSSy/RokULGjZsyLhx1qphxhiGDh1KrVq16Ny5MydOnPD01alTJ1atWgXAH3/8QdOmTWnTpg3XX389e/fuZezYsXz44Yc0btyYJUuWcOLECfr160eLFi1o0aIFixdbs/2fOnWKLl26UK9ePQYNGkRml+p99dVXGThwIG3btmXgwIHs3buX9u3b07RpU5o2bcqSJUuAlAfx+vfvT+3atRkwYIDnGM8//zx169alYcOGPP3006xbt45nn32WGTNm0LhxY+Li4pg9ezatW7emadOm3HLLLcTExABQuXJlnnvuOZo2bcqPP/6YYb6TJk1i6NChns89e/b0zDkYFhbGf//7Xxo1akSrVq04dsyacuHYsWP06dOHRo0a0ahRI5YvX87zzz/Prl27aNy4Mc888wx79+6lfv36gHXP63333UeDBg1o0qQJc+daC1x888039O3bl27dulGjRg2effbZTI1xbtAziEqpHOXnEBqUj6BB+QgGta9KfJKTlXtPM3frCeZtP87uEylLQSY5Df9sPc4/wJeb53BD3VL0b16eDjUi8UtnecgrFlE+/XhyHDj8weV15vP4Jus1900o3ZByYa3gfMO0l6dVvlP5+Rm51vfed3pk2CY5OZlZs2bRrVs3ANasWcPGjRupUqUK48ePp3DhwqxcuZKEhATatm1Lly5dWLt2Ldu2bWPz5s0cO3aMunXrMnjw4FT9njhxggcffJAFCxZQokQJkpKSKFasGEOGDCEsLIynn36a6OhoHnroIZ544gnatWvH/v376dq1KytWrOC1116jXbt2vPzyy8yYMYPPPsvcqmEAmzdvZtGiRYSEhHD+/Hn++usvgoOD2bFjB3fccYengF27di2bNm2ibNmytG3blsWLF1OnTh2mTZvG1q1bERHOnj1LkSJF+O9//8uSJUsYP348J0+e5I033mDOnDmEhoby7rvv8sEHH/Dyyy8DULx4cdasSX+JrzFjxngKx3ffffey3yM2NpYWLVrw3nvv8eyzzzJhwgReeuklhg0bRseOHZk2bRpOp5MjR47wzjvvsHHjRs9Z4b1793r6mTBhAiLCv//+y9atW+nSpQvbt28HYN26daxdu5agoCBq1arFfffdR506dTI91jlFC0SlVK4KDvCjfY1I2teI5GXqsvdkLDM3HmHmv0fYeOicp12i08WMf48w498jlCocRJ8m5bmleXmqRWZu8vIr0v9ziD8HO2ZzYv5EIs+uhWSvaXKObqAGG+B/k+CWSVA741/ySmVVXFwcjRs3BqwziA888ABLliyhZcuWVKliTYk1e/Zs1q1bx/Tp0wGIiopix44dLFiwgDvuuAM/Pz/Kli1Lhw4d0vS/bNkyOnToQJUqVYiOjqZYsfT/sTNnzhw2b97s+Xzu3DliYmJYsGABP/9sLQXbo0cPihQpkunv1qtXL0JCrNkWkpKSGDp0KOvWrcPPz89TGAG0bNmS8uWtf8g1btyYvXv30qpVK4KDg3nggQfo2bMnPXv2TPe7bd68mbZt2wKQmJhI69atPdtvu+22S+Z28SXmSZMmXbJtYGCgp3Bv1qwZf/1lXX34559/+PLLLwHrXtKIiAhOnTp1yX6WLl3KE088AUDt2rWpVKmSZxyuv/56IiKshQvq1q3LgQMHtEBUSuV/lUuE8kin6jzSqTr7T51n5sYjfL94O3vPpUytc+xcAmPn72Ls/F20rlqce9pUpnOdkvj75eJdMcGFoUF/Np0qQafWzWD7n7BpmnX52el+2MXlhHLpTBKuVA7wvgfRm/ecd8YY3nvvPfr06ZOqzcyZOTcTnMvlYtmyZQQHp6zUFR2d/qpImeX9HT788ENKlSrF+vXrcblcqY4TFJSyupefn5/nnsUVK1bw999/M3XqVEaPHs0//6Re5sIYww033MB336W/XGhW5g309/fH5Ur5+8h78vSAgADPU8QX8stp6Y2BHbRAVErZpmLxQgzpWI3a5gBlajdj6uoDTFt7iJMxKVPWLN19iqW7T1E2IpgBrSpxR8uKl+kxhwSFQ4P+1ivuDGz8iXMLPqVwmRoQftFSmKf3wIL3oOXg9PtSV53MXAa+wNeTQ3ft2pXPPvuMnj17EhAQwPbt2ylXrhwdOnRg3Lhx3HPPPRw/fpyFCxdy9913p9q3VatWPPLII+zZs4cSJUpw+vRpihUrRnh4OOfOpZzN79KlCx9//DHPPPMMYF3yrFatGh06dODbb7/lpZdeYtasWZw9ezZb3yEqKory5cvjcDiYPHkyTmf6k/dfEBMTw/nz57nxxhtp27YtVatWTdOmVatWPProo+zcuZPq1asTGxvLoUOHqFkz6w+bVa5cmU8++QSXy8WhQ4dYsWJFhvtcf/31fPrppzz++OM4nU6ioqIIDw+/ZGHdpk0bvvnmG6677jq2b9/O/v37qVWrlud+zLxAH1JRSuUJtUqHM6JHXZa+cD0T725Ol7qlUt2HeDgqnvf+3Eart//m840J7D4R45vEQopCi0GsafY/uOWLtNtXToR138D4jjRZ8zxsnQmu9CcaV+pKDRo0iNq1a9O0aVPq16/PQw89RHJyMn369KFGjRrUrVuXu+++mxYtWqTZNzIykvHjx9O3b1/atGnjuex60003MW3aNM9DKqNGjWLVqlU0bNiQunXrMnbsWABeeeUVFixYQL169fj555+pUOHyk/JfyiOPPMLkyZNp1KgRW7duzfDsXnR0ND179qRhw4a0a9eODz74IN3vNmnSJO644w4aNmxI69at2bp1a7bya9u2LVWqVKFu3boMGzaMpk2bZrjPyJEjmTt3Lg0aNKBZs2Zs3bqV4sWL07ZtW+rXr+8pti8YNGgQLpeLBg0acNtttzFp0qRUZw7zAj2DqJTKUwL8HHSuW4rOdUtx+Gwc3y7fz3cr9nMq1jqrmJjsYsFBF9d/MJ9u9UozpGM1GlUo4qPkUi+v6HAmwNqvPJ8jzm2B7++AyNrQ9nHrDKRfDkzjowqEC0/deuvUqVOqJTYdDgevvPIK77//fpq23lPKeJ/ZvPAELkD37t3p3r17qu01a9Zkw4YNqfb74YcfUvUdHR1N8eLFmT17drrHuNi9997LvffeC1hPMXurUaOG53iQ8mDIxd/V+/ukdxbv3nvvpV+/fp7P1113HStXrkzTzvvhkIu9+uqrac7yiQjffPNNuu1jYmI87fv370///v0BKFWqFL/++qun3YU23377bar9N27cCFjrKX/xRdp/cA4YMCDVmP7+++9XfHk/u/QMolIqzypbJISnu9ZiyQvX8cGtjWhUPsKzzRiYtfEoN49ZzJ0TlrF458lMT7uRU1x+QXDXz9DgVnB4FYIntsIvQ2BkY1j2KSTF+TQvpZS6UlogKqXyvCB/P/o2Lc8vj7ZlykOtaRSZem7FJbtOMWDicm4bv4zluy/95GCuKN8c+k2AJzayv0JfCPQ6o3LuIPzxPIxsBMvHgTNn53pUSqncogWiUuqqISK0rFKMJ5oFM2t4e3o3LpvqPsUVe05z2/hl3DVxOTvPXP7G9xwXXprd1e6BJzbCdf+BQinLjxFzzCoQ0bV+lVJXBy0QlVJXpTplCvPR7U2Y93Qn7mhZEX+vQnHRzpO8sTyee79YwabDUb5NLKQIdHjaKhS7vwfhZax4p+fBT2/7VkpdHbRAVEpd1SoUK8TbfRvwz1OduKVZ+VRnFOdtO0HPjxfx5JR1HD7r4/sAA0LgmsEwbC30+hjq90vbZuazsPNv3+allFKZoAWiUipfqFi8EO/d0og5T3akd+Oynou5xsDPaw5x7fvzeO/PrUTH+/g+wIAQaHo3OFLfN8nOObBiHHzdF77qC8c2+TYvpZS6DC0QlVL5SpUSoXx0exPeaBdC5zolPfGEZBdj5u6i03vz+GrpXpJdvn3iOY1576S83/U3jG0Hvw6Fc0fsy0nZys/Pj8aNG1OvXj0aNWrE//73v1QremRFv379sj2RNVjTv1w8lc6bb75J48aNady4MX5+frRt25bGjRszatSobB/ncp555hnq1auXZg7BzNq7dy8hISGenBs3bkxiYmLGO2bSpEmTOHz4sOfzoEGDUi1ReLXTG2KUUvlSuTAHE3u2YOmuU7w1cwv/HrLuRTwVm8h/ft1EmVAhqMIJ2teItCfB276GuW/C2q/BuKzX2q9g40/Q/klo/RgEBGfcj8o3vJfaO378OHfeeSfnzp3jtddey3JfP/30U5o5Co0xGGNwOLJ3bmjEiBGeNYvDwsJYvHhxqmMYY3C5XNnu/2Ljx4/n9OnT+Pn5ZdwYPMvyeatWrVq6yxfmhEmTJlG/fn3Kli0LwMSJE3PlOHbRM4hKqXytdbXi/PpoWz66rTHliqRMdH0k1jDwsxU8/PVqDp457/vEwktb9yYOWQTVO6fEk87DP2/AJ62s9aBVgVSyZEnGjx/P6NGjMcbgdDp55plnaNGiBa1bt2bcuHEAHDlyhA4dOtC4cWPq16/PwoULAahfvz4nT55k79691KpVi7vvvpv69etz4MAB3nvvPTp27EjDhg155ZVXPMd88803adKkCe3atWPbtm2ZytO7/2uuuYYDBw7w8MMP07x5c+rVq5eq/8qVK/PKK6/QtGlTGjRo4FnpZP78+Z4zfE2aNCE6OppevXoRExNDs2bN+OGHHzhx4gT9+vWjRYsWtGjRgsWLFwPw1ltvMXDgQNq2bcvAgQMzlXNYWJjn/dSpUxkyZAhgTbw9bNgw2rRpQ9WqVZk6daqn3bvvvkuDBg1o1KgRr7zyClOnTmXVqlUMGDCAxo0bExcXR6dOnVi1ahUAP/74Iw0aNKB+/fo899xzqY49YsQI2rRpQ6tWrTh27FimcraDnkFUSuV7DofQu0k5utUvzaQlexn9z05iEpIBa7LtuduO80in6gzukHaN11xXqh7c9RPs+gdm/weOWSstcGYPfHsr1OwGt34F/oG+z60gm/s2zH8nw2bhAE3vgV4XXWb9bRismZzyuePzcO0LWUqhatWqOJ1Ojh8/zq+//kpERAQrV67k5MmTdOvWjS5duvDzzz/TtWtXRowYgdPp5Pz5tP/Y2bFjB5MnT6ZVq1bMnj2bHTt2MG/ePMLCwujVqxcLFiwgNDSU77//nsWLFxMSEkLTpk1p1qxZpvK80H+9evUIDw/nzTffpFixYjidTq6//no2bNhAw4YNAShRogRr1qzhk08+4f3332fixIm8//77jBkzhrZt2xITE0NwcDC//fYbYWFhnrN/d955J0888QTt2rVj//79dO3alS1btgCwefNmFi1aREhISJrcdu3aRePGjQFrCb0xY8Zc9rscOXKERYsWsXXrVnr16kX//v2ZNWsWv/76K8uXL6dQoULs27ePSpUqMXr0aN5//32aN2+eqo/Dhw/zyiuvsGbNGooWLUqXLl345Zdf6N27N7GxsbRq1Yrnn3+e119/nQkTJvDSSy9lapx9TQtEpVSBERzgx5CO1ejbtBxPfDGfxYetIjE+ycUHf21n6uqD9KnspJMdyVW7DgZ3gNVfwD+vQ7x7ep6AEC0OFbNnz2bDhg1MnToVl8tFdHQ0O3bsoEWLFtx///0kJSXRu3dvTzHkrVKlSrRq1crTz+zZs2nXrh0Oh4OYmBh27NhBdHQ0ffr0oVChQoSHh9OrV69M53ah/wtLwk2ZMoXx48eTnJzMkSNH2Lx5s6dA7Nu3LwDNmjXj559/BqzC7cknn2TAgAH07duX8uXLpznGnDlzUt3fd+7cOc/ShL169Uq3OISsX2Lu3bs3DoeDunXres7uzZkzh/vuu49ChQoBUKxYscv2sXLlStq1a0dkpHX7yoABA1iwYAG9e/cmMDCQnj17es6O/vXXX5nOzdf0ErNSqsApGR7Mgw2DmDqkNXXLFPbE958+z8g1CTwwaaU9l539/KHlg/DYGuvJ58Aw6PKm7/NQecLu3bvx8/OjZMmSGGP4+OOPWbduHYsXL2bPnj106dKFDh06sGDBAsqVK8e9997Ll19+maaf0NBQz3tjDC+88AKLFy9m3bp17Ny5kwceeOCK8vTuf8+ePbz//vv8/fffbNiwgR49ehAfH+/ZHhQUBFgP5CQnW/9Ae/7555k4cSJxcXG0bdvWc+nZm8vlYtmyZaxbt45169Zx6NAhz6Vi7+NnhkjKVFjeuXnnB+TK0p0BAQGe43uPQV6kBaJSqsBqXrkY0x9rx+u96xMRkrKW8t9bj3PDBwuYuHA3yc7sPUV6RUJLWPcnDl8PEeVSb0uMhRlPQfRR3+dVkFz7ArwaleEr+qmDaS8vgxXzbpvFy8snTpxgyJAhDB06FBGha9eufPrppyQlWdM0bd++ndjYWPbt20epUqV48MEHGTRoEGvWrLlsv127duXzzz/3nH07dOgQx48fp0OHDvzyyy/ExcURHR3N9OnTs5TvBefOnSM0NJSIiAiOHTvGrFmzMtxn165dNGjQgOeee44WLVqkWyB26dKFjz/+2PP5Sh48KVWqFFu2bMHlcjFt2rQM299www188cUXnsv3p0+fBiA8PNxz1tRby5YtWbx4MSdPnsTpdPLdd9/RsWPHbOdrF73ErJQq0PwcwsBWlejRoAzv/bmN71fsxwBxSU7emLGFX9Yd4u0+De1JLrRE2tjct2DlRNgwBTq/AsaG+yZVroiLi6Nx48YkJSXh7+/PwIEDefLJJwFrCpW9e/fStGlTnE4npUqV4pdffmHevHm89957BAQEEBYWlu4ZRG9dunRhy5YtdO7cGYfDQVhYGF9//TVNmzbltttuo02bNpQuXZoWLVpk6zs0atSIJk2aULt2bSpUqEDbtm0z3Oejjz5i7ty5OBwO6tWrR/fu3dO0GTVqFI8++igNGzYkOTmZDh06MHbs2Gzl+M4779CzZ08iIyNp3rw5Z86cuWz7bt26sW7dOpo3b05gYCCdO3fm/fff595772XIkCGEhISwdOlST/syZcrw6quvcu2112KMoUePHtx8883ZytVOWiAqpRRQLDSQt/s2oJoc58e9AWw7Zp0Z2HjoHDePWcQNFf1p0TqZ0CAb/9qMOgjLPrXeJ5yDGU/RpHBtqPsFlKprX14qRzidl14/3OFw8NZbb/HWW28RHR3tmV7mnnvu4Z577knTfuPGjYSHh1OiRAk2btyYatvw4cO5//7700yDM2LECIYNG5Ymnp6YmBiio6OpXLlymv4nTZqU7j579+71vG/evDnz5s0DSHVm8OJjXFCiRAl++OGHNG1efPHFS+abXm4A/fv3p3///p7PF84CXpy39/Gff/55nn/++VTt+/XrR79+KSskXfg+ALfccgv333//Zb/TxXnkNXqJWSmlvFQv6sf0x9rxTNdaBPlbf0W6DPy5L5kuHy7g7y02TksRUR7u/gWKVUsJndsK49rD3/+FJB8vJ6iUyre0QFRKqYsE+jt49Nrq/Pl4B9pVT7nMe+hsHA9MXsWw79ZyOjbnVmTIkiod4OEl0OFZcLjvm3Qlw8L/wadtYd/Sy++vlFKZkCcKRBG5RUQ2iYhLRJpftO0FEdkpIttEpKtdOSqlCp7KJUL56oGWfHhbI8JTnmHht/WH6fLhfFYetekJxIBguG4EDFlEVOE6KfHTu+CL7jDreethFqWUyqY8USACG4G+wALvoIjUBW4H6gHdgE9EJHNr7iilVA4QEfo0Kc/b7QvRt2nKE8UnYxIZsy6BR75ZzcmYBHuSK1mbtU3egp4fQdCF6XoMLP8U1n9nT05XsdyY1kSpnOarn9M8USAaY7YYY9Jb1+dm4HtjTIIxZg+wE2jp2+yUUgrCAoUPbm3M5/c2p3ThlDWSZ/57lBs+mM+v6w7ZU2CIA5rfB48sg+o3WLFyzaHZfb7P5SoWHBzMqVOntEhUeZoxhlOnTl32gaacktefYi4HLPP6fNAdU0opW1xXuxSznyzGm79v4YdVBwA4cz6J4d+vo0lJP+o1i6ekVwHpMxHlYMCPsO5bKNcMHBddbElOAP+g9PdVlC9fnoMHD3LixIks7RcfH09w8JX9985qH5lpn1GbS23PSvziWE6MRVYVhPG/OBYcHExsbO7fQiK++teSiMwBSqezaYQx5ld3m3nA08aYVe7Po4Flxpiv3Z8/A2YZY6Ze3ImIDAYGA0RGRjabMmVKrnyPS4mJiUm1AHhu95HZtpdrl9VtVxLLTb4e+6y09/X4+3rsc+qYuTH+GbW51PasxFceiOH7XQ5Oxaf8PVrIHwbUCaRNWf9UKzbklkyNnXHSZO0IYkMrsqvavTj9C2W9jyy298X4689/9tvo+Ge/D1+Pf2Zj11577WpjTOqFoa+EMSbPvIB5QHOvzy8AL3h9/hNonVE/NWvWNL42d+5cn/aR2baXa5fVbVcSy02+HvustPf1+Pt67HPqmLkx/hm1udT2rMTnzp1rouOTzIhpG0yl535P9Xpw8kpzIjo+wzyvVKbGbskYY14pbL0+qG/M7gVZ7yOL7X01/lnNK6cV9J//rOaV0wrC+Gc2BqwyOViT5Yl7EC/jN+B2EQkSkSpADWCFzTkppZRHWJA/b/RuwLcPXkNkSMoZw9mbj9H1wwXM3pQHlsQ7si7lfdR+mNwT/nhR501USl1SnigQRaSPiBwEWgMzRORPAGPMJmAKsBn4A3jUGJP7d2YqpVQWtalWgtfbhjCwVSVP7FRsIoO/Ws3TP67nXHySfcn1GQf9P4fgIimxZWNgXEc4vNa2tJRSeVeeKBCNMdOMMeWNMUHGmFLGmK5e2940xlQzxtQyxmS86rdSStkk2F94vXd9Jt/fklKFUx4Imbr6IN0/WsiSXSftSUwE6vdL/aQzwMltMLEzlfZ+D04bC1ilVJ6TJwpEpZTKTzrWjGT24x25uXFZT+zQ2TjunLCc16ZvIj7JpgshhctYTzr3/AgCQq2YK5kqe7+Dz7rAie325KWUynO0QFRKqVwQUSiAkbc3YcydTSlSKGUZli8W76XHqIWsP3DWnsRErHkTH14EFVqlxA+vgZUT7MlJKZXnaIGolFK5qEfDMsx+vAPX1S7pie06EUvfT5fwwV/bSXK67EmsWFW4byZ0fg2X+EPRKtD5VXtyUUrlOVogKqVULitZOJjP7mnOO30bEBpoTWDtdBlG/b2D/mOXsuekTesmO/yg3eOsbvY/6yGWwNDU2/W+RKUKLC0QlVLKB0SE21tWZNbwDrSsXMwTX3/gLD1GLeT7FfttW+YtNqwylGuadsMvj8BPD0J8lM9zUkrZSwtEpZTyoYrFC/Hd4FY83702AX7WvInnE508//O/PPTVak7HJtqcoduGH+HfKdbr03awb4ndGSmlfEgLRKWU8jE/hzCkYzWmPdKW6iVTlsuavfkY3T5awILtWVsPOFccWp3yPmo/TOoBf/9XLzsrVUBogaiUUjapXy6C6UPbpZpc+3h0And/voL/Tt9s33Q4AN3fgVsmp0yubVyw8H/wWRdCzh+2Ly+llE9ogaiUUjYKCfTj9d71+fze5pQIC/TEP1+8h95jFrP16Dn7kqvXGx5eAlU6pMQOr6H5qsdh9SSw6Z5JpVTu0wJRKaXygOtql2LW8NTT4Ww9Gk2v0Yv5bNEeXC6birGIcjDwV7jhdXBY8zn6uRJg+nD44S6IPWVPXkqpXKUFolJK5RGR4UF8dk9zXu9dn+AA66/nxGQXr/++mXu+WMGxc/H2JOZwQNth8ODfUKJWSnzr7zB7hD05KaVylRaISimVh4gIA1tV4vfH2lGvbGFPfOGOk3T7aAF/bDxqX3JlGsHgeRwqe6P1uVBx6PyaffkopXKNFohKKZUHVS8ZzrRH2jKkYzXEmg2HM+eTGPL1al74eQPnE5PtSSywEDtqPgR3/gh9xkF4KXvyUErlKn+7E1BKKZW+QH8Hz3evTceakTw5ZR1HoqxLzN+tOMCKPaf5+I50Jrf2lZpd0o/P/z8IKQqmum/zUUrlKD2DqJRSeVzrasX5Y3gHejQs44ntOhFL7zGLmb03ybYVWNLYswDmvgUzn6b+xrf0ARalrmJaICql1FUgolAAo+9owv/1a0hIgLWec6LTxbdbE7l/0kpOxiTYnCGw5GPAKlZLnFoBY9taRaNS6qqjBaJSSl0lRIRbW1Tg92GpH2CZu+0E3UcuZOEOm1dgufUruGZIyufoIzC5l67AotRVSAtEpZS6ylSLDOPnR9owqF0VT+xEdAIDP1vB2zO3kJjssiexgGDo/i7c8QOJARcKWGOtwPJ5Nzi9x568lFJZpgWiUkpdhYL8/XipZ12ebBaUagWWcQt203/sEvacjLUvuVrdWNV8JFTtlBI7tArGtocNP9qWllIq87RAVEqpq1jDSH9mDe9Ax5qRntiGg1H0GLWQqasP2vYAS2JQMbhrmjVPosM9YUZiNPw8COa9a0tOSqnM0wJRKaWucpHhQXxxbwte6lGHAD9r0sTziU6e/nE9w79fx7l4m+7/czig3eNw/2wo6r4c7h9irfGslMrTtEBUSql8wOEQBrWvyrRH2lK1RKgn/tv6w/QYtZA1+8/Yl1z5ZjBkITS8Hbq/A5G1Mt5HKWUrLRCVUiofqV8ugumPtePW5uU9sQOn47hl7FLGzN2J02XTnIlB4dB3HDS9J+227X9C9DHf56SUuiQtEJVSKp8JDfLn//o3YvSdTQgPtu7/c7oM7/25jQETl3HUvSKLLS6sG3jB8S0w5W5rzsQdf9mTk1IqDS0QlVIqn+rZsCwzh7WnWaWintiy3afpNnIBszcdtTEzN5cTfnoQkuMh9gR8059qOydCch6Y9FupAk4LRKWUyscqFCvED4NbMez6GjjcJ+/Onk9i8Fer+c8vG4lPctqXnMMPur4BYaU9oQoHp8PE6+HkDvvyUkrljQJRRN4Tka0iskFEpolIEa9tL4jIThHZJiJdbUxTKaWuSv5+Dp68oSbfPdiKMhHBnvhXy/Zx8+jFHIqxaWJtsOZKfHgx1OyWEjv6L4zrAGu+hLyyzrRSBUyeKBCBv4D6xpiGwHbgBQARqQvcDtQDugGfiIifbVkqpdRV7JqqxZk1vD3d6qWcsdt2LJrXlsTx/Yr9ts2ZSGgJuON76P4eLgmwYknn4bfHYOr9EB9lT15KFWB5okA0xsw2xiS7Py4DLjx+dzPwvTEmwRizB9gJtLQjR6WUyg+KFArk07ua8lafBgT5W78CEl3w/M//8th3a+2bM1EErhnM6mbvQwmvaXA2/Qxj2xN+Ti85K+VLeaJAvMj9wCz3+3LAAa9tB90xpZRS2SQi3HlNRX4b2o6apcI88d83HKHHqIWstXHOxNiwyjB4XurpcM7ux89p45PXShVA4qtLCiIyByidzqYRxphf3W1GAM2BvsYYIyKjgWXGmK/d2z8DZhljpqbT/2BgMEBkZGSzKVOm5NI3SV9MTAxhYWEZN8yhPjLb9nLtsrrtSmK5yddjn5X2vh5/X499Th0zN8Y/ozaX2p6VeH4Y/wSn4ct/Y1l8NGX6GT+BfjUD6FY5AMfF09Jk8pg5Mf6RxxdRa9sYDpa/iY2RvfLl+GenD/35v3xeud2Hr8c/s7Frr712tTGmeUb5Z5oxJk+8gHuBpUAhr9gLwAten/8EWmfUV82aNY2vzZ0716d9ZLbt5dpldduVxHKTr8c+K+19Pf6+HvucOmZujH9GbS61PSvx/DT+v68/bOq//Iep9NzvntfAz5ab4+fis3XMHBv/M/uNSU5KG487m6/GP6fb689/7vXh6/HPbAxYZXKwLssTl5hFpBvwLNDLGHPea9NvwO0iEiQiVYAawAo7clRKqfysR8MyzBzensYVinhiC7afoPvIhSzacdK+xIpUAD//1LFzR+Dj5lTZ/RU4bbpnUql8Lk8UiMBoIBz4S0TWichYAGPMJmAKsBn4A3jUGGPjpF1KKZV/VShWiB+HtGZIx2qe2MmYBAZ+vpz/+2MrSU4bp8O5wOWEaYMh9jiV9k+FL26Es/vtzkqpfMc/4ya5zxhT/TLb3gTe9GE6SilVYAX4OXi+e23aVCvOk1PWcTImEWPgk3m7WLr7FKNub2JvgokxIF7nNg6ugLHtoNfHQIRtaSmV3+SVM4hKKaXykA41I5k5vD3ta5TwxNbuP8uNoxay8mjyZfbMZcERcNc0uP4VPHdJxUfBlLupsf1TSIqzLzel8hEtEJVSSqWrZHgwk+9ryfPda+PvXqcvOj6ZMesSeHHav/Yt0+dwQPsnWdvkbYio6AmXO/wHTLgOjm+1Jy+l8hEtEJVSSl2SwyEM6ViNKUNaU75oiCf+7fL93Dx6MduPRduW27mI2jBkIdTplRI8vhnGd4LVk3WZPqWugBaISimlMtS0YlFmDGtPjwZlPLFtx6LpNXqRvcv0hRSBW7+Enh/idARaseQ4mD4M9i2xJyel8gEtEJVSSmVKREgAo+9swr31Aj3L9MUnuXj+538Zavcyfc3vZ03T9yGythVrPAAqt7UnH6XyAS0QlVJKZZqI0KlCQJpl+mZsOMKNI+1epq8SPDgXOjwD3f/PtjyUyg+0QFRKKZVltUqH8+uj7bjzmpSHRA6eieOWsUsZO38XLrsuOQcWgutegqCLljFLiIHpj0PMCVvSUupqowWiUkqpbAkJ9OOtPg0Yc2dTwoOtaXWTXYZ3Zm3lg1UJnIhOsDlDLzOfhtVfwNi2sGuu3dkoledpgaiUUuqK9GhYhpnDUi/Tt/GUk+4jF7JwRx44Y3dkPaz/znofcwy+6gN//1eX6VPqMrRAVEopdcUuLNP3cKfUy/Td/fkK3rV7mb4yjeCunyA00h0wsPB/ukyfUpehBaJSSqkcEeDn4Llutfny/pYUds84Ywx8Om8Xt45byoHT5+1LrnpnGLIYqnZKiV1Ypm/zr7alpVRepQWiUkqpHNWhZiT/bRuS7jJ9MzYcsS+x8FKeZfoQPyvmXqaP35/UZfqU8qIFolJKqRxXJMiR7jJ9j367hhen/Uui06annN3L9HH/H6mW6WPVZzDheog5bk9eSuUxWiAqpZTKFReW6fsxnWX6XlsaZ+syfVRomXaZvrBIKFTi0vsoVYBogaiUUipXNUlnmb5DMYZeoxfxXR5Zpo+ICtBnnHWGUSmlBaJSSqncd2GZvrf7Nki1TN8LP//LY3lgmT4eWw3hpVNvcybD0Y325KWUzbRAVEop5RMiwh0tKzL9sXaUCxNP/PcNR+g5ahHrD5y1Lzn/oLSx+e/C+I6w5GNw2ThNj1I20AJRKaWUT9UsFc7LrUO4o2XKQyL7T5+n36dLmLUnCZfLpkvO3vYsgAXvgSsZZr8E390GsSftzkopn9ECUSmllM8F+Qlv923A6DubEB6UskzfD9sSeWDySk7HJtqbYJGKUK5pyucds605E/cstC8npXxIC0SllFK26dmwLDOGtadR+QhPbO62E3QfuYBlu0/Zl1jRynD/n9BmWEos+ghMvgnmvgUup22pKeULWiAqpZSyVcXihfhxSBsebF/FEzt2LoE7Jyzjw7+247TrkrNfAHR5HQZMhULF3UFj3Zs4+SaIOmRPXkr5gBaISimlbBfo72BEj7o80SyIYqHWOn0uAyP/3sGdE5ZxJt7Gh0Rq3GAt01e5fUps32IY247iJ1fal5dSuUgLRKWUUnlGo0h/Zg5rT6uqxTyx5XtO8/LiOOZutXGVk8Jl4O5f4doRIO5fnXGnqbLnK2s6HKXyGS0QlVJK5SmlI4L5ZlArHu9cA/cqfUQnwX2TVvLmjM0kJtt0NtHhBx2fhXt+h/Cy4B/C5rpPg5+/PfkolYuyVCCKSCURKeF+30pEnhaRPrmTmlJKqYLKzyE83rkm3z7YilKFU+YonLBwD7eMXcL+U+ftS65yWxiyCG7/hvOhFTNur9RVKNMFooj8B/gHWCYibwAfASWAYSLyUa5kp5RSqkBrVbU4s4Z3oFGknye2/mAUPUYtZPkRGy/thhaH6tenja+eDL8Ng0QbC1ilckBWzovfAdQBCgH7gdLGmPMi4g+su5IkROR14GbABRwH7jXGHBYRAUYCNwLn3fE1V3IspZRSV5dioYE83jSIXf6VePePrSQ5DdEJyXy6PpmzQRt4uWc9QgL9Mu4otx3fArOeg+Q4OLACbvkCStaxOyulsiUrl5jjjTGJxpizwC5jzHkAY0wycKUzmr5njGlojGkM/A687I53B2q4X4OBT6/wOEoppa5CIsKg9lWZOqQNFYsV8sS/W3GAm8csYvuxaBuzc/v3R6s4BDixBcZfa51RNHlgZRilsigrBWIREekrIv2ACPd7z+crScIYc87rYyhw4f+mm4EvjWWZO4cyV3IspZRSV69GFYrw+7B29GyY8qtg+7EYeo1exPwDSRg7i7Hr/gM3jQL/EOtzchxMHwY/PQDx5y6/r1J5TFYKxPlAT6CH1/sLr/lXmoiIvCkiB4ABpJxBLAcc8Gp20B1TSilVQBUODuDjO5pwX71AggOsX2PxSS6+2JTIsO/XER2fZE9iItDsHhg8FyK9Li1v/AnGdYBDeoeUunpIZv+1JSJPeX00gHi9xxjzQQb7zwFKp7NphDHmV692LwDBxphXROR34B1jzCL3tr+B54wxq9LpfzDWZWgiIyObTZkyJVPfK6fExMQQFhbmsz4y2/Zy7bK67UpiucnXY5+V9r4ef1+PfU4dMzfGP6M2l9qelbiOf/bb5NT4R5lCjFkfz+GYlN9lJQsJDzcKokpE7t+XeKl8Hc4Equ+cSNkjsz0xl/izu+rdHCzfyyomM+gjq8fMShv9+c9+H74e/8zGrr322tXGmOYZ5Z9pxphMvYBX3K9vgR3A+8D/gO3A15ntJxPHqQhsdL8fB9zhtW0bUCajPmrWrGl8be7cuT7tI7NtL9cuq9uuJJabfD32WWnv6/H39djn1DFzY/wzanOp7VmJ6/hnv01Ojv/5hGTz3NT1ptJzv3te1V+cYSYu3G1cLleGuV6JDMfi36nGvFXemFcKp7x+HZq1PrJ6zEy00Z//7Pfh6/HPbAxYZXKoFjPGZP4SszHmNWPMa0B5oKkx5mljzFNAM3dRl20iUsPr483AVvf734C7xdIKiDLGHLmSYymllMpfQgL9eKdfQ4Y0CiIsyJqcI8lpeP33zQyavIrTsVf6HOUVqN8PHloAZZu4AwINbrEvH6UyKTsrqZQi9VPLie7YlXhHRDaKyAagCzDcHZ8J7AZ2AhOAR67wOEoppfKpVmX8mTGsHQ3Lpzw3+ffW49w4ciHLd5+yL7FiVeD+2dB6KHR8Dqp0sC8XpTIpO+sDfQmsEJFp7s+9gUlXkoQxpt8l4gZ49Er6VkopVXBUKh7K1CFtePePrXy2aA8AR8/Fc8eEZQy/viZDr6uOn0My6CUX+AdC1zfTnfKmcNRWOFfLWu9ZqTwiy2cQjTFvAvcBZ9yv+4wxb+d0YkoppVR2BPo7+E/Punx2T3OKFgoAwGXgwznbuWvico6di7cvObmoOD13hPob34KxbWHHX/bkpFQ6snOJGWPMGmPMSPdrbU4npZRSSl2p6+uUYubw9rSsUswTW7r7FN1HLmTutuM2ZuZmDPzyMIFJUXD+FHzTH/4cAck23jOplFu2CkSllFLqalAmIoRvB13D8OtreE7enY5N5L4vVvLWzC0kJrvsS04E2j9FQmBKAcvS0fBFNzi9x768lEILRKWUUvmcv5+DJ26oybeDWlEyPMgTH79gN7eMW8qB0+ftS65Ke1Y1/whqdEmJHVptTay9adold1Mqt2mBqJRSqkBoXa04s4a3p1OtSE9s/YGz3DhyITM22DeDWlJgBNzxA3R5AxzuZ0cTzsGP98L04ZAUZ1tuquDSAlEppVSBUTwsiM/vacGLN9bG3/00c3RCMo9+u4YXp/1LfJLTnsQcDmjzmDUdTpFKKfHVk2DCdXB86yV3VSo3aIGolFKqQHE4hMEdqjH14TZUKBbiiX+7fD+9xyxm5/Fo+5Ir3wyGLIR6fVJixzfDkXW2paQKJi0QlVJKFUiNKxRhxrD29GiQMv/g1qPR3PTxYqasPHBhiVffC46A/l9Az4/APxga3QmNbrcnF1VgaYGolFKqwCocHMDoO5vwVp8GBPlbvxLjkpw8+9MGHv9hHTEJyfYkJgLN74PB8+DG99Jud9qUlyowtEBUSilVoIkId15TkV+HtqV6yTBP/Nd1h+k5aiH/HoyyL7mSdSAoLFXILznOesp52afprsyiVE7QAlEppZQCapcuzG9D23Jb8wqe2N5T5+n76WI+X7THvkvOF6mxYzwc3wR/PA/f3QHnT9udksqHtEBUSiml3AoF+vNu/4aMvL0xoYF+ACQ5Df/9fTMPfrmaM7E2r3KSEENo7L6Uz9tnwdh2sG+JfTmpfEkLRKWUUuoiNzcux4xh7alfrrAnNmfLMW4ctZAVe2w8YxcUxpqm70KrR1Ji5w7BpB4w/z1w2TRNj8p3tEBUSiml0lG5RCg/PdyG+9pW9sSORMVz+/ilfPz3Dpwuey45G0cAdHsb7vgeQoq6gy6Y+wZ81Ruij9qSl8pftEBUSimlLiHI349XbqrHhLubU6RQAAAuA//7azsDP1vO2Xgb13Ku1R2GLIKKrVNiexbAp20pdmqNfXmpfEELRKWUUioDN9Qtxcxh7WlRuagntmTXKf6zJI7520/Yl1hEebjnd+jwLGCtDMP5kzT89zXYPd++vNRVTwtEpZRSKhPKFgnhuwdb8dh11RF3LRadCPd8voK3Z20hyWnT2UQ/f7huBNz9K4SVAuBMkYZQuZ09+ah8QQtEpZRSKpP8/Rw81aUW3zxwDZHhQZ74uPm7uWXsUg6cPm9fclU7wpDF0OBWttR5Ehx+9uWirnpaICqllFJZ1KZ6CWYNb0/9EilF2LoDZ7lx1EJm/XvEvsTCIqHfBBKDiqaOO5NhyceQFGdPXuqqowWiUkoplQ0lwoJ4slkQL3Svjb/DuuYcHZ/Mw9+s4aVf/iU+KQ9NOTP/HZj9EkzsDCe2252NugpogaiUUkplk0OEhzpWY8qQ1pQvGuKJf71sP73HLGbn8Rgbs3M7+i8seN96f2wjjO9I6SN/6zJ96rK0QFRKKaWuUNOKRZkxrD3d65f2xLYejeamjxfx46oD9i7TV6o+9Pgf+LnvmUw6T+1to2DaQ5AQbV9eKk/TAlEppZTKAREhAXwyoClv9K5PoL/16zUuyckzUzfw5JT1xCQk25OYCLR4AB78B0rUTIlv+AHGdYQj6+3JS+VpWiAqpZRSOUREuKtVJX59tC3VIkM98WlrD3HTx4vYeCjKvuRK14fB86DxgJTY6V3WfYnLx+klZ5WKFohKKaVUDqtTpjDTH2tH/2blPbE9J2Pp+8kSJi3eY98l58BQ6P0JW2o/AYFhVsyZCLOehe8H4J+UB+6ZVHmCFohKKaVULigU6M/7tzTiw9saERpoTYeT6HTx6vTNDP5qNWfPJ9qW27HSnWDwfCjdMCV4Zg8uR4BtOam8RQtEpZRSKhf1aVKe6Y+1o17Zwp7YX5uPcePIhazae9q+xEpUh0FzoOVDEFAI+n+Byy8o4/1UgZCnCkQReUpEjIiUcH8WERklIjtFZIOINLU7R6WUUiqrqkaG8fMjbbi3TWVP7HBUPLeNX8b0XYm4XDZdcvYPghv/D4augpK1U28zBuLO2JOXsl2eKRBFpALQBdjvFe4O1HC/BgOf2pCaUkopdcWC/P14tVc9xg9sRkSIdSnX6TL8tCOJuz9fwfHoePuSiyiXNrbmSxjdAnb94/t8lO3yTIEIfAg8C3j/M+pm4EtjWQYUEZEytmSnlFJK5YAu9Uozc3h7mldKWQ5v0c6T3DhyIQu2n7AxMy/Ht8Cs5yD2BHzVlyq7vwJnkt1ZKR/KEwWiiNwMHDLGXDwZUznggNfng+6YUkopddUqVySE7we3Yui11RF37GRMInd/voJ3/9hKktNla37EnYWgcPcHQ6X9U2FSDzi7/3J7qXxEfPWovYjMAUqns2kE8CLQxRgTJSJ7gebGmJMi8jvwjjFmkbuPv4HnjDGr0ul/MNZlaCIjI5tNmTIll75J+mJiYggLC/NZH5lte7l2Wd12JbHc5Ouxz0p7X4+/r8c+p46ZG+OfUZtLbc9KXMc/+210/FOsOhjDl9sdnEtM+X1cvYiDIY2CKBGS9jyOr8Y/IPEsdbZ8SLEz6zzbk/xD2VbrMU5Gts4345/Xf/4zG7v22mtXG2OaZ5R/phljbH0BDYDjwF73KxnrPsTSwDjgDq+224AyGfVZs2ZN42tz5871aR+ZbXu5dlnddiWx3OTrsc9Ke1+Pv6/HPqeOmRvjn1GbS23PSlzHP/ttdPxT93H8XLy5a+IyU+m53z2vBq/8YWb9ezhbx8yx8Xc6jVn4gXG9UsSYVwqnvH5/ysyf82eW88ppBeHnP7MxYJXJwfrM9kvMxph/jTEljTGVjTGVsS4jNzXGHAV+A+52P83cCogyxhyxM1+llFIqp0WGBzH5vpY81602fg7rovO5+GSGfL2Gl3/dSHyS057EHA5o9wRrm7wNERVS4isn0GTts3Bypz15qVxne4GYgZnAbmAnMAF4xN50lFJKqdzhcAgPd6rGlIdaU65IiCf+5dJ99PlkCbtO2LfKybmI2jBkIdTu6YmFx+yB724Dl03Fq8pVea5AdJ9JPOl+b4wxjxpjqhljGph07j1USiml8pNmlYoyc1h7utVLuW1/y5Fz3PTxIn5afdC+xEKKwm1fw43vg18QBoGeH4LDz76cVK7JcwWiUkopVdBFFArg07ua8vrN9Qj0t35Vn0908tSP65mwIYHYhGR7EhOBlg/CoDnsqDEYqnSwJw+V67RAVEoppfIgEWFg68pMe6QNVSNDPfHFh5O56eNFbDocZV9yZRpyuNyNaeM758CKCdYqLOqqpgWiUkoplYfVKxvB9KHt6Ne0vCe2+2QsfT5ZwpdL916Y5cN2gQmn4OeHYObTMGWgLtN3ldMCUSmllMrjQoP8+d+tjfjg1kYEuW/5S0x28fKvmxjy9Wqiztu/ykmlfT/C+ZPWhy3TYWx7OLDC3qRUtmmBqJRSSl0l+jYtz6utQ6hTprAn9uemY9w4aiGr9522MTPYVe1+aDk4JRB1AD7vBgs/AJfNK8OoLNMCUSmllLqKlAlzMO2RNtzTupInduhsHLeOW8Yn83bictlzydnlFwg3vmc96RwcYQWNE/5+Db7pBzHHbclLZY8WiEoppdRVJjjAj9durs/Yu5pRONgfAKfL8H9/bOOeL1YQlWDjfYl1boIhi6B8y5TYrn9gbDvYPc+2tFTWaIGolFJKXaW61S/NzOHtaVapqCe2cMdJ/rM4jkU7TtqXWJGKcN9MaPckYK0MQ8wx+LI3LHjfvrxUpmmBqJRSSl3FyhctxPeDW/FIp2qIuxY7l2gY+Ply3vtzK8lOm+7/8wuAzq/AwJ8hNNIdNBBR/rK7qbxBC0SllFLqKhfg5+DZbrX58v6WlAgLBKypCMfM3cVt45dx6GycfclVuw6GLIaqnaDRndDodvtyUZmmBaJSSimVT7SvEcnM4e2pVzzl1/vqfWe4ceRC/tx01L7EwkvBXdOspfkudmYfJCf4Pid1WVogKqWUUvlIyfBgnmoezDNda+HnsK45R8Ul8dBXq3n1t00kJDvtSczhgIDg1LGEGPi6L0zsDKd22ZOXSpcWiEoppVQ+4xDh0Wur88PgVpSNSCnKJi3ZS99PlnA0No/MSzjzGTi1E45ugHEdYMMUuzNSblogKqWUUvlU88rFmDm8PV3qlvLENh0+xytL4pi29qCNmWHdJFm2CfhZ90ySGAM/Pwi/PAqJsfbmprRAVEoppfKzIoUCGTewGa/1qkegn/VrP8EJT/ywnqemrCc2IdmexETgmsEwaA4Uq5YSX/c1jO8ERzfak5cCtEBUSiml8j0R4Z42lZn2aBuqlAj1xH9ac5CbRi9iy5Fz9iVXphE8NB8a3pYSO7kdJlwHKz+zzjQqn9MCUSmllCog6pWNYPpj7WhT1t8T230ilpvHLOarZfswdhVjQeHQdzz0/hQCClkxZwLMeBJ+vAfiztqTVwGmBaJSSilVgIQF+TO4YRDv39KIkAA/ABKTXfznl42MWZdAVFySfck1vhMGz4dS9VNim3+F9d/Zl1MBpQWiUkopVQD1b1ae6Y+1o3bpcE9s1TEnPUYtZO3+M/YlFlnTui+x+QPW5yodoeVg+/IpoLRAVEoppQqo6iXD+OXRttzVqqIndvBMHLeMXcq4+btwuWy65BwQAj0/gNu+hr4TwOFnTx4FmBaISimlVAEWHODHG70b8OmApoS4b01MdhnenrWV+yat5GSMjauc1LnJWoXFmzMZptwDu+fbk1MBoQWiUkoppejeoAz/bRNC4wpFPLH5209w48iFbD5l0+or6Zn/Lmz+Bb68mcp7vrEKRpXjtEBUSimlFACRhRz8OKQ1D3Ws6okdj07gvZXxfDB7G8lOm1dgiT8Haya7Pxgq75sCk2+CqEO2ppUfaYGolFJKKY8APwcvdK/DpPtaUDzUWuXEAKP+2cmdE5ZzJCrOvuSCC8NDC6wHVy7YvwTGtoVts+zLKx/SAlEppZRSaXSqVZJZw9vTplpxT2zF3tN0H7mQOZuP2ZdYeGkYOA2uewlzoYyJOwPf3Q5/vADJNt4zmY9ogaiUUkqpdJUsHMxXD1xD3xoBOMSKnT2fxKAvV/HtlgQSkm26N9HhBx2eYV3jN6FwuZT4sk/gsy5wapc9eeUjeaJAFJFXReSQiKxzv2702vaCiOwUkW0i0tXOPJVSSqmCxs8h9KoWyPeDW1MmItgTn70vmf6fLmXvyVjbcosqUheGLIJaN6YEj6yDcR3h4Crb8soP8kSB6PahMaax+zUTQETqArcD9YBuwCciopMhKaWUUj7WskoxZg5rT+c6JT2xfw9F0fPjRfy6zsaHRAoVg9u/hW7vgCPAihWpAKXq2ZdTPpCXCsT03Ax8b4xJMMbsAXYCLW3OSSmllCqQioYGMuHu5rzcsy5+7kvOMQnJDP9+HZ9vTCAu0aZLziLQ6mEY9Je1TF//L6zJtlW25aUCcaiIbBCRz0WkqDtWDjjg1eagO6aUUkopG4gI97erwn9aBVOpeCFPfMHBZHqNXsS2o9H2JVe2CTy0EErWTh03Bnb9Y/2pMkWMjwZLROYApdPZNAJYBpzEepL+daCMMeZ+ERkNLDPGfO3u4zNgljFmajr9DwYGA0RGRjabMmVK7nyRS4iJiSEsLMxnfWS27eXaZXXblcRyk6/HPivtfT3+vh77nDpmbox/Rm0utT0rcR3/7LfR8c9+H3lp/P2CQ5m8KYFlR1LOHAY4YECdQDqW90dEMvo6VySzY1fm8GxqbR/D8ch2bKv1CE7/0Cz3kZX2OTn+mY1de+21q40xzTPKP9OMMXnqBVQGNrrfvwC84LXtT6B1Rn3UrFnT+NrcuXN92kdm216uXVa3XUksN/l67LPS3tfj7+uxz6lj5sb4Z9TmUtuzEtfxz34bHf/s95HXxt/lcpnvV+wzNV743VR6LuX16DerTVRcYoa5XolMjd3xrca8XtKYVwpbr48aGnNwVdb6yOIxc3L8MxsDVpkcrMfyxCVmESnj9bEPsNH9/jfgdhEJEpEqQA1gha/zU0oppVT6RITbWlTkldYh1CyVclbr9w1H6DlqEesPnLUvOYAiFaHR7Smfz+yFz7rCktHgsnllmDwsTxSIwP+JyL8isgG4FngCwBizCZgCbAb+AB41xuShBSGVUkopBVAu3MGvj7bjjpYVPbH9p8/Tf+wSJi7cfeFKoO8FhMBNI60HV4IKWzFXEsweAd/dRkDiOXvyyuPyRIFojBlojGlgjGlojOlljDnite1NY0w1Y0wtY4yuo6OUUkrlUSGBfrzdtwEf39GE8CB/AJKchjdmbOGByas4HZtoX3L1+1rL9JVtmhLbMZvmq4bD3kX25ZVH5YkCUSmllFL5x02NyjJjWHsalo/wxP7ZepwbRy5k+e5T9iVWrArc/ye0HuoJBSWehsk3wbx3wKUXKS/QAlEppZRSOa5i8UJMHdKGQe2qeGJHz8Vzx4RljJyzA6fLpkvO/oHQ9U24cwqEFLNixgWrvoD4KHtyyoO0QFRKKaVUrgj0d/BSz7p8fm9zihayVjlxGfhwznYGTFzGsXPx9iVXsys8vJizEfUBgX4TrFVZFKAFolJKKaVy2XW1SzFreAeuqZJSgC3bfZruIxcyd9tx+xIrXJZ1jf8L9/wGVTqk3V6An3LWAlEppZRSua50RDDfPtiK4dfXwOGeP/t0bCL3fbGSN2dsJjHZpmJM/NIvDnfOgc+7WNPiFEBaICqllFLKJ/wcwhM31OSbQa0oVTjIE5+wcA+3jFvK/lPnbczOS/RR+PkhOLgSxraHTdPszsjntEBUSimllE+1rlacmcPac22tSE9s/YGz9Bi1kBkbjlxmTx/Zvwziz1rvE87Bj/fC9MchKc7GpHxLC0SllFJK+VzxsCA+u6cFI26sg7/7mnN0QjKPfruGF6f9S3ySjVPO1OsN98+GIpVSYqu/gAnXUyj2gG1p+ZIWiEoppZSyhcMhPNihKlMfbkOFYiGe+LfL99N7zGJ2Ho+2L7nyzWDIQqjbOyV2fBPNVj8Fa74Cu1aG8REtEJVSSillq8YVijBjWHt6NCjjiW09Gs1NHy9mysoD9i3TFxwBt0yCnh+BfzAAfq4E+G0o/PwgJNhYwOYyLRCVUkopZbvCwQGMvrMJb/VpQJC/VZ7EJTl59qcNPP7DOmISku1JTASa3wcP/gMlaqXE//0Rvuieb6fC0QJRKaWUUnmCiHDnNRX5dWhbqpcM88R/XXeYnqMWsvGQjSudlKoHg+dypHTnlFjrx8CRP0up/PmtlFJKKXXVql26ML8Nbcutzct7YntPnafvJ0v4YvEe+y45B4ayrfZj0O8zaDkYGt1mTx4+oAWiUkoppfKcQoH+/F//Roy8vTGhgX4AJDpdvDZ9M4O/Ws3Z84n2JdegP9z4Xtr40Y2wb6nv88kFWiAqpZRSKs+6uXE5fh/WnvrlCntif20+xo0jF7L9jI1T4VwsIcaaL3FSDyrumwKuPJRbNmiBqJRSSqk8rUqJUH56uA33tqnsiR2OiuedFfGM/mcHTlcemHJmzqtwagcYJ1X3fANf9YHoY3ZnlW1aICqllFIqzwvy9+PVXvWYcHdzihQKAMBl4P3Z27n78+Ucj463N8F2j0PF1imf98yHsW1h59+2pXQltEBUSiml1FXjhrqlmDmsPS0qF/XEFu88xY0jFzJ/+wn7EosoD/f8Dh2ewWCtDEPsCfi6r3V20ZlkX27ZoAWiUkoppa4qZYuE8N2DrbipWgDirsVOxiRyz+creGfWVpKcNs1N6OcP173E+kavQViplPiiD+GLG+HsfnvyygYtEJVSSil11fH3c9CvRiBfP3ANkeFBnvjY+bu4bdxSDp45b1tuZ4s2giGLoNp1KcGDK2BsO9gy3ba8skILRKWUUkpdtdpWL8HMYe1pX6OEJ7Zm/1luHLmQPzYesS+xsJIw4Cfo/CqINU0P8VFwYqt9OWWBFohKKaWUuqpFhgcx+b6WPNetNn4O65rzufhkhny9hpd/3Uh8kk1Tzjgc0O4JuP8PiKgIVTpCuyftySWLtEBUSiml1FXP4RAe7lSNKQ+1plyREE/8y6X76PPJEnadiLEvuQotYcgCawUWh1/qbYn2XQq/HC0QlVJKKZVvNKtUlJnD2tOtXmlPbMuRc9z08SJ+Wn3QvsRCikJYZOqYM9l6ynnaEGui7TxEC0SllFJK5SsRhQL49K6mvH5zPQL9rVLnfKKTp35cz5NT1hGbkGxzhm7z34H9S2H9dzC+E6Exe+zOyEMLRKWUUkrlOyLCwNaVmfZIG6qWCPXEf15ziJtGL2Lz4XM2ZgcYA+e8HqI5tYNmq5+BFROsbTbLMwWiiDwmIltFZJOI/J9X/AUR2Ski20Skq505KqWUUurqUq9sBNMfa0ffpuU8sd0nYun9yWK+WroXY1cxJgK9x0DvsRBgFbAOkwQzn4YpAyHujD15ueWJAlFErgVuBhoZY+oB77vjdYHbgXpAN+ATEfG7ZEdKKaWUUhcJDfLng1sb879bGlEo0CojEpNd/OfXTYxel0DUeRtXOWl8Bzw0H0o1SIltmQ5jO8CBFballScKROBh4B1jTAKAMea4O34z8L0xJsEYswfYCbS0KUellFJKXcX6NSvP9MfaUadMYU9s9TEnN45ayOp9Np6xK1EDBs3hUNkbU2JR++HzblTY/xO4fL8yTF4pEGsC7UVkuYjMF5EW7ng54IBXu4PumFJKKaVUllWLDGPaI224u3UlT+zQ2ThuHbeUT+ftwuWy6ZJzQDA7aj4Et34FwRFWzDiptvtLWDHO5+n4++pAIjIHKJ3OphHuPIoBrYAWwBQRqZrF/gcDg90fE0Rk4xWkmx0RQJQP+8hs28u1y+q2zMZKACczkVtO8fXYZ6W9r8ff12OfXg6+6CMz7TNqc6ntWYnr+Ge/jY5/9vvQ8b90DlfUxyNvwyM5c8ycHP8IXnsk6qLM0mtXK4OcssYYY/sL+AO41uvzLiASeAF4wSv+J9A6E/2tsuE7jPdlH5lte7l2Wd2WhZhPx9/XY5+Xx78g/Oxntn1GbS61PStxHX8dfx1/Hf/cHn+7fvfmlUvMvwDXAohITSAQ618hvwG3i0iQiFQBagD23bF5eTmx+nZW+shs28u1y+q2zMZ8zddjn5X2Ov6500dm2mfU5lLbsxLX8c9+Gx3/7Peh45+iIIy/LWMv7qrTViISCHwONAYSgaeNMf+4t40A7geSgceNMbMy0d8qY0zz3MtYXY6Ov3107O2l428vHX976fjbK6fH32f3IF6OMSYRuOsS294E3sxil+OvOCl1JXT87aNjby8df3vp+NtLx99eOTr+eeIMolJKKaWUyjvyyj2ISimllFIqj9ACUSmllFJKpaIFolJKKaWUSiXfF4giEioik0VkgogMsDufgkZEqorIZyIy1e5cCiIR6e3+2f9BRLrYnU9BIyJ1RGSsiEwVkYftzqcgcv8OWCUiPe3OpaARkU4istD9/0Anu/MpSETEISJvisjHInJPdvq4KgtEEflcRI5fvFqKiHQTkW0islNEnneH+wJTjTEPAr18nmw+lJXxN8bsNsY8YE+m+VMWx/8X98/+EOA2O/LNb7I4/luMMUOAW4G2duSb32Tx73+A54Apvs0y/8ri+BsgBgjGWipXXYEsjv3NQHkgiWyO/VVZIAKTgG7eARHxA8YA3YG6wB0iUhdrgC6s5+z0YY752SQyP/4q500i6+P/knu7unKTyML4i0gvYAYw07dp5luTyOT4i8gNwGbguK+TzMcmkfmf/4XGmO5YRfprPs4zP5pE5se+FrDEGPMkkK2rF1dlgWiMWQCcvijcEtjpPmOVCHyPVUEfxCoS4Sr9vnlNFsdf5bCsjL9Y3gVmGWPW+DrX/CirP//GmN/cvyT1FpcckMXx7wS0Au4EHhQR/R1whbIy/sYYl3v7GSDIh2nmS9mofc6422Tr5FiemCg7h5Qj5UwhWINzDTAKGC0iPcgbywLlV+mOv4gUx5rovImIvGCMeduW7PK/S/38PwZ0BiJEpLoxZqwdyRUAl/r574R1m0sQegYxN6U7/saYoQAici9w0qtgUTnrUj//fYGuQBFgtA15FQSX+rt/JPCxiLQHFmSn4/xUIKbLGBML3Gd3HgWVMeYU1v1vygbGmFFY/0hSNjDGzAPm2ZxGgWeMmWR3DgWRMeZn4Ge78yiIjDHngSu6/z8/nW4/BFTw+lzeHVO+oeNvLx1/e+n420vH3146/vbJtbHPTwXiSqCGiFQRkUDgduA3m3MqSHT87aXjby8df3vp+NtLx98+uTb2V2WBKCLfAUuBWiJyUEQeMMYkA0OBP4EtwBRjzCY788yvdPztpeNvLx1/e+n420vH3z6+HnsxxuREP0oppZRSKp+4Ks8gKqWUUkqp3KMFolJKKaWUSkULRKWUUkoplYoWiEoppZRSKhUtEJVSSimlVCpaICqllFJKqVS0QFRKXbVExCki67xele3OKaeISBMR+cz9/l4RGX3R9nki0vwy+38vIjVyO0+lVP6U79diVkrla3HGmMbpbRARwZrr1eXblHLMi8AbV7D/p8CzwIM5k45SqiDRM4hKqXxDRCqLyDYR+RLYCFQQkWdEZKWIbBCR17zajhCR7SKySES+E5Gn3XHPmTkRKSEie93v/UTkPa++HnLHO7n3mSoiW0XkG3dxioi0EJElIrJeRFaISLiILBCRxl55LBKRRhd9j3CgoTFmfSa+cy+vM6jbRGSPe9NCoLOI6IkApVSW6V8cSqmrWYiIrHO/3wM8AdQA7jHGLBORLu7PLQEBfhORDkAs1pqljbH+HlwDrM7gWA8AUcaYFiISBCwWkdnubU2AesBhYDHQVkRWAD8AtxljVopIYSAO+Ay4F3hcRGoCwekUgs2xClxvt4lIO6/P1QGMMb/hXntVRKYA891xl4jsBBpl4rsppVQqWiAqpa5mqS4xu+9B3GeMWeYOdXG/1ro/h2EVjOHANGPMefd+mVncvgvQUET6uz9HuPtKBFYYYw66+1oHVAaigCPGmJUAxphz7u0/Av8RkWeA+4FJ6RyrDHDiotgPxpihXt91nvdGEXkWazzGeIWPA2XRAlEplUVaICql8ptYr/cCvG2MGefdQEQev8z+yaTcfhN8UV+PGWP+vKivTkCCV8jJZf5uNcacF5G/gJuBW4Fm6TSLu+jYlyUinYFbgA4XbQp296WUUlmi9yAqpfKzP4H7RSQMQETKiUhJYAHQW0RC3Pf73eS1z15Sirb+F/X1sIgEuPuqKSKhlzn2NqCMiLRwtw/3uh9wIjAKWGmMOZPOvltwX0LOiIhUAsYAtxhjLi4Ga5L2UrVSSmVIzyAqpfItY8xsEakDLHU/NxID3GWMWSMiPwDrsS7DrvTa7X1giogMBmZ4xSdiXTpe434I5QTQ+zLHThSR24CPRSQE60xeZyDGGLNaRM4BX1xi360iEiEi4caY6Ay+5r1AceAX93c8bIy5UURKYV1yPprB/koplYYYY+zOQSmlbCUir2IVbu/76HhlgXlA7UtNwyMiTwDRxpiJ2TzGE8A5Y8xn2U5UKVVg6SVmpZTyIRG5G1gOjMhgjsZPSX1vY1adBSZfwf5KqQJMzyAqpZRSSqlU9AyiUkoppZRKRQtEpZRSSimVihaISimllFIqFS0QlVJKKaVUKlogKqWUUkqpVLRAVEoppZRSqWiBqJRSSimlUtECUSmllFJKpaIFolJKKaWUSkULRKWUUkoplcr/A4DUrIY3Bd3AAAAAAElFTkSuQmCC' width=648.0/>\n",
              "            </div>\n",
              "        "
            ],
            "application/vnd.jupyter.widget-view+json": {
              "version_major": 2,
              "version_minor": 0,
              "model_id": "10de9bfa44a34e6db6261d735a84500e"
            }
          },
          "metadata": {
            "application/vnd.jupyter.widget-view+json": {
              "colab": {
                "custom_widget_manager": {
                  "url": "https://ssl.gstatic.com/colaboratory-static/widgets/colab-cdn-widget-manager/b3e629b1971e1542/manager.min.js"
                }
              }
            }
          }
        }
      ],
      "source": [
        "# Plot transfer function for a given low pass circuit\n",
        "fig = plt.figure(figsize=(9, 4))\n",
        "ws = 2 * math.pi * 10 ** torch.linspace(0, 6, 1000)\n",
        "mags = 20 * torch.log10(evaluate_lp_circuit(ws, R_init))\n",
        "R_low_des = 1 / (2 * math.pi * 800 * cap_value)\n",
        "mags_des = 20 * torch.log10(evaluate_lp_circuit(ws, R_low_des))\n",
        "tf, = plt.semilogx(ws / (2 * math.pi), mags, linewidth=3)\n",
        "tf_des, = plt.semilogx(ws / (2 * math.pi), mags_des, linestyle=\"--\", linewidth=3)\n",
        "plt.xlim([1, 1e6])\n",
        "plt.ylim([-60, 1])\n",
        "plt.title(\"Low Pass Transfer Functions\")\n",
        "plt.xlabel(\"Frequency (Hz)\")\n",
        "plt.ylabel(\"dB\")\n",
        "plt.grid(which=\"both\")\n",
        "leg = plt.legend([\"Predicted Transfer Function\", \"Desired Transfer Function\"])\n",
        "plt.tight_layout()\n",
        "\n",
        "# Main update function for interactive plot\n",
        "def update_tfs(R=R_init):\n",
        "    mags = 20 * torch.log10(evaluate_lp_circuit(ws, R))\n",
        "    tf.set_data(ws / (2 * math.pi), mags)\n",
        "    fig.canvas.draw_idle()\n",
        "    \n",
        "# Include sliders for relevant quantities\n",
        "ip = interactive(update_tfs, \n",
        "                 R=widgets.IntSlider(value=R_init, min=1, max=1000, step=1, description=\"R\", layout=Layout(width='100%')))\n",
        "ip"
      ]
    },
    {
      "cell_type": "markdown",
      "id": "c1b99831",
      "metadata": {
        "id": "c1b99831"
      },
      "source": [
        "## (b) Designing a Low pass Filter from Binary Data"
      ]
    },
    {
      "cell_type": "code",
      "execution_count": 7,
      "id": "c1ec5419",
      "metadata": {
        "id": "c1ec5419",
        "outputId": "2f989678-1b9d-4819-b401-5ffbc9db3bba",
        "colab": {
          "base_uri": "https://localhost:8080/",
          "height": 481,
          "referenced_widgets": [
            "44da534d6a9442929bb7d7411b3aee1d",
            "12724a2c1e604e3c8a6b1771fde65212",
            "bbd0b5c5e8e14d1cbf938a5f0ed8f12a",
            "8fea537229bf420fa1dcc2aa2be0b1ab",
            "1c26ddf5c9e84f3aaa9946ceab07bf0d",
            "fd5ed2e928a34ffc875e0dea0622829d",
            "8af036013e0149168602918f4f4d3f0a",
            "1caf0d6af31d4d6fbdf11c6b0c33ddad",
            "bd47fbcb3b854e52a0759970086ffdf9",
            "dbe67a26aedb449188f8656a63dfd3f2",
            "a7f0902a52574cc39a66d8b3e66a51d3"
          ]
        }
      },
      "outputs": [
        {
          "output_type": "display_data",
          "data": {
            "text/plain": [
              "interactive(children=(IntSlider(value=500, description='R', layout=Layout(width='100%'), max=1000, min=1), Out…"
            ],
            "application/vnd.jupyter.widget-view+json": {
              "version_major": 2,
              "version_minor": 0,
              "model_id": "44da534d6a9442929bb7d7411b3aee1d"
            }
          },
          "metadata": {
            "application/vnd.jupyter.widget-view+json": {
              "colab": {
                "custom_widget_manager": {
                  "url": "https://ssl.gstatic.com/colaboratory-static/widgets/colab-cdn-widget-manager/b3e629b1971e1542/manager.min.js"
                }
              }
            }
          }
        },
        {
          "output_type": "display_data",
          "data": {
            "text/plain": [
              "Canvas(toolbar=Toolbar(toolitems=[('Home', 'Reset original view', 'home', 'home'), ('Back', 'Back to previous …"
            ],
            "image/png": "[encoded data removed]",
            "text/html": [
              "\n",
              "            <div style=\"display: inline-block;\">\n",
              "                <div class=\"jupyter-widgets widget-label\" style=\"text-align: center;\">\n",
              "                    Figure\n",
              "                </div>\n",
              "                <img src='data:image/png;base64,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' width=648.0/>\n",
              "            </div>\n",
              "        "
            ],
            "application/vnd.jupyter.widget-view+json": {
              "version_major": 2,
              "version_minor": 0,
              "model_id": "1caf0d6af31d4d6fbdf11c6b0c33ddad"
            }
          },
          "metadata": {
            "application/vnd.jupyter.widget-view+json": {
              "colab": {
                "custom_widget_manager": {
                  "url": "https://ssl.gstatic.com/colaboratory-static/widgets/colab-cdn-widget-manager/b3e629b1971e1542/manager.min.js"
                }
              }
            }
          }
        }
      ],
      "source": [
        "# Plot transfer function for a given low pass circuit\n",
        "fig = plt.figure(figsize=(9, 5))\n",
        "ws = 2 * math.pi * 10 ** torch.linspace(0, 6, 1000)\n",
        "mags = 20 * torch.log10(evaluate_lp_circuit(ws, R_init))\n",
        "cutoff = ws[np.argmax(mags < cutoff_dB)]\n",
        "tf, = plt.semilogx(ws / (2 * math.pi), mags, linewidth=3)\n",
        "cut = plt.axvline(cutoff / (2 * math.pi), c=\"red\", linestyle=\"--\", linewidth=3)\n",
        "plt.xlim([1, 1e6])\n",
        "plt.ylim([-60, 1])\n",
        "plt.title(\"Low Pass Transfer Function\")\n",
        "plt.xlabel(\"Frequency (Hz)\")\n",
        "plt.ylabel(\"dB\")\n",
        "plt.grid(which=\"both\")\n",
        "leg = plt.legend([\"Transfer Function\", f\"Cutoff Frequency ({1 / (2 * math.pi * R_init * cap_value):.0f} Hz)\"])\n",
        "\n",
        "# Plot table of LED on/off values (predicted and desired)\n",
        "ws_test = 2 * math.pi * np.linspace(300, 1500, num=7)\n",
        "table_txt = np.zeros((3, len(ws_test) + 1), dtype=\"U15\")\n",
        "table_txt[0, :] = [\"Frequency\"] + [f\"{w / (2 * math.pi):.0f} Hz\" for w in ws_test]\n",
        "table_txt[1:, 0] = [\"Predicted\", \"Desired\"]\n",
        "table_colors = np.zeros_like(table_txt, dtype=(np.int32, (3,)))\n",
        "table_colors[-1, 1:4] = (1, 0, 0)\n",
        "table_colors[1, 1] = (1, 0, 0)\n",
        "table_colors[:, :1] = (1, 1, 1)\n",
        "table_colors[:1, :] = (1, 1, 1)\n",
        "tab = plt.table(table_txt, table_colors, bbox=[0.0, -0.5, 1.0, 0.25], cellLoc=\"center\")\n",
        "plt.tight_layout()\n",
        "\n",
        "# Main update function for interactive plot\n",
        "def update_lights(R=R_init):\n",
        "    mags = 20 * torch.log10(evaluate_lp_circuit(ws, R))\n",
        "    cutoff = ws[np.argmax(mags < cutoff_dB)]\n",
        "    tf.set_data(ws / (2 * math.pi), mags)\n",
        "    cut.set_xdata(cutoff / (2 * math.pi))\n",
        "    for i, w in enumerate(ws_test):\n",
        "        if w < cutoff:\n",
        "            tab[(1, i+1)].set_facecolor((1, 0, 0))\n",
        "        else:\n",
        "            tab[(1, i+1)].set_facecolor((0, 0, 0))\n",
        "    leg.get_texts()[1].set_text(f\"Cutoff Frequency ({1 / (2 * math.pi * R * cap_value):.0f} Hz)\")\n",
        "    fig.canvas.draw_idle()\n",
        "    \n",
        "# Include sliders for relevant quantities\n",
        "ip = interactive(update_lights, \n",
        "                 R=widgets.IntSlider(value=R_init, min=1, max=1000, step=1, description=\"R\", layout=Layout(width='100%')))\n",
        "ip"
      ]
    },
    {
      "cell_type": "markdown",
      "id": "943a723c",
      "metadata": {
        "id": "943a723c"
      },
      "source": [
        "## (c) Learning a Low Pass Filter from Desired Transfer Function Samples"
      ]
    },
    {
      "cell_type": "code",
      "execution_count": 8,
      "id": "eb078f6c",
      "metadata": {
        "id": "eb078f6c"
      },
      "outputs": [],
      "source": [
        "# PyTorch model of the low pass circuit (for training)\n",
        "class LowPassCircuit(nn.Module):\n",
        "    def __init__(self, R=None):\n",
        "        super().__init__()\n",
        "        self.R = nn.Parameter(torch.tensor(R, dtype=float) if R is not None else torch.rand(1) * 1000)\n",
        "        \n",
        "    # Note: the forward function is called automatically when the __call__ function of this object is called\n",
        "    def forward(self, freqs):\n",
        "        return evaluate_lp_circuit(freqs, self.R)\n",
        "    \n",
        "# Generate training data in a uniform log scale of frequences, then evaluate using the true transfer function\n",
        "def generate_lp_training_data(n):\n",
        "    rand_ws = 2 * math.pi * torch.pow(10, torch.rand(n) * 6)\n",
        "    labels = evaluate_lp_circuit(rand_ws, R_low_des)\n",
        "    return rand_ws, labels\n",
        "\n",
        "# Train a given low pass filter\n",
        "def train_lp_circuit_tf(circuit, loss_fn, dataset_size, max_training_steps, lr):\n",
        "    \n",
        "    R_values = [float(circuit.R.data)]\n",
        "    grad_values = [np.nan]\n",
        "    train_data = generate_lp_training_data(dataset_size)\n",
        "    print(f\"Initial Resistor Value: R = {float(circuit.R.data):.0f}\")\n",
        "    iter_bar = tqdm.trange(max_training_steps, desc=\"Training Iter\")\n",
        "    for i in iter_bar:\n",
        "        pred = circuit(train_data[0])\n",
        "        loss = loss_fn(pred, train_data[1]).mean()\n",
        "        grad = torch.autograd.grad(loss, circuit.R)\n",
        "        with torch.no_grad():\n",
        "            circuit.R -= lr * grad[0]\n",
        "\n",
        "        R_values.append(float(circuit.R.data))\n",
        "        grad_values.append(float(grad[0].data))\n",
        "        iter_bar.set_postfix_str(f\"Loss: {float(loss.data):.3f}, R={float(circuit.R.data):.0f}\")\n",
        "        if loss.data < 1e-6 or abs(grad[0].data) < 1e-6:\n",
        "            break\n",
        "\n",
        "    print(f\"Final Resistor Value: R = {float(circuit.R.data):.0f}\")        \n",
        "    return train_data, R_values, grad_values"
      ]
    },
    {
      "cell_type": "code",
      "execution_count": 9,
      "id": "4502a565",
      "metadata": {
        "id": "4502a565"
      },
      "outputs": [],
      "source": [
        "# Create a circuit, use mean squared error loss w/ learning rate of 200\n",
        "circuit = LowPassCircuit(1000)\n",
        "loss_fn = lambda x, y: (x - y) ** 2\n",
        "lr = 200\n",
        "#train_data_low_tf, R_values_low_tf, grad_values_low_tf = train_lp_circuit_tf(circuit, loss_fn, dataset_size, max_training_steps, lr)"
      ]
    },
    {
      "cell_type": "code",
      "execution_count": 10,
      "id": "79fe9b39",
      "metadata": {
        "id": "79fe9b39",
        "outputId": "a5ddc620-7d8e-495f-a74e-1f2954b9cb1d",
        "colab": {
          "base_uri": "https://localhost:8080/",
          "height": 741,
          "referenced_widgets": [
            "ef2e9c9d5d1b44d4aa64bb40704b56f3",
            "800f851d69c84db0b62ba1ff136b5df4",
            "2180291c93a141679f2692eab2263709",
            "7d49a75fd8aa4355bd722d5659b3c213"
          ]
        }
      },
      "outputs": [
        {
          "output_type": "error",
          "ename": "NameError",
          "evalue": "ignored",
          "traceback": [
            "\u001b[0;31m---------------------------------------------------------------------------\u001b[0m",
            "\u001b[0;31mNameError\u001b[0m                                 Traceback (most recent call last)",
            "\u001b[0;32m<ipython-input-10-62e80d07c234>\u001b[0m in \u001b[0;36m<module>\u001b[0;34m\u001b[0m\n\u001b[1;32m      3\u001b[0m \u001b[0mws\u001b[0m \u001b[0;34m=\u001b[0m \u001b[0;36m2\u001b[0m \u001b[0;34m*\u001b[0m \u001b[0mmath\u001b[0m\u001b[0;34m.\u001b[0m\u001b[0mpi\u001b[0m \u001b[0;34m*\u001b[0m \u001b[0;36m10\u001b[0m \u001b[0;34m**\u001b[0m \u001b[0mtorch\u001b[0m\u001b[0;34m.\u001b[0m\u001b[0mlinspace\u001b[0m\u001b[0;34m(\u001b[0m\u001b[0;36m0\u001b[0m\u001b[0;34m,\u001b[0m \u001b[0;36m6\u001b[0m\u001b[0;34m,\u001b[0m \u001b[0;36m1000\u001b[0m\u001b[0;34m)\u001b[0m\u001b[0;34m\u001b[0m\u001b[0;34m\u001b[0m\u001b[0m\n\u001b[1;32m      4\u001b[0m \u001b[0msubsample\u001b[0m \u001b[0;34m=\u001b[0m \u001b[0mint\u001b[0m\u001b[0;34m(\u001b[0m\u001b[0mdataset_size\u001b[0m \u001b[0;34m/\u001b[0m \u001b[0;36m100\u001b[0m\u001b[0;34m)\u001b[0m\u001b[0;34m\u001b[0m\u001b[0;34m\u001b[0m\u001b[0m\n\u001b[0;32m----> 5\u001b[0;31m \u001b[0max1\u001b[0m\u001b[0;34m.\u001b[0m\u001b[0mscatter\u001b[0m\u001b[0;34m(\u001b[0m\u001b[0mtrain_data_low_tf\u001b[0m\u001b[0;34m[\u001b[0m\u001b[0;36m0\u001b[0m\u001b[0;34m]\u001b[0m\u001b[0;34m[\u001b[0m\u001b[0;34m:\u001b[0m\u001b[0;34m:\u001b[0m\u001b[0msubsample\u001b[0m\u001b[0;34m]\u001b[0m \u001b[0;34m/\u001b[0m \u001b[0;34m(\u001b[0m\u001b[0;36m2\u001b[0m \u001b[0;34m*\u001b[0m \u001b[0mmath\u001b[0m\u001b[0;34m.\u001b[0m\u001b[0mpi\u001b[0m\u001b[0;34m)\u001b[0m\u001b[0;34m,\u001b[0m \u001b[0;36m20\u001b[0m \u001b[0;34m*\u001b[0m \u001b[0mtorch\u001b[0m\u001b[0;34m.\u001b[0m\u001b[0mlog10\u001b[0m\u001b[0;34m(\u001b[0m\u001b[0mtrain_data_low_tf\u001b[0m\u001b[0;34m[\u001b[0m\u001b[0;36m1\u001b[0m\u001b[0;34m]\u001b[0m\u001b[0;34m[\u001b[0m\u001b[0;34m:\u001b[0m\u001b[0;34m:\u001b[0m\u001b[0msubsample\u001b[0m\u001b[0;34m]\u001b[0m\u001b[0;34m)\u001b[0m\u001b[0;34m,\u001b[0m \u001b[0mc\u001b[0m\u001b[0;34m=\u001b[0m\u001b[0;34m\"k\"\u001b[0m\u001b[0;34m,\u001b[0m \u001b[0mmarker\u001b[0m\u001b[0;34m=\u001b[0m\u001b[0;34m\"x\"\u001b[0m\u001b[0;34m)\u001b[0m\u001b[0;34m\u001b[0m\u001b[0;34m\u001b[0m\u001b[0m\n\u001b[0m\u001b[1;32m      6\u001b[0m \u001b[0mlearned_tf\u001b[0m\u001b[0;34m,\u001b[0m \u001b[0;34m=\u001b[0m \u001b[0max1\u001b[0m\u001b[0;34m.\u001b[0m\u001b[0msemilogx\u001b[0m\u001b[0;34m(\u001b[0m\u001b[0mws\u001b[0m \u001b[0;34m/\u001b[0m \u001b[0;34m(\u001b[0m\u001b[0;36m2\u001b[0m \u001b[0;34m*\u001b[0m \u001b[0mmath\u001b[0m\u001b[0;34m.\u001b[0m\u001b[0mpi\u001b[0m\u001b[0;34m)\u001b[0m\u001b[0;34m,\u001b[0m \u001b[0;36m20\u001b[0m \u001b[0;34m*\u001b[0m \u001b[0mtorch\u001b[0m\u001b[0;34m.\u001b[0m\u001b[0mlog10\u001b[0m\u001b[0;34m(\u001b[0m\u001b[0mevaluate_lp_circuit\u001b[0m\u001b[0;34m(\u001b[0m\u001b[0mws\u001b[0m\u001b[0;34m,\u001b[0m \u001b[0mR_values_low_tf\u001b[0m\u001b[0;34m[\u001b[0m\u001b[0;36m0\u001b[0m\u001b[0;34m]\u001b[0m\u001b[0;34m)\u001b[0m\u001b[0;34m)\u001b[0m\u001b[0;34m,\u001b[0m \u001b[0mlinewidth\u001b[0m\u001b[0;34m=\u001b[0m\u001b[0;36m3\u001b[0m\u001b[0;34m)\u001b[0m\u001b[0;34m\u001b[0m\u001b[0;34m\u001b[0m\u001b[0m\n\u001b[1;32m      7\u001b[0m \u001b[0max1\u001b[0m\u001b[0;34m.\u001b[0m\u001b[0mset_xlim\u001b[0m\u001b[0;34m(\u001b[0m\u001b[0;34m[\u001b[0m\u001b[0;36m1\u001b[0m\u001b[0;34m,\u001b[0m \u001b[0;36m1e6\u001b[0m\u001b[0;34m]\u001b[0m\u001b[0;34m)\u001b[0m\u001b[0;34m\u001b[0m\u001b[0;34m\u001b[0m\u001b[0m\n",
            "\u001b[0;31mNameError\u001b[0m: name 'train_data_low_tf' is not defined"
          ]
        },
        {
          "output_type": "display_data",
          "data": {
            "text/plain": [
              "Canvas(toolbar=Toolbar(toolitems=[('Home', 'Reset original view', 'home', 'home'), ('Back', 'Back to previous …"
            ],
            "image/png": "[encoded data removed]",
            "text/html": [
              "\n",
              "            <div style=\"display: inline-block;\">\n",
              "                <div class=\"jupyter-widgets widget-label\" style=\"text-align: center;\">\n",
              "                    Figure\n",
              "                </div>\n",
              "                <img src='data:image/png;base64,iVBORw0KGgoAAAANSUhEUgAAAogAAAGwCAYAAAAqiJTnAAAAOXRFWHRTb2Z0d2FyZQBNYXRwbG90bGliIHZlcnNpb24zLjYuMywgaHR0cHM6Ly9tYXRwbG90bGliLm9yZy/P9b71AAAACXBIWXMAAAsTAAALEwEAmpwYAAAdi0lEQVR4nO3dbahlZ3k+8Os201Sa+lLMCJLJaOQ/qU61YHpILUJN0ZZJCpkPtpKAtJbgoDVSUAopllTiJ1tqQUhrByq+gMbohzLgSEptJCBGMxKNJhKZRttMlCZq9ItoDL3/H/a2Pc9xJnPGOvtt/X6wYa21H85cszjcXHvttc+u7g4AAPzE05YdAACA1aIgAgAwUBABABgoiAAADBREAAAGCiIAAAMFEQCAgYIIAMBAQQQAYKAgAgAwUBABABgoiAAADBREAAAGCiIAAAMFEQCAgYIIAMBAQQQAYKAgAgAwUBABABgoiAAADBREAAAGCiIAAAMFEQCAgYIIAMBAQQQAYKAgAgAwUBABABgoiAAADBREAAAGCiIAAAMFEQCAgYIIAMBAQQQAYKAgAgAwUBABABgoiAAADBREAAAGCiIAAAMFEQCAgYIIAMBAQQQAYKAgAgAwUBABABgoiAAADBREAAAGCiIAAAMFEQCAwaQKYlW9r6oeraqvnOH5qqr3VNXJqrqvqq5YdEZgtZkjwBRMqiAmeX+SQ0/x/NVJDswfR5L8wwIyAevl/TFHgA03qYLY3Xcl+e5TLDmc5IM9c3eSZ1fV8xaTDlgH5ggwBZMqiLtwSZKHt+2fmh8D2C1zBFh7e5YdYF1V1ZHM3j7KRRdd9BsvetGLlpwISJIvfOEL3+7uvcvOsRvmCKymdZoj54uCOHokyaXb9vfNj/2U7j6a5GiSbG1t9YkTJ85/OuCsquo/lhzBHIE1twJzZOm8xTw6luSP5p9CfHmS73f3t5YdClgr5giw9iZ1BbGqPpLkqiQXV9WpJH+V5BeSpLvfm+R4kmuSnEzygyR/spykwKoyR4ApmFRB7O7rz/J8J3nzguIAa8gcAabAW8wAAAwURAAABgoiAAADBREAgIGCCADAQEEEAGCgIAIAMFAQAQAYKIgAAAwURAAABgoiAAADBREAgIGCCADAQEEEAGCgIAIAMFAQAQAYKIgAAAwURAAABgoiAAADBREAgMHkCmJVHaqqB6vqZFXddJrn91fVnVV1b1XdV1XXLCMnsLrMEWDTTaogVtUFSW5NcnWSg0mur6qDO5b9ZZLbu/tlSa5L8veLTQmsMnMEmIJJFcQkVyY52d0PdfcTSW5LcnjHmk7yzPn2s5J8c4H5gNVnjgAbb8+yAyzYJUke3rZ/Kslv7ljzjiT/UlVvSXJRklcvJhqwJswRYONN7Qriblyf5P3dvS/JNUk+VFU/dZ6q6khVnaiqE4899tjCQwIrzRwB1trUCuIjSS7dtr9vfmy7G5LcniTd/dkkT09y8c4f1N1Hu3uru7f27t17nuICK8gcATbe1AriPUkOVNVlVXVhZjePH9ux5j+TvCpJqurFmQ12L+2BnzBHgI03qYLY3U8muTHJHUm+mtmnDO+vqluq6tr5srcleUNVfSnJR5K8vrt7OYmBVWOOAFMwtQ+ppLuPJzm+49jN27YfSPKKRecC1oc5Amy6SV1BBADg7BREAAAGCiIAAAMFEQCAgYIIAMBAQQQAYKAgAgAwUBABABgoiAAADBREAAAGCiIAAAMFEQCAgYIIAMBAQQQAYKAgAgAwUBABABgoiAAADBREAAAGCiIAAAMFEQCAgYIIAMBgcgWxqg5V1YNVdbKqbjrDmtdW1QNVdX9VfXjRGYHVZo4Am27PsgMsUlVdkOTWJL+b5FSSe6rqWHc/sG3NgSR/keQV3f14VT13OWmBVWSOAFMwtSuIVyY52d0PdfcTSW5LcnjHmjckubW7H0+S7n50wRmB1WaOABtvagXxkiQPb9s/NT+23eVJLq+qz1TV3VV1aGHpgHVgjgAbb1JvMe/SniQHklyVZF+Su6rqpd39ve2LqupIkiNJsn///gVHBFacOQKstaldQXwkyaXb9vfNj213Ksmx7v5xd389ydcyG/SD7j7a3VvdvbV3797zFhhYOeYIsPGmVhDvSXKgqi6rqguTXJfk2I41/5zZq/5U1cWZvVX00AIzAqvNHAE23qQKYnc/meTGJHck+WqS27v7/qq6paqunS+7I8l3quqBJHcm+fPu/s5yEgOrxhwBpqC6e9kZ1t7W1lafOHFi2TGAJFX1he7eWnaOc2WOwOpY1zny8zSpK4gAAJydgggAwEBBBABgoCACADBQEAEAGCiIAAAMFEQAAAYKIgAAAwURAICBgggAwEBBBABgoCACADBQEAEAGCiIAAAMFEQAAAYKIgAAAwURAICBgggAwEBBBABgoCACADBQEAEAGEyuIFbVoap6sKpOVtVNT7HuNVXVVbW1yHzA6jNHgE03qYJYVRckuTXJ1UkOJrm+qg6eZt0zkvxZks8tNiGw6swRYAomVRCTXJnkZHc/1N1PJLktyeHTrHtnkncl+eEiwwFrwRwBNt7UCuIlSR7etn9qfux/VNUVSS7t7k8sMhiwNswRYONNrSA+pap6WpJ3J3nbLtYeqaoTVXXiscceO//hgLVgjgCbYGoF8ZEkl27b3zc/9hPPSPKSJJ+uqm8keXmSY6e7wby7j3b3Vndv7d279zxGBlaMOQJsvKkVxHuSHKiqy6rqwiTXJTn2kye7+/vdfXF3v6C7X5Dk7iTXdveJ5cQFVpA5Amy8SRXE7n4yyY1J7kjy1SS3d/f9VXVLVV273HTAOjBHgCnYs+wAi9bdx5Mc33Hs5jOsvWoRmYD1Yo4Am25SVxABADg7BREAgIGCCADAQEEEAGCgIAIAMFAQAQAYKIgAAAwURAAABgoiAAADBREAgIGCCADAQEEEAGCgIAIAMFAQAQAYKIgAAAwURAAABgoiAAADBREAgIGCCADAQEEEAGAwuYJYVYeq6sGqOllVN53m+bdW1QNVdV9Vfaqqnr+MnMDqMkeATTepglhVFyS5NcnVSQ4mub6qDu5Ydm+Sre7+9SQfT/LXi00JrDJzBJiCSRXEJFcmOdndD3X3E0luS3J4+4LuvrO7fzDfvTvJvgVnBFabOQJsvKkVxEuSPLxt/9T82JnckOST5zURsG7MEWDj7Vl2gFVVVa9LspXklWd4/kiSI0myf//+BSYD1oU5AqyrqV1BfCTJpdv2982PDarq1UnenuTa7v7R6X5Qdx/t7q3u3tq7d+95CQusJHME2HhTK4j3JDlQVZdV1YVJrktybPuCqnpZkn/MbKg/uoSMwGozR4CNN6mC2N1PJrkxyR1Jvprk9u6+v6puqapr58v+JskvJ/lYVX2xqo6d4ccBE2SOAFMwuXsQu/t4kuM7jt28bfvVCw8FrBVzBNh0k7qCCADA2SmIAAAMFEQAAAYKIgAAAwURAICBgggAwEBBBABgoCACADBQEAEAGCiIAAAMFEQAAAYKIgAAAwURAICBgggAwEBBBABgoCACADBQEAEAGCiIAAAMFEQAAAYKIgAAAwURAIDB5ApiVR2qqger6mRV3XSa53+xqj46f/5zVfWCJcQEVpg5Amy6SRXEqrogya1Jrk5yMMn1VXVwx7Ibkjze3f8vyd8leddiUwKrzBwBpmBSBTHJlUlOdvdD3f1EktuSHN6x5nCSD8y3P57kVVVVC8wIrDZzBNh4UyuIlyR5eNv+qfmx067p7ieTfD/JcxaSDlgH5giw8fYsO8C6qqojSY7Md39UVV9ZZp6f0cVJvr3sEOdoHTMnci/Sry47wG6ZI0uzjpkTuRdpbebI+TK1gvhIkku37e+bHzvdmlNVtSfJs5J8Z+cP6u6jSY4mSVWd6O6t85L4PFrH3OuYOZF7karqxHn+J8yRbdYx9zpmTuRepAXMkZU3tbeY70lyoKouq6oLk1yX5NiONceS/PF8+w+S/Ft39wIzAqvNHAE23qSuIHb3k1V1Y5I7klyQ5H3dfX9V3ZLkRHcfS/JPST5UVSeTfDez4Q+QxBwBpmFSBTFJuvt4kuM7jt28bfuHSf7wHH/s0Z9DtGVYx9zrmDmRe5HOe2ZzZLCOudcxcyL3Iq1j5p+r8q4HAADbTe0eRAAAzkJBPAfr+PVau8j81qp6oKruq6pPVdXzl5Fzp7Pl3rbuNVXVVbUSn5DbTe6qeu38nN9fVR9edMbT5Dnb78j+qrqzqu6d/55cs4ycOzK9r6oePdOfhamZ98z/T/dV1RWLzngm5sjimCOLY45soO722MUjs5vR/z3JC5NcmORLSQ7uWPOnSd47374uyUfXIPPvJPml+fablp15t7nn656R5K4kdyfZWofcSQ4kuTfJr8z3n7sGmY8medN8+2CSb6zAuf7tJFck+coZnr8mySeTVJKXJ/ncsjOfw/k2RxaUe77OHFlMZnNkzR6uIO7eOn691lkzd/ed3f2D+e7dmf1Nt2XbzblOkndm9h23P1xkuKewm9xvSHJrdz+eJN396IIz7rSbzJ3kmfPtZyX55gLznVZ335XZp4PP5HCSD/bM3UmeXVXPW0y6p2SOLI45sjjmyAZSEHdvHb9eazeZt7shs1dLy3bW3PNL/Zd29ycWGewsdnO+L09yeVV9pqrurqpDC0t3ervJ/I4kr6uqU5l9cvcti4n2f3Kuv/uLYo4sjjmyOObIBprcn7nh9KrqdUm2krxy2VnOpqqeluTdSV6/5Cg/iz2ZvT10VWZXWe6qqpd29/eWGeosrk/y/u7+26r6rcz+vt9Luvu/lx2M1WKOLIw5wnnnCuLuncvXa6We4uu1Fmg3mVNVr07y9iTXdvePFpTtqZwt9zOSvCTJp6vqG5ndG3JsBW4w3835PpXkWHf/uLu/nuRrmQ36ZdlN5huS3J4k3f3ZJE/P7LtVV9mufveXwBxZHHNkccyRTbTsmyDX5ZHZK7aHklyW/70J99d2rHlzxpvLb1+DzC/L7ObiA8s+x+eSe8f6T2c1bi7fzfk+lOQD8+2LM3v74jkrnvmTSV4/335xZvcO1Qqc7xfkzDeX/37Gm8s/v+y853C+zZEF5d6x3hw5v5nNkTV7LD3AOj0y+0TT1+aD8O3zY7dk9oo5mb0i+liSk0k+n+SFa5D5X5P8V5Ivzh/Hlp15N7l3rF2Jwb7L812Zva31QJIvJ7luDTIfTPKZ+dD/YpLfW4HMH0nyrSQ/zuxqyg1J3pjkjdvO863z/9OXV+X3Y5fn2xxZUO4da82R85vZHFmzh29SAQBg4B5EAAAGCiIAAAMFEQCAgYIIAMBAQQQAYKAgAgAwUBABABgoiAAADBREAAAGCiIAAINJFcSqel9VPVpVXznD81VV76mqk1V1X1VdseiMwGozR4ApmFRBTPL+JIee4vmrkxyYP44k+YcFZALWy/tjjgAbblIFsbvvSvLdp1hyOMkHe+buJM+uquctJh2wDswRYAomVRB34ZIkD2/bPzU/BrBb5giw9vYsO8C6qqojmb19lIsuuug3XvSiFy05EZAkX/jCF77d3XuXnWM3zBFYTes0R84XBXH0SJJLt+3vmx/7Kd19NMnRJNna2uoTJ06c/3TAWVXVfyw5gjkCa24F5sjSeYt5dCzJH80/hfjyJN/v7m8tOxSwVswRYO1N6gpiVX0kyVVJLq6qU0n+KskvJEl3vzfJ8STXJDmZ5AdJ/mQ5SYFVZY4AUzCpgtjd15/l+U7y5gXFAdaQOQJMgbeYAQAYKIgAAAwURAAABgoiAAADBREAgIGCCADAQEEEAGCgIAIAMFAQAQAYKIgAAAwURAAABgoiAAADBREAgIGCCADAQEEEAGCgIAIAMFAQAQAYKIgAAAwURAAABgoiAACDyRXEqjpUVQ9W1cmquuk0z++vqjur6t6quq+qrllGTmB1mSPApptUQayqC5LcmuTqJAeTXF9VB3cs+8skt3f3y5Jcl+TvF5sSWGXmCDAFkyqISa5McrK7H+ruJ5LcluTwjjWd5Jnz7Wcl+eYC8wGrzxwBNt6eZQdYsEuSPLxt/1SS39yx5h1J/qWq3pLkoiSvXkw0YE2YI8DGm9oVxN24Psn7u3tfkmuSfKiqfuo8VdWRqjpRVScee+yxhYcEVpo5Aqy1qRXER5Jcum1/3/zYdjckuT1JuvuzSZ6e5OKdP6i7j3b3Vndv7d279zzFBVaQOQJsvKkVxHuSHKiqy6rqwsxuHj+2Y81/JnlVklTVizMb7F7aAz9hjgAbb1IFsbufTHJjkjuSfDWzTxneX1W3VNW182VvS/KGqvpSko8keX1393ISA6vGHAGmYGofUkl3H09yfMexm7dtP5DkFYvOBawPcwTYdJO6gggAwNkpiAAADBREAAAGCiIAAAMFEQCAgYIIAMBAQQQAYKAgAgAwUBABABgoiAAADBREAAAGCiIAAAMFEQCAgYIIAMBAQQQAYKAgAgAwUBABABgoiAAADBREAAAGCiIAAAMFEQCAweQKYlUdqqoHq+pkVd10hjWvraoHqur+qvrwojMCq80cATbdnmUHWKSquiDJrUl+N8mpJPdU1bHufmDbmgNJ/iLJK7r78ap67nLSAqvIHAGmYGpXEK9McrK7H+ruJ5LcluTwjjVvSHJrdz+eJN396IIzAqvNHAE23tQK4iVJHt62f2p+bLvLk1xeVZ+pqrur6tDC0gHrwBwBNt6k3mLepT1JDiS5Ksm+JHdV1Uu7+3vbF1XVkSRHkmT//v0LjgisOHMEWGtTu4L4SJJLt+3vmx/b7lSSY9394+7+epKvZTboB919tLu3untr79695y0wsHLMEWDjTa0g3pPkQFVdVlUXJrkuybEda/45s1f9qaqLM3ur6KEFZgRWmzkCbLxJFcTufjLJjUnuSPLVJLd39/1VdUtVXTtfdkeS71TVA0nuTPLn3f2d5SQGVo05AkxBdfeyM6y9ra2tPnHixLJjAEmq6gvdvbXsHOfKHIHVsa5z5OdpUlcQAQA4OwURAICBgggAwEBBBABgoCACADBQEAEAGCiIAAAMFEQAAAYKIgAAAwURAICBgggAwEBBBABgoCACADBQEAEAGCiIAAAMFEQAAAYKIgAAAwURAICBgggAwEBBBABgoCACADCYXEGsqkNV9WBVnayqm55i3Wuqqqtqa5H5gNVnjgCbblIFsaouSHJrkquTHExyfVUdPM26ZyT5sySfW2xCYNWZI8AUTKogJrkyycnufqi7n0hyW5LDp1n3ziTvSvLDRYYD1oI5Amy8qRXES5I8vG3/1PzY/6iqK5Jc2t2fWGQwYG2YI8DGm1pBfEpV9bQk707ytl2sPVJVJ6rqxGOPPXb+wwFrwRwBNsHUCuIjSS7dtr9vfuwnnpHkJUk+XVXfSPLyJMdOd4N5dx/t7q3u3tq7d+95jAysGHME2HhTK4j3JDlQVZdV1YVJrkty7CdPdvf3u/vi7n5Bd78gyd1Jru3uE8uJC6wgcwTYeJMqiN39ZJIbk9yR5KtJbu/u+6vqlqq6drnpgHVgjgBTsGfZARatu48nOb7j2M1nWHvVIjIB68UcATbdpK4gAgBwdgoiAAADBREAgIGCCADAQEEEAGCgIAIAMFAQAQAYKIgAAAwURAAABgoiAAADBREAgIGCCADAQEEEAGCgIAIAMFAQAQAYKIgAAAwURAAABgoiAAADBREAgIGCCADAYHIFsaoOVdWDVXWyqm46zfNvraoHquq+qvpUVT1/GTmB1WWOAJtuUgWxqi5IcmuSq5McTHJ9VR3csezeJFvd/etJPp7krxebElhl5ggwBZMqiEmuTHKyux/q7ieS3Jbk8PYF3X1nd/9gvnt3kn0LzgisNnME2HhTK4iXJHl42/6p+bEzuSHJJ89rImDdmCPAxtuz7ACrqqpel2QrySvP8PyRJEeSZP/+/QtMBqwLcwRYV1O7gvhIkku37e+bHxtU1auTvD3Jtd39o9P9oO4+2t1b3b21d+/e8xIWWEnmCLDxplYQ70lyoKouq6oLk1yX5Nj2BVX1siT/mNlQf3QJGYHVZo4AG29SBbG7n0xyY5I7knw1ye3dfX9V3VJV186X/U2SX07ysar6YlUdO8OPAybIHAGmYHL3IHb38STHdxy7edv2qxceClgr5giw6SZ1BREAgLNTEAEAGCiIAAAMFEQAAAYKIgAAAwURAICBgggAwEBBBABgoCACADBQEAEAGCiIAAAMFEQAAAYKIgAAAwURAICBgggAwEBBBABgoCACADBQEAEAGCiIAAAMFEQAAAYKIgAAg8kVxKo6VFUPVtXJqrrpNM//YlV9dP7856rqBUuICawwcwTYdJMqiFV1QZJbk1yd5GCS66vq4I5lNyR5vLv/X5K/S/KuxaYEVpk5AkzBpApikiuTnOzuh7r7iSS3JTm8Y83hJB+Yb388yauqqhaYEVht5giw8aZWEC9J8vC2/VPzY6dd091PJvl+kucsJB2wDswRYOPtWXaAdVVVR5Icme/+qKq+ssw8P6OLk3x72SHO0TpmTuRepF9ddoDdMkeWZh0zJ3Iv0trMkfNlagXxkSSXbtvfNz92ujWnqmpPkmcl+c7OH9TdR5McTZKqOtHdW+cl8Xm0jrnXMXMi9yJV1Ynz/E+YI9usY+51zJzIvUgLmCMrb2pvMd+T5EBVXVZVFya5LsmxHWuOJfnj+fYfJPm37u4FZgRWmzkCbLxJXUHs7ier6sYkdyS5IMn7uvv+qrolyYnuPpbkn5J8qKpOJvluZsMfIIk5AkzDpApiknT38STHdxy7edv2D5P84Tn+2KM/h2jLsI651zFzIvcinffM5shgHXOvY+ZE7kVax8w/V+VdDwAAtpvaPYgAAJyFgngO1vHrtXaR+a1V9UBV3VdVn6qq5y8j505ny71t3WuqqqtqJT4ht5vcVfXa+Tm/v6o+vOiMp8lztt+R/VV1Z1XdO/89uWYZOXdkel9VPXqmPwtTM++Z/5/uq6orFp3xTMyRxTFHFscc2UDd7bGLR2Y3o/97khcmuTDJl5Ic3LHmT5O8d759XZKPrkHm30nyS/PtNy07825zz9c9I8ldSe5OsrUOuZMcSHJvkl+Z7z93DTIfTfKm+fbBJN9YgXP920muSPKVMzx/TZJPJqkkL0/yuWVnPofzbY4sKPd8nTmymMzmyJo9XEHcvXX8eq2zZu7uO7v7B/PduzP7m27LtptznSTvzOw7bn+4yHBPYTe535Dk1u5+PEm6+9EFZ9xpN5k7yTPn289K8s0F5jut7r4rs08Hn8nhJB/smbuTPLuqnreYdE/JHFkcc2RxzJENpCDu3jp+vdZuMm93Q2avlpbtrLnnl/ov7e5PLDLYWezmfF+e5PKq+kxV3V1VhxaW7vR2k/kdSV5XVacy++TuWxYT7f/kXH/3F8UcWRxzZHHMkQ00uT9zw+lV1euSbCV55bKznE1VPS3Ju5O8fslRfhZ7Mnt76KrMrrLcVVUv7e7vLTPUWVyf5P3d/bdV9VuZ/X2/l3T3fy87GKvFHFkYc4TzzhXE3TuXr9dKPcXXay3QbjKnql6d5O1Jru3uHy0o21M5W+5nJHlJkk9X1Tcyuzfk2ArcYL6b830qybHu/nF3fz3J1zIb9Muym8w3JLk9Sbr7s0mentl3q66yXf3uL4E5sjjmyOKYI5to2TdBrssjs1dsDyW5LP97E+6v7Vjz5ow3l9++BplfltnNxQeWfY7PJfeO9Z/OatxcvpvzfSjJB+bbF2f29sVzVjzzJ5O8fr794szuHaoVON8vyJlvLv/9jDeXf37Zec/hfJsjC8q9Y705cn4zmyNr9lh6gHV6ZPaJpq/NB+Hb58duyewVczJ7RfSxJCeTfD7JC9cg878m+a8kX5w/ji07825y71i7EoN9l+e7Mntb64EkX05y3RpkPpjkM/Oh/8Ukv7cCmT+S5FtJfpzZ1ZQbkrwxyRu3nedb5/+nL6/K78cuz7c5sqDcO9aaI+c3szmyZg/fpAIAwMA9iAAADBREAAAGCiIAAAMFEQCAgYIIAMBAQQQAYKAgAgAwUBABABgoiAAADBREAAAGCiIAAAMFEQCAgYIIAMBAQQQAYKAgAgAwUBABABgoiAAADBREAAAGCiIAAAMFEQCAgYIIAMBAQQQAYKAgAgAwUBABABgoiAAADBREAAAGCiIAAAMFEQCAgYIIAMBAQQQAYKAgAgAwUBABABgoiAAADBREAAAGCiIAAAMFEQCAgYIIAMBAQQQAYPD/AWSG8si82hlRAAAAAElFTkSuQmCC' width=648.0/>\n",
              "            </div>\n",
              "        "
            ],
            "application/vnd.jupyter.widget-view+json": {
              "version_major": 2,
              "version_minor": 0,
              "model_id": "ef2e9c9d5d1b44d4aa64bb40704b56f3"
            }
          },
          "metadata": {
            "application/vnd.jupyter.widget-view+json": {
              "colab": {
                "custom_widget_manager": {
                  "url": "https://ssl.gstatic.com/colaboratory-static/widgets/colab-cdn-widget-manager/b3e629b1971e1542/manager.min.js"
                }
              }
            }
          }
        }
      ],
      "source": [
        "# Plot transfer function over training\n",
        "fig, ((ax1, ax2), (ax3, ax4)) = plt.subplots(2, 2, figsize=(9, 6))\n",
        "ws = 2 * math.pi * 10 ** torch.linspace(0, 6, 1000)\n",
        "subsample = int(dataset_size / 100)\n",
        "ax1.scatter(train_data_low_tf[0][::subsample] / (2 * math.pi), 20 * torch.log10(train_data_low_tf[1][::subsample]), c=\"k\", marker=\"x\")\n",
        "learned_tf, = ax1.semilogx(ws / (2 * math.pi), 20 * torch.log10(evaluate_lp_circuit(ws, R_values_low_tf[0])), linewidth=3)\n",
        "ax1.set_xlim([1, 1e6])\n",
        "ax1.set_title(\"Transfer Function\")\n",
        "ax1.set_xlabel(\"Frequency (Hz)\")\n",
        "ax1.set_ylabel(\"dB\")\n",
        "ax1.legend([\"Learned Transfer Function\", \"True Transfer Function Samples\"])\n",
        "\n",
        "# Show loss surface over training\n",
        "eval_pts = torch.arange(10, 1001, 1)\n",
        "eval_vals = evaluate_lp_circuit(train_data_low_tf[0][:, None], eval_pts[None, :])\n",
        "loss_surface_mse = loss_fn(eval_vals, train_data_low_tf[1][:, None].expand(eval_vals.shape))\n",
        "ax2.plot(eval_pts, loss_surface_mse.sum(0), linewidth=3)\n",
        "cur_loss, = ax2.plot(R_values_low_tf[0], loss_surface_mse[:, int(R_values_low_tf[0] - 10)].sum(0), marker=\"o\")\n",
        "cur_loss_label = ax2.annotate(f\"R = {R_values_low_tf[0]:.0f}\", (0, 0), xytext=(0.82, 0.9), textcoords='axes fraction')\n",
        "ax2.set_title(\"Loss Surface\")\n",
        "ax2.set_xlim([0, 1000])\n",
        "ax2.set_xlabel(\"$R \\; (\\Omega)$\")\n",
        "ax2.set_ylabel(\"Loss\")\n",
        "\n",
        "# Show loss contributions of each data point\n",
        "cur_circuit = LowPassCircuit(R_values_low_tf[0])\n",
        "data_losses = loss_fn(cur_circuit(train_data_low_tf[0][::subsample]), (train_data_low_tf[1][::subsample]).float())\n",
        "data_grads = torch.zeros(len(data_losses))\n",
        "for i, dl in enumerate(data_losses):\n",
        "    data_grads[i] = torch.autograd.grad(dl, cur_circuit.R, retain_graph=True)[0]\n",
        "data_grads_scat = ax3.scatter(train_data_low_tf[0][::subsample] / (2 * math.pi), data_grads, marker=\"x\", c=\"k\")\n",
        "ax3.set_xscale(\"log\")\n",
        "ax3.set_ylabel(\"Derivative\")\n",
        "ax3.set_xlim([1, 1e6])\n",
        "ax3.set_ylim([-1e-4, 1e-3])\n",
        "ax3.set_xlabel(\"Frequency (Hz)\")\n",
        "ax3.set_title(\"Derivative by Training Datapoint\")\n",
        "\n",
        "# Show total gradient at each training iteration\n",
        "ax4.plot(np.arange(len(grad_values_low_tf)), grad_values_low_tf, linewidth=3)\n",
        "cur_iter, = ax4.plot(0, grad_values_low_tf[0], marker=\"o\")\n",
        "cur_grad_label = ax4.annotate(f\"Grad = {grad_values_low_tf[0]:.2e}\", (0, 0), xytext=(0.65, 0.9), textcoords='axes fraction')\n",
        "ax4.set_xlabel(\"Training Iteration\")\n",
        "ax4.set_ylabel(\"Gradient\")\n",
        "ax4.set_title(\"Gradients\")\n",
        "ax4.set_xlim([-1, len(grad_values_low_tf)])\n",
        "\n",
        "plt.tight_layout()\n",
        "\n",
        "# Main update function for interactive plots\n",
        "def update_iter_tf(t=0):\n",
        "    learned_tf.set_data(ws / (2 * math.pi), 20 * torch.log10(evaluate_lp_circuit(ws, R_values_low_tf[t])))\n",
        "    cur_loss.set_data(R_values_low_tf[t], loss_surface_mse[:, int(R_values_low_tf[t] - 10)].sum(0))\n",
        "    cur_loss_label.set_text(f\"R = {R_values_low_tf[t]:.0f}\")\n",
        "    cur_iter.set_data(t, grad_values_low_tf[t])\n",
        "    cur_grad_label.set_text(f\"Grad = {grad_values_low_tf[t]:.2e}\")\n",
        "    cur_circuit = LowPassCircuit(R_values_low_tf[t])\n",
        "    data_losses = loss_fn(cur_circuit(train_data_low_tf[0][::subsample]), (train_data_low_tf[1][::subsample]).float())\n",
        "    data_grads = torch.zeros(len(data_losses))\n",
        "    for i, dl in enumerate(data_losses):\n",
        "        data_grads[i] = torch.autograd.grad(dl, cur_circuit.R, retain_graph=True)[0]\n",
        "    data_grads_scat.set_offsets(torch.stack((train_data_low_tf[0][::subsample] / (2 * math.pi), data_grads)).T)\n",
        "    fig.canvas.draw_idle()\n",
        "    \n",
        "# Include sliders for relevant quantities\n",
        "ip = interactive(update_iter_tf, \n",
        "                 t=widgets.IntSlider(value=0, min=0, max=len(R_values_low_tf) - 1, step=1, description=\"Training Iteration\", style={'description_width': 'initial'}, layout=Layout(width='100%')))\n",
        "ip"
      ]
    },
    {
      "cell_type": "markdown",
      "id": "38bd4f56",
      "metadata": {
        "id": "38bd4f56"
      },
      "source": [
        "## (d) Learning a Low Pass Filter from Binary Data with Mean Squared Error Loss"
      ]
    },
    {
      "cell_type": "code",
      "execution_count": 28,
      "id": "cd02eb2e",
      "metadata": {
        "id": "cd02eb2e"
      },
      "outputs": [],
      "source": [
        "# Train a given low pass filter from binary data\n",
        "def train_lp_circuit_binary(circuit, loss_fn, dataset_size, max_training_steps, lr):\n",
        "    \n",
        "    R_values = [float(circuit.R.data)]\n",
        "    grad_values = [np.nan]\n",
        "    train_data = generate_lp_training_data(dataset_size)\n",
        "    print(f\"Initial Resistor Value: R = {float(circuit.R.data):.0f}\")\n",
        "    iter_bar = tqdm.trange(max_training_steps, desc=\"Training Iter\")\n",
        "\n",
        "    scaled_cutoff_dB = 10 ** (cutoff_dB / 2)\n",
        "    true_bin_as_float = (train_data[1] < scaled_cutoff_dB).float()\n",
        "\n",
        "    for i in iter_bar:\n",
        "        pred = circuit(train_data[0])\n",
        "        ### YOUR CODE HERE\n",
        "        torch.where(pred < scaled_cutoff_dB, float(0), float(1))\n",
        "        #loss = loss_fn(pred, true_bin_as_float).mean()\n",
        "        loss = binaryCrossEntropy(true_bin_as_float,pred)\n",
        "        ### END YOUR CODE\n",
        "        grad = torch.autograd.grad(loss, circuit.R)\n",
        "        with torch.no_grad():\n",
        "            circuit.R -= lr * grad[0]\n",
        "\n",
        "        R_values.append(float(circuit.R.data))\n",
        "        grad_values.append(float(grad[0].data))\n",
        "        iter_bar.set_postfix_str(f\"Loss: {float(loss.data):.3f}, R={float(circuit.R.data):.0f}\")\n",
        "        if loss.data < 1e-6 or abs(grad[0].data) < 1e-6:\n",
        "            break\n",
        "\n",
        "    print(f\"Final Resistor Value: R = {float(circuit.R.data):.0f}\")        \n",
        "    return train_data, R_values, grad_values\n",
        "\n",
        "def binaryCrossEntropy(y_true, y_pred):\n",
        "    y_pred = torch.clip(y_pred, 1e-7, 1 - 1e-7)\n",
        "    term_0 = (1-y_true) * torch.log(1-y_pred + 1e-7)\n",
        "    term_1 = y_true * torch.log(y_pred + 1e-7)\n",
        "    return -torch.mean(term_0+term_1, axis=0)"
      ]
    },
    {
      "cell_type": "code",
      "execution_count": 29,
      "id": "93cf1d40",
      "metadata": {
        "id": "93cf1d40",
        "outputId": "28c723da-9b10-4424-97f7-e8ca395e8f56",
        "colab": {
          "base_uri": "https://localhost:8080/"
        }
      },
      "outputs": [
        {
          "output_type": "stream",
          "name": "stdout",
          "text": [
            "Initial Resistor Value: R = 500\n"
          ]
        },
        {
          "output_type": "stream",
          "name": "stderr",
          "text": [
            "Training Iter: 100%|██████████| 5000/5000 [00:19<00:00, 262.57it/s, Loss: 4.304, R=728]"
          ]
        },
        {
          "output_type": "stream",
          "name": "stdout",
          "text": [
            "Final Resistor Value: R = 728\n"
          ]
        },
        {
          "output_type": "stream",
          "name": "stderr",
          "text": [
            "\n"
          ]
        }
      ],
      "source": [
        "# Create a circuit, use MSE loss with learning rate of 200\n",
        "circuit = LowPassCircuit(500)\n",
        "loss_fn = lambda x, y: (x - y) ** 2\n",
        "lr = 50\n",
        "iter = 5000\n",
        "#train_data_low_bin, R_values_low_bin, grad_values_low_bin = train_lp_circuit_binary(circuit, loss_fn, dataset_size, max_training_steps, lr)\n",
        "train_data_low_bin, R_values_low_bin, grad_values_low_bin = train_lp_circuit_binary(circuit, loss_fn, dataset_size, iter, lr)"
      ]
    },
    {
      "cell_type": "code",
      "execution_count": 30,
      "id": "0f86febe",
      "metadata": {
        "id": "0f86febe",
        "outputId": "d66acea1-146b-4fc2-ae2a-d44cfb9a2d80",
        "colab": {
          "base_uri": "https://localhost:8080/",
          "height": 553,
          "referenced_widgets": [
            "dab3c0348ccc47c2904646ee09a0c91e",
            "acf0d66f4c6b425cb85ee999afc46a66",
            "4bf323a7e603426c8f8de2a0807c3aaf",
            "80bccd3311ae4b05a437896ec5270d19",
            "0fe7e79d07ae4ff2ba0998a25c70be24",
            "5d23e55e7ad34bff8a33431e3d02dc44",
            "0f780de7eadb4f10b77df2319583c0e7",
            "58bcf63a9b584dd3af96e48434769629",
            "436c90a7d9064a3f973b77df43e49585",
            "4e54c840d7b64ac1a3837aa4559a4e80",
            "e2fa00816a6d402a9429d81ba90ff91c"
          ]
        }
      },
      "outputs": [
        {
          "output_type": "display_data",
          "data": {
            "text/plain": [
              "interactive(children=(IntSlider(value=0, description='Training Iteration', layout=Layout(width='100%'), max=50…"
            ],
            "application/vnd.jupyter.widget-view+json": {
              "version_major": 2,
              "version_minor": 0,
              "model_id": "dab3c0348ccc47c2904646ee09a0c91e"
            }
          },
          "metadata": {
            "application/vnd.jupyter.widget-view+json": {
              "colab": {
                "custom_widget_manager": {
                  "url": "https://ssl.gstatic.com/colaboratory-static/widgets/colab-cdn-widget-manager/b3e629b1971e1542/manager.min.js"
                }
              }
            }
          }
        },
        {
          "output_type": "display_data",
          "data": {
            "text/plain": [
              "Canvas(toolbar=Toolbar(toolitems=[('Home', 'Reset original view', 'home', 'home'), ('Back', 'Back to previous …"
            ],
            "image/png": "[encoded data removed]",
            "text/html": [
              "\n",
              "            <div style=\"display: inline-block;\">\n",
              "                <div class=\"jupyter-widgets widget-label\" style=\"text-align: center;\">\n",
              "                    Figure\n",
              "                </div>\n",
              "                <img src='data:image/png;base64,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' width=648.0/>\n",
              "            </div>\n",
              "        "
            ],
            "application/vnd.jupyter.widget-view+json": {
              "version_major": 2,
              "version_minor": 0,
              "model_id": "58bcf63a9b584dd3af96e48434769629"
            }
          },
          "metadata": {
            "application/vnd.jupyter.widget-view+json": {
              "colab": {
                "custom_widget_manager": {
                  "url": "https://ssl.gstatic.com/colaboratory-static/widgets/colab-cdn-widget-manager/b3e629b1971e1542/manager.min.js"
                }
              }
            }
          }
        }
      ],
      "source": [
        "# Plot transfer function over training\n",
        "fig, ((ax1, ax2), (ax3, ax4)) = plt.subplots(2, 2, figsize=(9, 6))\n",
        "ws = 2 * math.pi * 10 ** torch.linspace(0, 6, 1000)\n",
        "subsample = int(dataset_size / 100)\n",
        "train_data_mask = train_data_low_bin[1][::subsample] > cutoff_mag\n",
        "ax1.scatter(train_data_low_bin[0][::subsample][train_data_mask] / (2 * math.pi), np.ones(train_data_mask.sum()), c=\"r\", marker=\"x\")\n",
        "ax1.scatter(train_data_low_bin[0][::subsample][~train_data_mask] / (2 * math.pi), np.zeros((~train_data_mask).sum()), c=\"k\", marker=\"x\")\n",
        "mags = evaluate_lp_circuit(ws, R_values_low_bin[0])\n",
        "learned_tf, = ax1.semilogx(ws / (2 * math.pi), mags, linewidth=3)\n",
        "cutoff = ws[np.argmax(mags < cutoff_mag)]\n",
        "cut = ax1.axvline(cutoff / (2 * math.pi), c=\"red\", linestyle=\"--\", linewidth=3)\n",
        "ax1.set_xlim([1, 1e6])\n",
        "ax1.set_title(\"Transfer Function\")\n",
        "ax1.set_xlabel(\"Frequency (Hz)\")\n",
        "ax1.set_ylabel(\"Magnitude\")\n",
        "ax1.legend([\"Learned TF\", \"Learned $f_c$\", \"TF + Samples\", \"TF - Samples\"])\n",
        "\n",
        "# Show loss surface over training\n",
        "eval_pts = torch.arange(10, 1001, 1)\n",
        "eval_vals = evaluate_lp_circuit(train_data_low_bin[0][:, None], eval_pts[None, :])\n",
        "loss_surface_mse = loss_fn(eval_vals, (train_data_low_bin[1][:, None].expand(eval_vals.shape) > cutoff_mag).float())\n",
        "ax2.plot(eval_pts, loss_surface_mse.sum(0), linewidth=3)\n",
        "cur_loss, = ax2.plot(R_values_low_bin[0], loss_surface_mse[:, int(R_values_low_bin[0] - 10)].sum(0), marker=\"o\")\n",
        "cur_loss_label = ax2.annotate(f\"R = {R_values_low_bin[0]:.0f}\", (0, 0), xytext=(0.82, 0.9), textcoords='axes fraction')\n",
        "ax2.set_title(\"Loss Surface\")\n",
        "ax2.set_xlim([0, 1000])\n",
        "ax2.set_xlabel(\"$R \\; (\\Omega)$\")\n",
        "ax2.set_ylabel(\"Loss\")\n",
        "\n",
        "# Show loss contributions of each data point\n",
        "cur_circuit = LowPassCircuit(R_values_low_bin[0])\n",
        "data_losses = loss_fn(cur_circuit(train_data_low_bin[0][::subsample]), (train_data_low_bin[1][::subsample] > cutoff_mag).float())\n",
        "data_grads = torch.zeros(len(data_losses))\n",
        "for i, dl in enumerate(data_losses):\n",
        "    data_grads[i] = torch.autograd.grad(dl, cur_circuit.R, retain_graph=True)[0]\n",
        "data_grads_scat = ax3.scatter(train_data_low_bin[0][::subsample] / (2 * math.pi), data_grads, marker=\"x\", c=\"k\")\n",
        "ax3.set_xscale(\"log\")\n",
        "ax3.set_ylabel(\"Derivative\")\n",
        "ax3.set_xlim([1, 1e6])\n",
        "ax3.set_ylim([-1.5e-3, 1.5e-3])\n",
        "ax3.set_xlabel(\"Frequency (Hz)\")\n",
        "ax3.set_title(\"Derivative by Training Datapoint\")\n",
        "\n",
        "# Show gradient at each training iteration\n",
        "ax4.plot(np.arange(len(grad_values_low_bin)), grad_values_low_bin, linewidth=3)\n",
        "cur_iter, = ax4.plot(0, grad_values_low_bin[0], marker=\"o\")\n",
        "cur_grad_label = ax4.annotate(f\"Grad = {grad_values_low_bin[0]:.2e}\", (0, 0), xytext=(0.65, 0.9), textcoords='axes fraction')\n",
        "ax4.set_xlabel(\"Training Iteration\")\n",
        "ax4.set_ylabel(\"Gradient\")\n",
        "ax4.set_title(\"Gradients\")\n",
        "ax4.set_xlim([-1, len(grad_values_low_bin)])\n",
        "\n",
        "plt.tight_layout()\n",
        "\n",
        "# Main update function for interactive plots\n",
        "def update_iter_low_bin(t=0):\n",
        "    mags = evaluate_lp_circuit(ws, R_values_low_bin[t])\n",
        "    learned_tf.set_data(ws / (2 * math.pi), mags)\n",
        "    cutoff = ws[np.argmax(mags < cutoff_mag)]\n",
        "    cut.set_xdata(cutoff / (2 * math.pi))\n",
        "    cur_loss.set_data(R_values_low_bin[t], loss_surface_mse[:, int(R_values_low_bin[t] - 10)].sum(0))\n",
        "    cur_loss_label.set_text(f\"R = {R_values_low_bin[t]:.0f}\")\n",
        "    cur_iter.set_data(t, grad_values_low_bin[t])\n",
        "    cur_grad_label.set_text(f\"Grad = {grad_values_low_bin[t]:.2e}\")\n",
        "    cur_circuit = LowPassCircuit(R_values_low_bin[t])\n",
        "    data_losses = loss_fn(cur_circuit(train_data_low_bin[0][::subsample]), (train_data_low_bin[1][::subsample] > cutoff_mag).float())\n",
        "    data_grads = torch.zeros(len(data_losses))\n",
        "    for i, dl in enumerate(data_losses):\n",
        "        data_grads[i] = torch.autograd.grad(dl, cur_circuit.R, retain_graph=True)[0]\n",
        "    data_grads_scat.set_offsets(torch.stack((train_data_low_bin[0][::subsample] / (2 * math.pi), data_grads)).T)\n",
        "    fig.canvas.draw_idle()\n",
        "    \n",
        "# Include sliders for relevant quantities\n",
        "ip = interactive(update_iter_low_bin, \n",
        "                 t=widgets.IntSlider(value=0, min=0, max=len(R_values_low_bin) - 1, step=1, description=\"Training Iteration\", style={'description_width': 'initial'}, layout=Layout(width='100%')))\n",
        "ip"
      ]
    },
    {
      "cell_type": "markdown",
      "id": "320acfe9",
      "metadata": {
        "id": "320acfe9"
      },
      "source": [
        "## (e) Learning a Low Pass Filter from Binary Data with a Different Loss"
      ]
    },
    {
      "cell_type": "code",
      "execution_count": null,
      "id": "c6b1d442",
      "metadata": {
        "id": "c6b1d442"
      },
      "outputs": [],
      "source": [
        "circuit = LowPassCircuit(500)\n",
        "### YOUR CODE HERE\n",
        "loss_fn = lambda x, y: ?\n",
        "### END YOUR CODE\n",
        "train_data_low_bin, R_values_low_bin, grad_values_low_bin = train_lp_circuit_binary(circuit, loss_fn, dataset_size, max_training_steps, lr)"
      ]
    },
    {
      "cell_type": "code",
      "execution_count": null,
      "id": "a43257ab",
      "metadata": {
        "id": "a43257ab"
      },
      "outputs": [],
      "source": [
        "# Plot transfer function over training\n",
        "fig, ((ax1, ax2), (ax3, ax4)) = plt.subplots(2, 2, figsize=(9, 6))\n",
        "ws = 2 * math.pi * 10 ** torch.linspace(0, 6, 1000)\n",
        "subsample = int(dataset_size / 100)\n",
        "train_data_mask = train_data_low_bin[1][::subsample] > cutoff_mag\n",
        "ax1.scatter(train_data_low_bin[0][::subsample][train_data_mask] / (2 * math.pi), np.ones(train_data_mask.sum()), c=\"r\", marker=\"x\")\n",
        "ax1.scatter(train_data_low_bin[0][::subsample][~train_data_mask] / (2 * math.pi), np.zeros((~train_data_mask).sum()), c=\"k\", marker=\"x\")\n",
        "mags = evaluate_lp_circuit(ws, R_values_low_bin[0])\n",
        "learned_tf, = ax1.semilogx(ws / (2 * math.pi), mags, linewidth=3)\n",
        "cutoff = ws[np.argmax(mags < cutoff_mag)]\n",
        "cut = ax1.axvline(cutoff / (2 * math.pi), c=\"red\", linestyle=\"--\", linewidth=3)\n",
        "ax1.set_xlim([1, 1e6])\n",
        "ax1.set_title(\"Transfer Function\")\n",
        "ax1.set_xlabel(\"Frequency (Hz)\")\n",
        "ax1.set_ylabel(\"Magnitude\")\n",
        "ax1.legend([\"Learned TF\", \"Learned $f_c$\", \"TF + Samples\", \"TF - Samples\"])\n",
        "\n",
        "# Show loss surface over training\n",
        "eval_pts = torch.arange(10, 1001, 1)\n",
        "eval_vals = evaluate_lp_circuit(train_data_low_bin[0][:, None], eval_pts[None, :])\n",
        "loss_surface_mse = loss_fn(eval_vals, (train_data_low_bin[1][:, None].expand(eval_vals.shape) > cutoff_mag).float())\n",
        "ax2.plot(eval_pts, loss_surface_mse.sum(0), linewidth=3)\n",
        "cur_loss, = ax2.plot(R_values_low_bin[0], loss_surface_mse[:, int(R_values_low_bin[0] - 10)].sum(0), marker=\"o\")\n",
        "cur_loss_label = ax2.annotate(f\"R = {R_values_low_bin[0]:.0f}\", (0, 0), xytext=(0.82, 0.9), textcoords='axes fraction')\n",
        "ax2.set_title(\"Loss Surface\")\n",
        "ax2.set_xlim([0, 1000])\n",
        "ax2.set_xlabel(\"$R \\; (\\Omega)$\")\n",
        "ax2.set_ylabel(\"Loss\")\n",
        "\n",
        "# Show loss contributions of each data point\n",
        "cur_circuit = LowPassCircuit(R_values_low_bin[0])\n",
        "data_losses = loss_fn(cur_circuit(train_data_low_bin[0][::subsample]), (train_data_low_bin[1][::subsample] > cutoff_mag).float())\n",
        "data_grads = torch.zeros(len(data_losses))\n",
        "for i, dl in enumerate(data_losses):\n",
        "    data_grads[i] = torch.autograd.grad(dl, cur_circuit.R, retain_graph=True)[0]\n",
        "data_grads_scat = ax3.scatter(train_data_low_bin[0][::subsample] / (2 * math.pi), data_grads, marker=\"x\", c=\"k\")\n",
        "ax3.set_xscale(\"log\")\n",
        "ax3.set_ylabel(\"Derivative\")\n",
        "ax3.set_xlim([1, 1e6])\n",
        "ax3.set_ylim([-1.5e-3, 1.5e-3])\n",
        "ax3.set_xlabel(\"Frequency (Hz)\")\n",
        "ax3.set_title(\"Derivative by Training Datapoint\")\n",
        "\n",
        "# Show gradient at each training iteration\n",
        "ax4.plot(np.arange(len(grad_values_low_bin)), grad_values_low_bin, linewidth=3)\n",
        "cur_iter, = ax4.plot(0, grad_values_low_bin[0], marker=\"o\")\n",
        "cur_grad_label = ax4.annotate(f\"Grad = {grad_values_low_bin[0]:.2e}\", (0, 0), xytext=(0.65, 0.9), textcoords='axes fraction')\n",
        "ax4.set_xlabel(\"Training Iteration\")\n",
        "ax4.set_ylabel(\"Gradient\")\n",
        "ax4.set_title(\"Gradients\")\n",
        "ax4.set_xlim([-1, len(grad_values_low_bin)])\n",
        "\n",
        "plt.tight_layout()\n",
        "\n",
        "# Main update function for interactive plots\n",
        "def update_iter_low_bin(t=0):\n",
        "    mags = evaluate_lp_circuit(ws, R_values_low_bin[t])\n",
        "    learned_tf.set_data(ws / (2 * math.pi), mags)\n",
        "    cutoff = ws[np.argmax(mags < cutoff_mag)]\n",
        "    cut.set_xdata(cutoff / (2 * math.pi))\n",
        "    cur_loss.set_data(R_values_low_bin[t], loss_surface_mse[:, int(R_values_low_bin[t] - 10)].sum(0))\n",
        "    cur_loss_label.set_text(f\"R = {R_values_low_bin[t]:.0f}\")\n",
        "    cur_iter.set_data(t, grad_values_low_bin[t])\n",
        "    cur_grad_label.set_text(f\"Grad = {grad_values_low_bin[t]:.2e}\")\n",
        "    cur_circuit = LowPassCircuit(R_values_low_bin[t])\n",
        "    data_losses = loss_fn(cur_circuit(train_data_low_bin[0][::subsample]), (train_data_low_bin[1][::subsample] > cutoff_mag).float())\n",
        "    data_grads = torch.zeros(len(data_losses))\n",
        "    for i, dl in enumerate(data_losses):\n",
        "        data_grads[i] = torch.autograd.grad(dl, cur_circuit.R, retain_graph=True)[0]\n",
        "    data_grads_scat.set_offsets(torch.stack((train_data_low_bin[0][::subsample] / (2 * math.pi), data_grads)).T)\n",
        "    fig.canvas.draw_idle()\n",
        "    \n",
        "# Include sliders for relevant quantities\n",
        "ip = interactive(update_iter_low_bin, \n",
        "                 t=widgets.IntSlider(value=0, min=0, max=len(R_values_low_bin) - 1, step=1, description=\"Training Iteration\", style={'description_width': 'initial'}, layout=Layout(width='100%')))\n",
        "ip"
      ]
    },
    {
      "cell_type": "markdown",
      "id": "6284868f",
      "metadata": {
        "id": "6284868f"
      },
      "source": [
        "## (f) Learning a High Pass Filter from Binary Data"
      ]
    },
    {
      "cell_type": "code",
      "execution_count": null,
      "id": "f66e7a16",
      "metadata": {
        "id": "f66e7a16"
      },
      "outputs": [],
      "source": [
        "# Transfer function: evaluates magnitude of given frequencies for a resistor value in the high pass circuit\n",
        "def evaluate_hp_circuit(freqs, R_high):\n",
        "    ### YOUR CODE HERE\n",
        "    return ?\n",
        "    ### END YOUR CODE\n",
        "\n",
        "# PyTorch model of the high pass circuit (for training)\n",
        "class HighPassCircuit(nn.Module):\n",
        "    def __init__(self, R=None):\n",
        "        super().__init__()\n",
        "        self.R = nn.Parameter(torch.tensor(R, dtype=float) if R is not None else torch.rand(1) * 1000)\n",
        "        \n",
        "    def forward(self, freqs):\n",
        "        return evaluate_hp_circuit(freqs, self.R)\n",
        "    \n",
        "# Generate training data in a uniform log scale of frequences, then evaluate using the true transfer function\n",
        "R_high_des = 1 / (2 * math.pi * 5000 * cap_value)\n",
        "def generate_hp_training_data(n):\n",
        "    rand_ws = 2 * math.pi * torch.pow(10, torch.rand(n) * 6)\n",
        "    labels = evaluate_hp_circuit(rand_ws, R_high_des)\n",
        "    return rand_ws, labels\n",
        "\n",
        "# Train a given low pass filter from binary data\n",
        "def train_hp_circuit_binary(circuit, loss_fn, dataset_size, max_training_steps, lr):\n",
        "    \n",
        "    R_values = [float(circuit.R.data)]\n",
        "    grad_values = [np.nan]\n",
        "    train_data = generate_hp_training_data(dataset_size)\n",
        "    print(f\"Initial Resistor Value: R = {float(circuit.R.data):.0f}\")\n",
        "    iter_bar = tqdm.trange(max_training_steps, desc=\"Training Iter\")\n",
        "    for i in iter_bar:\n",
        "        pred = circuit(train_data[0])\n",
        "        loss = loss_fn(pred, (train_data[1] > cutoff_mag).float()).mean()\n",
        "        ### YOUR CODE HERE\n",
        "        grad = torch.autograd.grad(?, ?)\n",
        "        ### END YOUR CODE\n",
        "        with torch.no_grad():\n",
        "            ### YOUR CODE HERE\n",
        "            circuit.R -= ?\n",
        "            ### END YOUR CODE\n",
        "            \n",
        "        R_values.append(float(circuit.R.data))\n",
        "        grad_values.append(float(grad[0].data))\n",
        "        iter_bar.set_postfix_str(f\"Loss: {float(loss.data):.3f}, R={float(circuit.R.data):.0f}\")\n",
        "        if loss.data < 1e-6 or abs(grad[0].data) < 1e-6:\n",
        "            break\n",
        "\n",
        "    print(f\"Final Resistor Value: R = {float(circuit.R.data):.0f}\")        \n",
        "    return train_data, R_values, grad_values"
      ]
    },
    {
      "cell_type": "code",
      "execution_count": null,
      "id": "83d01c6a",
      "metadata": {
        "id": "83d01c6a"
      },
      "outputs": [],
      "source": [
        "# Create a circuit, use loss_fn with learning rate of 1000\n",
        "circuit = HighPassCircuit(500)\n",
        "### YOUR CODE HERE\n",
        "lambda x, y: ?\n",
        "### END YOUR CODE\n",
        "lr = 1000\n",
        "train_data_high_bin, R_values_high_bin, grad_values_high_bin = train_hp_circuit_binary(circuit, loss_fn, dataset_size, max_training_steps, lr)"
      ]
    },
    {
      "cell_type": "code",
      "execution_count": null,
      "id": "209aee6b",
      "metadata": {
        "id": "209aee6b"
      },
      "outputs": [],
      "source": [
        "# Plot transfer function over training\n",
        "fig, ((ax1, ax2), (ax3, ax4)) = plt.subplots(2, 2, figsize=(9, 6))\n",
        "ws = 2 * math.pi * 10 ** torch.linspace(0, 6, 1000)\n",
        "subsample = int(dataset_size / 100)\n",
        "train_data_mask = train_data_high_bin[1][::subsample] > cutoff_mag\n",
        "ax1.scatter(train_data_high_bin[0][::subsample][train_data_mask] / (2 * math.pi), np.ones(train_data_mask.sum()), c=\"r\", marker=\"x\")\n",
        "ax1.scatter(train_data_high_bin[0][::subsample][~train_data_mask] / (2 * math.pi), np.zeros((~train_data_mask).sum()), c=\"k\", marker=\"x\")\n",
        "mags = evaluate_hp_circuit(ws, R_values_high_bin[0])\n",
        "learned_tf, = ax1.semilogx(ws / (2 * math.pi), mags, linewidth=3)\n",
        "cutoff = ws[np.argmax(mags > cutoff_mag)]\n",
        "cut = ax1.axvline(cutoff / (2 * math.pi), c=\"red\", linestyle=\"--\", linewidth=3)\n",
        "ax1.set_xlim([1, 1e6])\n",
        "ax1.set_title(\"Transfer Function\")\n",
        "ax1.set_xlabel(\"Frequency (Hz)\")\n",
        "ax1.set_ylabel(\"Magnitude\")\n",
        "ax1.legend([\"Learned TF\", \"Learned $f_c$\", \"TF + Samples\", \"TF - Samples\"])\n",
        "\n",
        "# Show loss surface over training\n",
        "eval_pts = torch.arange(10, 1001, 1)\n",
        "eval_vals = evaluate_hp_circuit(train_data_high_bin[0][:, None], eval_pts[None, :])\n",
        "loss_surface_mse = loss_fn(eval_vals, (train_data_high_bin[1][:, None].expand(eval_vals.shape) > cutoff_mag).float())\n",
        "ax2.plot(eval_pts, loss_surface_mse.sum(0), linewidth=3)\n",
        "cur_loss, = ax2.plot(R_values_high_bin[0], loss_surface_mse[:, int(R_values_high_bin[0] - 10)].sum(0), marker=\"o\")\n",
        "cur_loss_label = ax2.annotate(f\"R = {R_values_high_bin[0]:.0f}\", (0, 0), xytext=(0.82, 0.9), textcoords='axes fraction')\n",
        "ax2.set_title(\"Loss Surface\")\n",
        "ax2.set_xlim([0, 1000])\n",
        "ax2.set_xlabel(\"$R \\; (\\Omega)$\")\n",
        "ax2.set_ylabel(\"Loss\")\n",
        "\n",
        "# Show loss contributions of each data point\n",
        "cur_circuit = HighPassCircuit(R_values_high_bin[0])\n",
        "data_losses = loss_fn(cur_circuit(train_data_high_bin[0][::subsample]), (train_data_high_bin[1][::subsample] > cutoff_mag).float())\n",
        "data_grads = torch.zeros(len(data_losses))\n",
        "for i, dl in enumerate(data_losses):\n",
        "    data_grads[i] = torch.autograd.grad(dl, cur_circuit.R, retain_graph=True)[0]\n",
        "data_grads_scat = ax3.scatter(train_data_high_bin[0][::subsample] / (2 * math.pi), data_grads, marker=\"x\", c=\"k\")\n",
        "ax3.set_xscale(\"log\")\n",
        "ax3.set_ylabel(\"Derivative\")\n",
        "ax3.set_xlim([1, 1e6])\n",
        "ax3.set_ylim([-3e-3, 3e-3])\n",
        "ax3.set_xlabel(\"Frequency (Hz)\")\n",
        "ax3.set_title(\"Derivative by Training Datapoint\")\n",
        "\n",
        "# Show gradient at each training iteration\n",
        "ax4.plot(np.arange(len(grad_values_high_bin)), grad_values_high_bin, linewidth=3)\n",
        "cur_iter, = ax4.plot(0, grad_values_high_bin[0], marker=\"o\")\n",
        "cur_grad_label = ax4.annotate(f\"Grad = {grad_values_high_bin[0]:.2e}\", (0, 0), xytext=(0.65, 0.9), textcoords='axes fraction')\n",
        "ax4.set_xlabel(\"Training Iteration\")\n",
        "ax4.set_ylabel(\"Gradient\")\n",
        "ax4.set_title(\"Gradients\")\n",
        "ax4.set_xlim([-1, len(grad_values_high_bin)])\n",
        "\n",
        "plt.tight_layout()\n",
        "\n",
        "# Main update function for interactive plots\n",
        "def update_iter_high_bin(t=0):\n",
        "    mags = evaluate_hp_circuit(ws, R_values_high_bin[t])\n",
        "    learned_tf.set_data(ws / (2 * math.pi), mags)\n",
        "    cutoff = ws[np.argmax(mags > cutoff_mag)]\n",
        "    cut.set_xdata(cutoff / (2 * math.pi))\n",
        "    cur_loss.set_data(R_values_high_bin[t], loss_surface_mse[:, int(R_values_high_bin[t] - 10)].sum(0))\n",
        "    cur_loss_label.set_text(f\"R = {R_values_high_bin[t]:.0f}\")\n",
        "    cur_iter.set_data(t, grad_values_high_bin[t])\n",
        "    cur_grad_label.set_text(f\"Grad = {grad_values_high_bin[t]:.2e}\")\n",
        "    cur_circuit = HighPassCircuit(R_values_high_bin[t])\n",
        "    data_losses = loss_fn(cur_circuit(train_data_high_bin[0][::subsample]), (train_data_high_bin[1][::subsample] > cutoff_mag).float())\n",
        "    data_grads = torch.zeros(len(data_losses))\n",
        "    for i, dl in enumerate(data_losses):\n",
        "        data_grads[i] = torch.autograd.grad(dl, cur_circuit.R, retain_graph=True)[0]\n",
        "    data_grads_scat.set_offsets(torch.stack((train_data_high_bin[0][::subsample] / (2 * math.pi), data_grads)).T)\n",
        "    fig.canvas.draw_idle()\n",
        "    \n",
        "# Include sliders for relevant quantities\n",
        "ip = interactive(update_iter_high_bin, \n",
        "                 t=widgets.IntSlider(value=0, min=0, max=len(R_values_high_bin) - 1, step=1, description=\"Training Iteration\", style={'description_width': 'initial'}, layout=Layout(width='100%')))\n",
        "ip"
      ]
    },
    {
      "cell_type": "markdown",
      "id": "95e0606c",
      "metadata": {
        "id": "95e0606c"
      },
      "source": [
        "## (g) Learning a Band Pass Filter from Binary Data"
      ]
    },
    {
      "cell_type": "code",
      "execution_count": null,
      "id": "17a763da",
      "metadata": {
        "id": "17a763da"
      },
      "outputs": [],
      "source": [
        "# Transfer function: evaluates magnitude of given frequencies for resistor values in the band pass circuit\n",
        "def evaluate_bp_circuit(freqs, R_low, R_high):\n",
        "    ### YOUR CODE HERE\n",
        "    return ?\n",
        "    ### END YOUR CODE\n",
        "\n",
        "# PyTorch model of the band pass circuit (for training)\n",
        "class BandPassCircuit(nn.Module):\n",
        "    def __init__(self, R_low=None, R_high=None):\n",
        "        super().__init__()\n",
        "        self.R_low = nn.Parameter(torch.tensor(R_low, dtype=float) if R_low is not None else torch.rand(1) * 1000)\n",
        "        self.R_high = nn.Parameter(torch.tensor(R_high, dtype=float) if R_high is not None else torch.rand(1) * 1000)\n",
        "        \n",
        "    def forward(self, freqs):\n",
        "        return evaluate_bp_circuit(freqs, self.R_low, self.R_high)\n",
        "    \n",
        "# Generate training data in a uniform log scale of frequences, then evaluate using true transfer function\n",
        "R_low_des = 1 / (2 * math.pi * 4000 * cap_value)\n",
        "R_high_des = 1 / (2 * math.pi * 1000 * cap_value)\n",
        "def generate_bp_training_data(n):\n",
        "    rand_ws = 2 * math.pi * torch.pow(10, torch.rand(n) * 6)\n",
        "    labels = evaluate_bp_circuit(rand_ws, R_low_des, R_high_des)\n",
        "    return rand_ws, labels\n",
        "\n",
        "# Train a given low pass filter from binary data\n",
        "def train_bp_circuit_binary(circuit, loss_fn, dataset_size, max_training_steps, lr):\n",
        "    \n",
        "    R_values = [[float(circuit.R_low.data), float(circuit.R_high.data)]]\n",
        "    grad_values = [[np.nan, np.nan]]\n",
        "    train_data = generate_bp_training_data(dataset_size)\n",
        "    print(f\"Initial Resistor Values: R_low = {float(circuit.R_low.data):.0f}, R_high = {float(circuit.R_high.data):.0f}\")\n",
        "    iter_bar = tqdm.trange(max_training_steps, desc=\"Training Iter\")\n",
        "    for i in iter_bar:\n",
        "        pred = circuit(train_data[0])\n",
        "        loss = loss_fn(pred, (train_data[1] > cutoff_mag).float()).mean()\n",
        "        ### YOUR CODE HERE\n",
        "        grad = torch.autograd.grad(?, ?)\n",
        "        ### END YOUR CODE\n",
        "        with torch.no_grad():\n",
        "            ### YOUR CODE HERE\n",
        "            circuit.R_low -= ?\n",
        "            circuit.R_high -= ?\n",
        "            ### END YOUR CODE\n",
        "            \n",
        "        R_values.append([float(circuit.R_low.data), float(circuit.R_high.data)])\n",
        "        grad_values.append([float(grad[0].data), float(grad[1].data)])\n",
        "        iter_bar.set_postfix_str(f\"Loss: {float(loss.data):.3f}, R_low={float(circuit.R_low.data):.0f}, R_high={float(circuit.R_high.data):.0f}\")\n",
        "        if loss.data < 1e-6 or (abs(grad[0].data) < 1e-6 and abs(grad[1].data) < 1e-6):\n",
        "            break\n",
        "\n",
        "    print(f\"Final Resistor Values: R_low = {float(circuit.R_low.data):.0f}, R_high = {float(circuit.R_high.data):.0f}\")\n",
        "    return train_data, R_values, grad_values"
      ]
    },
    {
      "cell_type": "code",
      "execution_count": null,
      "id": "07eea001",
      "metadata": {
        "id": "07eea001"
      },
      "outputs": [],
      "source": [
        "# Create a circuit, use loss_fn with learning rate of 1000\n",
        "circuit = BandPassCircuit(500, 500)\n",
        "lr = 1000\n",
        "train_data_band_bin, R_values_band_bin, grad_values_band_bin = train_bp_circuit_binary(circuit, loss_fn, dataset_size, max_training_steps, lr)"
      ]
    },
    {
      "cell_type": "code",
      "execution_count": null,
      "id": "eee25792",
      "metadata": {
        "id": "eee25792"
      },
      "outputs": [],
      "source": [
        "# Plot transfer function over training\n",
        "fig, ((ax1, ax2), (ax3, ax4)) = plt.subplots(2, 2, figsize=(9, 6))\n",
        "ws = 2 * math.pi * 10 ** torch.linspace(0, 6, 1000)\n",
        "subsample = int(dataset_size / 100)\n",
        "train_data_mask = train_data_band_bin[1][::subsample] > cutoff_mag\n",
        "ax1.scatter(train_data_band_bin[0][::subsample][train_data_mask] / (2 * math.pi), np.ones(train_data_mask.sum()), c=\"r\", marker=\"x\")\n",
        "ax1.scatter(train_data_band_bin[0][::subsample][~train_data_mask] / (2 * math.pi), np.zeros((~train_data_mask).sum()), c=\"k\", marker=\"x\")\n",
        "learned_tf, = ax1.semilogx(ws / (2 * math.pi), evaluate_bp_circuit(ws, *R_values_band_bin[0]), linewidth=3)\n",
        "ax1.set_xlim([1, 1e6])\n",
        "ax1.set_title(\"Transfer Function\")\n",
        "ax1.set_xlabel(\"Frequency (Hz)\")\n",
        "ax1.set_ylabel(\"Magnitude\")\n",
        "ax1.legend([\"Learned TF\", \"TF + Samples\", \"TF - Samples\"])\n",
        "\n",
        "# Show loss surfaces for BCE and MSE Loss\n",
        "eval_pts = torch.stack(torch.meshgrid((torch.arange(0, 1000, 10), torch.arange(0, 1000, 10)), indexing=\"ij\"))\n",
        "eval_vals = evaluate_bp_circuit(train_data_band_bin[0][:, None, None], eval_pts[0][None, ...], eval_pts[1][None, ...])\n",
        "loss_surface = loss_fn(eval_vals, (train_data_band_bin[1][..., None, None].expand(eval_vals.shape) > cutoff_mag).float())\n",
        "loss_surf = ax2.imshow(torch.log(loss_surface.mean(0)).T, cmap=plt.cm.jet, extent=(0, 1000, 0, 1000), aspect=\"auto\", origin=\"lower\")\n",
        "cur_loss, = ax2.plot(*R_values_band_bin[0], marker=\"o\")\n",
        "cur_loss_label = ax2.annotate(f\"R_low = {R_values_band_bin[0][0]:.0f}\\nR_high = {R_values_band_bin[0][1]:.0f}\", (0, 0), xytext=(0.6, 0.85), textcoords='axes fraction')\n",
        "ax2.set_title(\"Loss Surface\")\n",
        "ax2.set_xlabel(\"$R_\\mathrm{low} \\; (\\Omega)$\")\n",
        "ax2.set_ylabel(\"$R_\\mathrm{high} \\; (\\Omega)$\")\n",
        "fig.colorbar(loss_surf, ax=ax2, label=\"log(loss)\")\n",
        "\n",
        "# Show loss contributions of each data point\n",
        "cur_circuit = BandPassCircuit(*R_values_band_bin[0])\n",
        "data_losses = loss_fn(cur_circuit(train_data_band_bin[0][::subsample]), (train_data_band_bin[1][::subsample] > cutoff_mag).float())\n",
        "data_grads = torch.zeros((len(data_losses), 2))\n",
        "for i, dl in enumerate(data_losses):\n",
        "    data_grads[i] = torch.tensor(torch.autograd.grad(dl, (cur_circuit.R_low, cur_circuit.R_high), retain_graph=True))\n",
        "data_grads_scat1 = ax3.scatter(train_data_band_bin[0][::subsample] / (2 * math.pi), data_grads[:, 0], marker=\"x\")\n",
        "data_grads_scat2 = ax3.scatter(train_data_band_bin[0][::subsample] / (2 * math.pi), data_grads[:, 1], marker=\"x\")\n",
        "ax3.set_xscale(\"log\")\n",
        "ax3.set_ylabel(\"Derivative\")\n",
        "ax3.set_xlim([1, 1e6])\n",
        "ax3.set_ylim([-2e-3, 2e-3])\n",
        "ax3.set_xlabel(\"Frequency (Hz)\")\n",
        "ax3.set_title(\"Derivative by Training Datapoint\")\n",
        "ax3.legend([\"$R_\\mathrm{low}$ Derivatives\", \"$R_\\mathrm{high}$ Derivatives\"])\n",
        "\n",
        "# Show gradient at each training iteration\n",
        "ax4.plot(np.arange(len(grad_values_band_bin)), grad_values_band_bin, linewidth=3)\n",
        "cur_grad0, = ax4.plot(0, grad_values_band_bin[0][0], marker=\"o\")\n",
        "cur_grad1, = ax4.plot(0, grad_values_band_bin[0][1], marker=\"o\")\n",
        "ax4.set_xlabel(\"Training Iteration\")\n",
        "ax4.set_ylabel(\"Gradient\")\n",
        "ax4.set_title(\"Gradients\")\n",
        "ax4.set_xlim([-1, len(grad_values_band_bin)])\n",
        "ax4.legend([\"$R_\\mathrm{low}$ Grad\", \"$R_\\mathrm{high}$ Grad\"])\n",
        "\n",
        "plt.tight_layout()\n",
        "\n",
        "# Main update function for interactive plots\n",
        "def update_iter_band_bin(t=0):\n",
        "    mags = evaluate_bp_circuit(ws, *R_values_band_bin[t])\n",
        "    learned_tf.set_data(ws / (2 * math.pi), mags)\n",
        "    cur_loss.set_data(*R_values_band_bin[t])\n",
        "    cur_loss_label.set_text(f\"R_low = {R_values_band_bin[t][0]:.0f}\\nR_high = {R_values_band_bin[t][1]:.0f}\")\n",
        "    cur_grad0.set_data(t, grad_values_band_bin[t][0])\n",
        "    cur_grad1.set_data(t, grad_values_band_bin[t][1])\n",
        "    cur_circuit = BandPassCircuit(*R_values_band_bin[t])\n",
        "    data_losses = loss_fn(cur_circuit(train_data_band_bin[0][::subsample]), (train_data_band_bin[1][::subsample] > cutoff_mag).float())\n",
        "    data_grads = torch.zeros((len(data_losses), 2))\n",
        "    for i, dl in enumerate(data_losses):\n",
        "        data_grads[i] = torch.tensor(torch.autograd.grad(dl, (cur_circuit.R_low, cur_circuit.R_high), retain_graph=True))\n",
        "    data_grads_scat1.set_offsets(torch.stack((train_data_band_bin[0][::subsample] / (2 * math.pi), data_grads[:, 0])).T)\n",
        "    data_grads_scat2.set_offsets(torch.stack((train_data_band_bin[0][::subsample] / (2 * math.pi), data_grads[:, 1])).T)\n",
        "    fig.canvas.draw_idle()\n",
        "    \n",
        "# Include sliders for relevant quantities\n",
        "ip = interactive(update_iter_band_bin, \n",
        "                 t=widgets.IntSlider(value=0, min=0, max=len(R_values_band_bin) - 1, step=1, description=\"Training Iteration\", style={'description_width': 'initial'}, layout=Layout(width='100%')))\n",
        "ip"
      ]
    },
    {
      "cell_type": "markdown",
      "id": "18acd86a",
      "metadata": {
        "id": "18acd86a"
      },
      "source": [
        "## (h) Learning a Band Pass Filter Bode Plot from Transfer Function Samples"
      ]
    },
    {
      "cell_type": "code",
      "execution_count": null,
      "id": "0e7a1ef2",
      "metadata": {
        "id": "0e7a1ef2"
      },
      "outputs": [],
      "source": [
        "def evaluate_bp_bode(freqs, low_cutoff, high_cutoff):\n",
        "    return -20 * nn.ReLU()(torch.log10(freqs / low_cutoff)) + -20 * nn.ReLU()(torch.log10(high_cutoff / freqs))\n",
        "\n",
        "# PyTorch model of the band pass bode plot\n",
        "class BandPassBodePlot(nn.Module):\n",
        "    def __init__(self, low_cutoff=None, high_cutoff=None):\n",
        "        super().__init__()\n",
        "        self.low_cutoff = nn.Parameter(torch.rand(1) * 5000 if low_cutoff is None else torch.tensor(float(low_cutoff)))\n",
        "        self.high_cutoff = nn.Parameter(torch.rand(1) * 5000 if high_cutoff is None else torch.tensor(float(high_cutoff)))\n",
        "        \n",
        "    def forward(self, freqs):\n",
        "        return evaluate_bp_bode(freqs, self.low_cutoff, self.high_cutoff)\n",
        "\n",
        "# Train a given band pass bode plot\n",
        "def train_bp_bode(bode, loss_fn, dataset_size, max_training_steps, lr):\n",
        "    \n",
        "    cutoff_values = [[float(bode.low_cutoff.data), float(bode.high_cutoff.data)]]\n",
        "    grad_values = [[np.nan, np.nan]]\n",
        "    train_data = generate_bp_training_data(dataset_size)\n",
        "    print(f\"Initial Cutoff Values: f_c,l = {float(bode.low_cutoff.data / (2 * math.pi)):.0f} Hz, f_c,h = {float(bode.high_cutoff.data / (2 * math.pi)):.0f} Hz\")\n",
        "    iter_bar = tqdm.trange(max_training_steps, desc=\"Training Iter\")\n",
        "    for i in iter_bar:\n",
        "        \n",
        "        pred = bode(train_data[0])\n",
        "        loss = loss_fn(pred, 20 * torch.log10(train_data[1])).mean()\n",
        "        grad = torch.autograd.grad(loss, (bode.low_cutoff, bode.high_cutoff))\n",
        "        with torch.no_grad():\n",
        "            bode.low_cutoff -= lr * grad[0]\n",
        "            bode.high_cutoff -= lr * grad[1]\n",
        "        \n",
        "        cutoff_values.append([float(bode.low_cutoff.data), float(bode.high_cutoff.data)])\n",
        "        grad_values.append([float(grad[0].data), float(grad[1].data)])\n",
        "        iter_bar.set_postfix_str(f\"Loss: {float(loss.data):.3f}, f_c,l = {float(bode.low_cutoff.data / (2 * math.pi)):.0f} Hz, f_c,h = {float(bode.high_cutoff.data / (2 * math.pi)):.0f} Hz\")\n",
        "        if loss.data < 1e-6 or (abs(grad[0].data) < 1e-6 and abs(grad[1].data) < 1e-6):\n",
        "            break\n",
        "\n",
        "    print(f\"Final Cutoff Values: f_c,l = {float(bode.low_cutoff.data / (2 * math.pi)):.0f} Hz, f_c,h = {float(bode.high_cutoff.data / (2 * math.pi)):.0f} Hz\")\n",
        "    return train_data, cutoff_values, grad_values"
      ]
    },
    {
      "cell_type": "code",
      "execution_count": null,
      "id": "e74b7515",
      "metadata": {
        "id": "e74b7515"
      },
      "outputs": [],
      "source": [
        "bode = BandPassBodePlot()\n",
        "loss_fn = lambda x, y: (x - y) ** 2    # MSE loss\n",
        "lr = 1000\n",
        "train_data_band_bode, cutoffs_band_bode, grad_values_band_bode = train_bp_bode(bode, loss_fn, dataset_size, max_training_steps, lr)"
      ]
    },
    {
      "cell_type": "code",
      "execution_count": null,
      "id": "c4352b63",
      "metadata": {
        "id": "c4352b63"
      },
      "outputs": [],
      "source": [
        "# Plot transfer function over training\n",
        "fig, ((ax1, ax2), (ax3, ax4)) = plt.subplots(2, 2, figsize=(9, 6))\n",
        "ws = 2 * math.pi * 10 ** torch.linspace(0, 6, 1000)\n",
        "subsample = int(dataset_size / 100)\n",
        "train_data_mask = train_data_band_bode[1][::subsample] > cutoff_mag\n",
        "ax1.scatter(train_data_band_bode[0][::subsample]/ (2 * math.pi), 20 * torch.log10(train_data_band_bode[1][::subsample]), c=\"k\", marker=\"x\")\n",
        "learned_tf, = ax1.semilogx(ws / (2 * math.pi), evaluate_bp_bode(ws, *cutoffs_band_bode[0]), linewidth=3)\n",
        "ax1.set_xlim([1, 1e6])\n",
        "ax1.set_title(\"Transfer Function\")\n",
        "ax1.set_xlabel(\"Frequency (Hz)\")\n",
        "ax1.set_ylabel(\"dB\")\n",
        "ax1.legend([\"Learned Bode Plot\", \"TF Samples\"])\n",
        "\n",
        "# Show loss surfaces for BCE and MSE Loss\n",
        "eval_pts = torch.stack(torch.meshgrid((torch.arange(1, 5001, 50), torch.arange(1, 5001, 50)), indexing=\"ij\"))\n",
        "eval_vals = evaluate_bp_bode(train_data_band_bode[0][:, None, None], 2 * math.pi * eval_pts[0][None, ...], 2 * math.pi * eval_pts[1][None, ...])\n",
        "loss_surface = loss_fn(eval_vals, 20 * torch.log10(train_data_band_bode[1])[..., None, None].expand(eval_vals.shape))\n",
        "loss_surf = ax2.imshow(torch.log(loss_surface.mean(0)).T, cmap=plt.cm.jet, extent=(1, 5000, 1, 5000), aspect=\"auto\", origin=\"lower\")\n",
        "cur_loss, = ax2.plot(cutoffs_band_bode[0][0] / (2 * math.pi), cutoffs_band_bode[0][1] / (2 * math.pi), marker=\"o\")\n",
        "cur_loss_label = ax2.annotate(f\"$f_{{c,l}}$ = {cutoffs_band_bode[0][0]:.0f}\\n$f_{{c,h}}$ = {cutoffs_band_bode[0][1]:.0f}\", (0, 0), xytext=(0.7, 0.82), textcoords='axes fraction')\n",
        "ax2.set_title(\"Loss Surface\")\n",
        "ax2.set_xlabel(\"$f_\\mathrm{c,low} \\; (Hz)$\")\n",
        "ax2.set_ylabel(\"$f_\\mathrm{c,high} \\; (Hz)$\")\n",
        "fig.colorbar(loss_surf, ax=ax2, label=\"log(loss)\")\n",
        "\n",
        "# Show loss contributions of each data point\n",
        "cur_bode = BandPassBodePlot(*cutoffs_band_bode[0])\n",
        "data_losses = loss_fn(cur_bode(train_data_band_bode[0][::subsample]), 20 * torch.log10(train_data_band_bode[1][::subsample]))\n",
        "data_grads = torch.zeros((len(data_losses), 2))\n",
        "for i, dl in enumerate(data_losses):\n",
        "    data_grads[i] = torch.tensor(torch.autograd.grad(dl, (cur_bode.low_cutoff, cur_bode.high_cutoff), retain_graph=True))\n",
        "data_grads_scat1 = ax3.scatter(train_data_band_bode[0][::subsample] / (2 * math.pi), data_grads[:, 0], marker=\"x\")\n",
        "data_grads_scat2 = ax3.scatter(train_data_band_bode[0][::subsample] / (2 * math.pi), data_grads[:, 1], marker=\"x\")\n",
        "ax3.set_xscale(\"log\")\n",
        "ax3.set_ylabel(\"Derivative\")\n",
        "ax3.set_xlim([1, 1e6])\n",
        "ax3.set_ylim([-5e-3, 5e-3])\n",
        "ax3.set_xlabel(\"Frequency (Hz)\")\n",
        "ax3.set_title(\"Derivative by Training Datapoint\")\n",
        "ax3.legend([\"$f_{c,l}$ Derivatives\", \"$f_{c,h}$ Derivatives\"])\n",
        "\n",
        "# Show gradient at each training iteration\n",
        "ax4.plot(np.arange(len(grad_values_band_bode)), grad_values_band_bode, linewidth=3)\n",
        "cur_grad0, = ax4.plot(0, grad_values_band_bode[0][0], marker=\"o\")\n",
        "cur_grad1, = ax4.plot(0, grad_values_band_bode[0][1], marker=\"o\")\n",
        "ax4.set_xlabel(\"Training Iteration\")\n",
        "ax4.set_ylabel(\"Gradient\")\n",
        "ax4.set_title(\"Gradients\")\n",
        "ax4.set_xlim([-1, len(grad_values_band_bode)])\n",
        "ax4.legend([\"$f_\\mathrm{c,l}$ Grad\", \"$f_\\mathrm{c,h}$ Grad\"])\n",
        "\n",
        "plt.tight_layout()\n",
        "\n",
        "# Main update function for interactive plots\n",
        "def update_iter_band_bode(t=0):\n",
        "    learned_tf.set_data(ws / (2 * math.pi), evaluate_bp_bode(ws, *cutoffs_band_bode[t]))\n",
        "    cur_loss.set_data(cutoffs_band_bode[t][0] / (2 * math.pi), cutoffs_band_bode[t][1] / (2 * math.pi))\n",
        "    cur_loss_label.set_text(f\"$f_{{c,l}}$ = {cutoffs_band_bode[t][0] / (2 * math.pi):.0f}\\n$f_{{c,h}}$ = {cutoffs_band_bode[t][1] / (2 * math.pi):.0f}\")\n",
        "    cur_grad0.set_data(t, grad_values_band_bode[t][0])\n",
        "    cur_grad1.set_data(t, grad_values_band_bode[t][1])\n",
        "    cur_bode = BandPassBodePlot(*cutoffs_band_bode[t])\n",
        "    data_losses = loss_fn(cur_bode(train_data_band_bode[0][::subsample]), 20 * torch.log10(train_data_band_bode[1][::subsample]))\n",
        "    data_grads = torch.zeros((len(data_losses), 2))\n",
        "    for i, dl in enumerate(data_losses):\n",
        "        data_grads[i] = torch.tensor(torch.autograd.grad(dl, (cur_bode.low_cutoff, cur_bode.high_cutoff), retain_graph=True))\n",
        "    data_grads_scat1.set_offsets(torch.stack((train_data_band_bode[0][::subsample] / (2 * math.pi), data_grads[:, 0])).T)\n",
        "    data_grads_scat2.set_offsets(torch.stack((train_data_band_bode[0][::subsample] / (2 * math.pi), data_grads[:, 1])).T)\n",
        "    fig.canvas.draw_idle()\n",
        "    \n",
        "# Include sliders for relevant quantities\n",
        "ip = interactive(update_iter_band_bode, \n",
        "                 t=widgets.IntSlider(value=0, min=0, max=len(cutoffs_band_bode) - 1, step=1, description=\"Training Iteration\", style={'description_width': 'initial'}, layout=Layout(width='100%')))\n",
        "ip"
      ]
    },
    {
      "cell_type": "markdown",
      "id": "09a08e57",
      "metadata": {
        "id": "09a08e57"
      },
      "source": [
        "## (i) Learn a Color Organ Circuit"
      ]
    },
    {
      "cell_type": "code",
      "execution_count": null,
      "id": "0fd16f07",
      "metadata": {
        "id": "0fd16f07"
      },
      "outputs": [],
      "source": [
        "# PyTorch model of the color organ circuit\n",
        "class ColorOrganCircuit(nn.Module):\n",
        "    def __init__(self, R_low=None, R_high=None, R_band_low=None, R_band_high=None):\n",
        "        super().__init__()\n",
        "        self.low = LowPassCircuit(R_low)\n",
        "        self.high = HighPassCircuit(R_high)\n",
        "        self.band = BandPassCircuit(R_band_low, R_band_high)\n",
        "        \n",
        "    def forward(self, freqs):\n",
        "        return torch.stack((self.low(freqs), self.band(freqs), self.high(freqs)))\n",
        "    \n",
        "    \n",
        "# Generate training data in a uniform log scale of frequences, then evaluate using the true transfer function\n",
        "R_low_des = 1 / (2 * math.pi * 800 * cap_value)\n",
        "R_band_low_des = 1 / (2 * math.pi * 4000 * cap_value)\n",
        "R_band_high_des = 1 / (2 * math.pi * 1000 * cap_value)\n",
        "R_high_des = 1 / (2 * math.pi * 5000 * cap_value)\n",
        "def generate_co_training_data(n):\n",
        "    rand_ws = 2 * math.pi * torch.pow(10, torch.rand(n) * 6)\n",
        "    labels = torch.stack((evaluate_lp_circuit(rand_ws, R_low_des), evaluate_bp_circuit(rand_ws, R_band_low_des, R_band_high_des), evaluate_hp_circuit(rand_ws, R_high_des)))\n",
        "    return rand_ws, labels\n",
        "\n",
        "# Train a given color organ circuit\n",
        "def train_co_circuit(circuit, loss_fn, dataset_size, max_training_steps, lr):\n",
        "    \n",
        "    R_values = [[float(circuit.low.R.data), float(circuit.band.R_low.data), float(circuit.band.R_high.data), float(circuit.high.R.data)]]\n",
        "    grad_values = [[np.nan, np.nan, np.nan, np.nan]]\n",
        "    train_data = generate_co_training_data(dataset_size)\n",
        "    print(f\"Initial Resistor Values: LP: {float(circuit.low.R.data):.0f} Ohms, BP (Low): {float(circuit.band.R_low.data):.0f} Ohms, BP (High): {float(circuit.band.R_high.data):.0f} Ohms, HP: {float(circuit.high.R.data):.0f} Ohms\")\n",
        "    \n",
        "    iter_bar = tqdm.trange(max_training_steps, desc=\"Training Iter\")\n",
        "    for i in iter_bar:\n",
        "        pred = circuit(train_data[0])\n",
        "        loss = loss_fn(pred, (train_data[1] > cutoff_mag).float()).mean()\n",
        "        grad = torch.autograd.grad(loss, (circuit.low.R, circuit.band.R_low, circuit.band.R_high, circuit.high.R))\n",
        "        with torch.no_grad():\n",
        "            circuit.low.R -= lr * grad[0]\n",
        "            circuit.band.R_low -= lr * grad[1]\n",
        "            circuit.band.R_high -= lr * grad[2]\n",
        "            circuit.high.R -= lr * grad[3]\n",
        "            \n",
        "        R_values.append([float(circuit.low.R.data), float(circuit.band.R_low.data), float(circuit.band.R_high.data), float(circuit.high.R.data)])\n",
        "        grad_values.append([float(grad[0].data), float(grad[1].data), float(grad[2].data), float(grad[3].data)])\n",
        "        iter_bar.set_postfix_str(f\"Loss: {float(loss.data):.3f}, Rs = {float(circuit.low.R.data):.0f}, {float(circuit.band.R_low.data):.0f}, {float(circuit.band.R_high.data):.0f}, {float(circuit.high.R.data):.0f}\")\n",
        "        if loss.data < 1e-6 or (abs(grad[0].data) < 1e-6 and abs(grad[1].data) < 1e-6):\n",
        "            break\n",
        "\n",
        "    print(f\"Final Resistor Values: LP: {float(circuit.low.R.data):.0f} Ohms, BP (Low): {float(circuit.band.R_low.data):.0f} Ohms, BP (High): {float(circuit.band.R_high.data):.0f} Ohms, HP: {float(circuit.high.R.data):.0f} Ohms\")\n",
        "    print(f\"Final Cutoff Frequencies: LP: {1 / (2 * math.pi * cap_value * float(circuit.low.R.data)):.0f} Hz, BP (Low): {1 / (2 * math.pi * cap_value * float(circuit.band.R_low.data)):.0f} Hz, BP (High): {1 / (2 * math.pi * cap_value * float(circuit.band.R_high.data)):.0f} Hz, HP: {1 / (2 * math.pi * cap_value * float(circuit.high.R.data)):.0f} Hz\")\n",
        "    return train_data, R_values, grad_values"
      ]
    },
    {
      "cell_type": "code",
      "execution_count": null,
      "id": "4b7ffa2b",
      "metadata": {
        "id": "4b7ffa2b"
      },
      "outputs": [],
      "source": [
        "co = ColorOrganCircuit(200, 200, 200, 200)\n",
        "loss_fn = lambda x, y: (x - (0.3 + 0.7 * y)) ** 2   # weighted MSE loss\n",
        "lr = 500\n",
        "train_data_co, R_values_co, grad_values_co = train_co_circuit(co, loss_fn, dataset_size, max_training_steps, lr)"
      ]
    },
    {
      "cell_type": "code",
      "execution_count": null,
      "id": "17593172",
      "metadata": {
        "id": "17593172"
      },
      "outputs": [],
      "source": [
        "# Plot transfer function over training\n",
        "fig, ax1 = plt.subplots(1, 1, figsize=(9, 6))\n",
        "ws = 2 * math.pi * 10 ** torch.linspace(0, 6, 1000)\n",
        "subsample = int(dataset_size / 250)\n",
        "train_data_mask = train_data_co[1][:, ::subsample] > cutoff_mag\n",
        "learned_tf1, = ax1.semilogx(ws / (2 * math.pi), evaluate_lp_circuit(ws, R_values_co[0][0]), linewidth=3)\n",
        "learned_tf2, = ax1.semilogx(ws / (2 * math.pi), evaluate_bp_circuit(ws, *R_values_co[0][1:3]), linewidth=3)\n",
        "learned_tf3, = ax1.semilogx(ws / (2 * math.pi), evaluate_hp_circuit(ws, R_values_co[0][-1]), linewidth=3)\n",
        "ax1.scatter(train_data_co[0][::subsample][train_data_mask[0]] / (2 * math.pi), np.ones(train_data_mask[0].sum()), c=learned_tf1.get_color(), marker=\"x\")\n",
        "ax1.scatter(train_data_co[0][::subsample][train_data_mask[1]] / (2 * math.pi), np.ones(train_data_mask[1].sum()), c=learned_tf2.get_color(), marker=\"x\")\n",
        "ax1.scatter(train_data_co[0][::subsample][train_data_mask[2]] / (2 * math.pi), np.ones(train_data_mask[2].sum()), c=learned_tf3.get_color(), marker=\"x\")\n",
        "# ax1.scatter(train_data_co[0][::subsample][(~train_data_mask).all(0)] / (2 * math.pi), np.zeros((~(train_data_mask.any(0))).sum()), c=\"k\", marker=\"x\")\n",
        "ax1.set_xlim([1, 1e6])\n",
        "ax1.set_title(\"Transfer Function\")\n",
        "ax1.set_xlabel(\"Frequency (Hz)\")\n",
        "ax1.set_ylabel(\"Magnitude\")\n",
        "ax1.legend([\"Learned LP\", \"Learned BP\", \"Learned HP\", \n",
        "            \"TF + Samples (LP)\", \"TF + Samples (BP)\", \"TF + Samples (HP)\", \n",
        "            \"TF - Samples\"], bbox_to_anchor=(1.05, 1), loc='upper left', ncol=1)\n",
        "\n",
        "plt.tight_layout()\n",
        "\n",
        "# Main update function for interactive plots\n",
        "def update_iter_co(t=0):\n",
        "    learned_tf1.set_data(ws / (2 * math.pi), evaluate_lp_circuit(ws, R_values_co[t][0]))\n",
        "    learned_tf2.set_data(ws / (2 * math.pi), evaluate_bp_circuit(ws, *R_values_co[t][1:3]))\n",
        "    learned_tf3.set_data(ws / (2 * math.pi), evaluate_hp_circuit(ws, R_values_co[t][-1]))\n",
        "    fig.canvas.draw_idle()\n",
        "    \n",
        "# Include sliders for relevant quantities\n",
        "ip = interactive(update_iter_co, \n",
        "                 t=widgets.IntSlider(value=0, min=0, max=len(R_values_co) - 1, step=1, description=\"Training Iteration\", style={'description_width': 'initial'}, layout=Layout(width='100%')))\n",
        "ip"
      ]
    },
    {
      "cell_type": "markdown",
      "id": "d6cfaa10",
      "metadata": {
        "id": "d6cfaa10"
      },
      "source": [
        "## Visualizing the computation graph for the Color Organ"
      ]
    },
    {
      "cell_type": "code",
      "execution_count": null,
      "id": "2521bdf5",
      "metadata": {
        "id": "2521bdf5"
      },
      "outputs": [],
      "source": [
        "from torchviz import make_dot\n",
        "make_dot(co(generate_co_training_data(dataset_size)[0]), params=dict(co.named_parameters()))"
      ]
    }
  ],
  "metadata": {
    "language_info": {
      "name": "python"
    },
    "colab": {
      "provenance": [],
      "include_colab_link": true
    },
    "kernelspec": {
      "name": "python3",
      "display_name": "Python 3"
    },
    "gpuClass": "standard",
    "widgets": {
      "application/vnd.jupyter.widget-state+json": {
        "644ed579cf0c40598fd39e99af427169": {
          "model_module": "@jupyter-widgets/controls",
          "model_name": "VBoxModel",
          "model_module_version": "1.5.0",
          "state": {
            "_dom_classes": [
              "widget-interact"
            ],
            "_model_module": "@jupyter-widgets/controls",
            "_model_module_version": "1.5.0",
            "_model_name": "VBoxModel",
            "_view_count": null,
            "_view_module": "@jupyter-widgets/controls",
            "_view_module_version": "1.5.0",
            "_view_name": "VBoxView",
            "box_style": "",
            "children": [
              "IPY_MODEL_77144464634f4e4b926c5c3829db2fdd",
              "IPY_MODEL_9e821748976f4bd187b285e21e6f48c1"
            ],
            "layout": "IPY_MODEL_3951276c075b4ca49b8077524e7386bf"
          }
        },
        "77144464634f4e4b926c5c3829db2fdd": {
          "model_module": "@jupyter-widgets/controls",
          "model_name": "IntSliderModel",
          "model_module_version": "1.5.0",
          "state": {
            "_dom_classes": [],
            "_model_module": "@jupyter-widgets/controls",
            "_model_module_version": "1.5.0",
            "_model_name": "IntSliderModel",
            "_view_count": null,
            "_view_module": "@jupyter-widgets/controls",
            "_view_module_version": "1.5.0",
            "_view_name": "IntSliderView",
            "continuous_update": true,
            "description": "R",
            "description_tooltip": null,
            "disabled": false,
            "layout": "IPY_MODEL_9016966708cf48e284245cadc9bd5d86",
            "max": 1000,
            "min": 1,
            "orientation": "horizontal",
            "readout": true,
            "readout_format": "d",
            "step": 1,
            "style": "IPY_MODEL_c44fb679d7564cb9811fc83d41849612",
            "value": 500
          }
        },
        "9e821748976f4bd187b285e21e6f48c1": {
          "model_module": "@jupyter-widgets/output",
          "model_name": "OutputModel",
          "model_module_version": "1.0.0",
          "state": {
            "_dom_classes": [],
            "_model_module": "@jupyter-widgets/output",
            "_model_module_version": "1.0.0",
            "_model_name": "OutputModel",
            "_view_count": null,
            "_view_module": "@jupyter-widgets/output",
            "_view_module_version": "1.0.0",
            "_view_name": "OutputView",
            "layout": "IPY_MODEL_715299af16c841dcb466959e40363881",
            "msg_id": "",
            "outputs": []
          }
        },
        "3951276c075b4ca49b8077524e7386bf": {
          "model_module": "@jupyter-widgets/base",
          "model_name": "LayoutModel",
          "model_module_version": "1.2.0",
          "state": {
            "_model_module": "@jupyter-widgets/base",
            "_model_module_version": "1.2.0",
            "_model_name": "LayoutModel",
            "_view_count": null,
            "_view_module": "@jupyter-widgets/base",
            "_view_module_version": "1.2.0",
            "_view_name": "LayoutView",
            "align_content": null,
            "align_items": null,
            "align_self": null,
            "border": null,
            "bottom": null,
            "display": null,
            "flex": null,
            "flex_flow": null,
            "grid_area": null,
            "grid_auto_columns": null,
            "grid_auto_flow": null,
            "grid_auto_rows": null,
            "grid_column": null,
            "grid_gap": null,
            "grid_row": null,
            "grid_template_areas": null,
            "grid_template_columns": null,
            "grid_template_rows": null,
            "height": null,
            "justify_content": null,
            "justify_items": null,
            "left": null,
            "margin": null,
            "max_height": null,
            "max_width": null,
            "min_height": null,
            "min_width": null,
            "object_fit": null,
            "object_position": null,
            "order": null,
            "overflow": null,
            "overflow_x": null,
            "overflow_y": null,
            "padding": null,
            "right": null,
            "top": null,
            "visibility": null,
            "width": null
          }
        },
        "9016966708cf48e284245cadc9bd5d86": {
          "model_module": "@jupyter-widgets/base",
          "model_name": "LayoutModel",
          "model_module_version": "1.2.0",
          "state": {
            "_model_module": "@jupyter-widgets/base",
            "_model_module_version": "1.2.0",
            "_model_name": "LayoutModel",
            "_view_count": null,
            "_view_module": "@jupyter-widgets/base",
            "_view_module_version": "1.2.0",
            "_view_name": "LayoutView",
            "align_content": null,
            "align_items": null,
            "align_self": null,
            "border": null,
            "bottom": null,
            "display": null,
            "flex": null,
            "flex_flow": null,
            "grid_area": null,
            "grid_auto_columns": null,
            "grid_auto_flow": null,
            "grid_auto_rows": null,
            "grid_column": null,
            "grid_gap": null,
            "grid_row": null,
            "grid_template_areas": null,
            "grid_template_columns": null,
            "grid_template_rows": null,
            "height": null,
            "justify_content": null,
            "justify_items": null,
            "left": null,
            "margin": null,
            "max_height": null,
            "max_width": null,
            "min_height": null,
            "min_width": null,
            "object_fit": null,
            "object_position": null,
            "order": null,
            "overflow": null,
            "overflow_x": null,
            "overflow_y": null,
            "padding": null,
            "right": null,
            "top": null,
            "visibility": null,
            "width": "100%"
          }
        },
        "c44fb679d7564cb9811fc83d41849612": {
          "model_module": "@jupyter-widgets/controls",
          "model_name": "SliderStyleModel",
          "model_module_version": "1.5.0",
          "state": {
            "_model_module": "@jupyter-widgets/controls",
            "_model_module_version": "1.5.0",
            "_model_name": "SliderStyleModel",
            "_view_count": null,
            "_view_module": "@jupyter-widgets/base",
            "_view_module_version": "1.2.0",
            "_view_name": "StyleView",
            "description_width": "",
            "handle_color": null
          }
        },
        "715299af16c841dcb466959e40363881": {
          "model_module": "@jupyter-widgets/base",
          "model_name": "LayoutModel",
          "model_module_version": "1.2.0",
          "state": {
            "_model_module": "@jupyter-widgets/base",
            "_model_module_version": "1.2.0",
            "_model_name": "LayoutModel",
            "_view_count": null,
            "_view_module": "@jupyter-widgets/base",
            "_view_module_version": "1.2.0",
            "_view_name": "LayoutView",
            "align_content": null,
            "align_items": null,
            "align_self": null,
            "border": null,
            "bottom": null,
            "display": null,
            "flex": null,
            "flex_flow": null,
            "grid_area": null,
            "grid_auto_columns": null,
            "grid_auto_flow": null,
            "grid_auto_rows": null,
            "grid_column": null,
            "grid_gap": null,
            "grid_row": null,
            "grid_template_areas": null,
            "grid_template_columns": null,
            "grid_template_rows": null,
            "height": null,
            "justify_content": null,
            "justify_items": null,
            "left": null,
            "margin": null,
            "max_height": null,
            "max_width": null,
            "min_height": null,
            "min_width": null,
            "object_fit": null,
            "object_position": null,
            "order": null,
            "overflow": null,
            "overflow_x": null,
            "overflow_y": null,
            "padding": null,
            "right": null,
            "top": null,
            "visibility": null,
            "width": null
          }
        },
        "10de9bfa44a34e6db6261d735a84500e": {
          "model_module": "jupyter-matplotlib",
          "model_name": "MPLCanvasModel",
          "model_module_version": "^0.11",
          "state": {
            "_cursor": "default",
            "_data_url": "data:image/png;base64,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",
            "_dom_classes": [],
            "_figure_label": "Figure 1",
            "_image_mode": "full",
            "_message": "",
            "_model_module": "jupyter-matplotlib",
            "_model_module_version": "^0.11",
            "_model_name": "MPLCanvasModel",
            "_rubberband_height": 0,
            "_rubberband_width": 0,
            "_rubberband_x": 0,
            "_rubberband_y": 0,
            "_size": [
              648,
              288
            ],
            "_view_count": null,
            "_view_module": "jupyter-matplotlib",
            "_view_module_version": "^0.11",
            "_view_name": "MPLCanvasView",
            "capture_scroll": false,
            "footer_visible": true,
            "header_visible": true,
            "layout": "IPY_MODEL_74f8a0ecf9c8416fb8aabeccdf0e281b",
            "pan_zoom_throttle": 33,
            "resizable": true,
            "toolbar": "IPY_MODEL_41ca5c2153ba43abab248eb9d171d38f",
            "toolbar_position": "left",
            "toolbar_visible": "fade-in-fade-out"
          }
        },
        "74f8a0ecf9c8416fb8aabeccdf0e281b": {
          "model_module": "@jupyter-widgets/base",
          "model_name": "LayoutModel",
          "model_module_version": "1.2.0",
          "state": {
            "_model_module": "@jupyter-widgets/base",
            "_model_module_version": "1.2.0",
            "_model_name": "LayoutModel",
            "_view_count": null,
            "_view_module": "@jupyter-widgets/base",
            "_view_module_version": "1.2.0",
            "_view_name": "LayoutView",
            "align_content": null,
            "align_items": null,
            "align_self": null,
            "border": null,
            "bottom": null,
            "display": null,
            "flex": null,
            "flex_flow": null,
            "grid_area": null,
            "grid_auto_columns": null,
            "grid_auto_flow": null,
            "grid_auto_rows": null,
            "grid_column": null,
            "grid_gap": null,
            "grid_row": null,
            "grid_template_areas": null,
            "grid_template_columns": null,
            "grid_template_rows": null,
            "height": null,
            "justify_content": null,
            "justify_items": null,
            "left": null,
            "margin": null,
            "max_height": null,
            "max_width": null,
            "min_height": null,
            "min_width": null,
            "object_fit": null,
            "object_position": null,
            "order": null,
            "overflow": null,
            "overflow_x": null,
            "overflow_y": null,
            "padding": null,
            "right": null,
            "top": null,
            "visibility": null,
            "width": null
          }
        },
        "41ca5c2153ba43abab248eb9d171d38f": {
          "model_module": "jupyter-matplotlib",
          "model_name": "ToolbarModel",
          "model_module_version": "^0.11",
          "state": {
            "_current_action": "",
            "_dom_classes": [],
            "_model_module": "jupyter-matplotlib",
            "_model_module_version": "^0.11",
            "_model_name": "ToolbarModel",
            "_view_count": null,
            "_view_module": "jupyter-matplotlib",
            "_view_module_version": "^0.11",
            "_view_name": "ToolbarView",
            "button_style": "",
            "collapsed": true,
            "layout": "IPY_MODEL_ef9a20de3d764283925bf19f1f51614b",
            "orientation": "vertical",
            "toolitems": [
              [
                "Home",
                "Reset original view",
                "home",
                "home"
              ],
              [
                "Back",
                "Back to previous view",
                "arrow-left",
                "back"
              ],
              [
                "Forward",
                "Forward to next view",
                "arrow-right",
                "forward"
              ],
              [
                "Pan",
                "Left button pans, Right button zooms\nx/y fixes axis, CTRL fixes aspect",
                "arrows",
                "pan"
              ],
              [
                "Zoom",
                "Zoom to rectangle\nx/y fixes axis",
                "square-o",
                "zoom"
              ],
              [
                "Download",
                "Download plot",
                "floppy-o",
                "save_figure"
              ]
            ]
          }
        },
        "ef9a20de3d764283925bf19f1f51614b": {
          "model_module": "@jupyter-widgets/base",
          "model_name": "LayoutModel",
          "model_module_version": "1.2.0",
          "state": {
            "_model_module": "@jupyter-widgets/base",
            "_model_module_version": "1.2.0",
            "_model_name": "LayoutModel",
            "_view_count": null,
            "_view_module": "@jupyter-widgets/base",
            "_view_module_version": "1.2.0",
            "_view_name": "LayoutView",
            "align_content": null,
            "align_items": null,
            "align_self": null,
            "border": null,
            "bottom": null,
            "display": null,
            "flex": null,
            "flex_flow": null,
            "grid_area": null,
            "grid_auto_columns": null,
            "grid_auto_flow": null,
            "grid_auto_rows": null,
            "grid_column": null,
            "grid_gap": null,
            "grid_row": null,
            "grid_template_areas": null,
            "grid_template_columns": null,
            "grid_template_rows": null,
            "height": null,
            "justify_content": null,
            "justify_items": null,
            "left": null,
            "margin": null,
            "max_height": null,
            "max_width": null,
            "min_height": null,
            "min_width": null,
            "object_fit": null,
            "object_position": null,
            "order": null,
            "overflow": null,
            "overflow_x": null,
            "overflow_y": null,
            "padding": null,
            "right": null,
            "top": null,
            "visibility": null,
            "width": null
          }
        },
        "44da534d6a9442929bb7d7411b3aee1d": {
          "model_module": "@jupyter-widgets/controls",
          "model_name": "VBoxModel",
          "model_module_version": "1.5.0",
          "state": {
            "_dom_classes": [
              "widget-interact"
            ],
            "_model_module": "@jupyter-widgets/controls",
            "_model_module_version": "1.5.0",
            "_model_name": "VBoxModel",
            "_view_count": null,
            "_view_module": "@jupyter-widgets/controls",
            "_view_module_version": "1.5.0",
            "_view_name": "VBoxView",
            "box_style": "",
            "children": [
              "IPY_MODEL_12724a2c1e604e3c8a6b1771fde65212",
              "IPY_MODEL_bbd0b5c5e8e14d1cbf938a5f0ed8f12a"
            ],
            "layout": "IPY_MODEL_8fea537229bf420fa1dcc2aa2be0b1ab"
          }
        },
        "12724a2c1e604e3c8a6b1771fde65212": {
          "model_module": "@jupyter-widgets/controls",
          "model_name": "IntSliderModel",
          "model_module_version": "1.5.0",
          "state": {
            "_dom_classes": [],
            "_model_module": "@jupyter-widgets/controls",
            "_model_module_version": "1.5.0",
            "_model_name": "IntSliderModel",
            "_view_count": null,
            "_view_module": "@jupyter-widgets/controls",
            "_view_module_version": "1.5.0",
            "_view_name": "IntSliderView",
            "continuous_update": true,
            "description": "R",
            "description_tooltip": null,
            "disabled": false,
            "layout": "IPY_MODEL_1c26ddf5c9e84f3aaa9946ceab07bf0d",
            "max": 1000,
            "min": 1,
            "orientation": "horizontal",
            "readout": true,
            "readout_format": "d",
            "step": 1,
            "style": "IPY_MODEL_fd5ed2e928a34ffc875e0dea0622829d",
            "value": 500
          }
        },
        "bbd0b5c5e8e14d1cbf938a5f0ed8f12a": {
          "model_module": "@jupyter-widgets/output",
          "model_name": "OutputModel",
          "model_module_version": "1.0.0",
          "state": {
            "_dom_classes": [],
            "_model_module": "@jupyter-widgets/output",
            "_model_module_version": "1.0.0",
            "_model_name": "OutputModel",
            "_view_count": null,
            "_view_module": "@jupyter-widgets/output",
            "_view_module_version": "1.0.0",
            "_view_name": "OutputView",
            "layout": "IPY_MODEL_8af036013e0149168602918f4f4d3f0a",
            "msg_id": "",
            "outputs": []
          }
        },
        "8fea537229bf420fa1dcc2aa2be0b1ab": {
          "model_module": "@jupyter-widgets/base",
          "model_name": "LayoutModel",
          "model_module_version": "1.2.0",
          "state": {
            "_model_module": "@jupyter-widgets/base",
            "_model_module_version": "1.2.0",
            "_model_name": "LayoutModel",
            "_view_count": null,
            "_view_module": "@jupyter-widgets/base",
            "_view_module_version": "1.2.0",
            "_view_name": "LayoutView",
            "align_content": null,
            "align_items": null,
            "align_self": null,
            "border": null,
            "bottom": null,
            "display": null,
            "flex": null,
            "flex_flow": null,
            "grid_area": null,
            "grid_auto_columns": null,
            "grid_auto_flow": null,
            "grid_auto_rows": null,
            "grid_column": null,
            "grid_gap": null,
            "grid_row": null,
            "grid_template_areas": null,
            "grid_template_columns": null,
            "grid_template_rows": null,
            "height": null,
            "justify_content": null,
            "justify_items": null,
            "left": null,
            "margin": null,
            "max_height": null,
            "max_width": null,
            "min_height": null,
            "min_width": null,
            "object_fit": null,
            "object_position": null,
            "order": null,
            "overflow": null,
            "overflow_x": null,
            "overflow_y": null,
            "padding": null,
            "right": null,
            "top": null,
            "visibility": null,
            "width": null
          }
        },
        "1c26ddf5c9e84f3aaa9946ceab07bf0d": {
          "model_module": "@jupyter-widgets/base",
          "model_name": "LayoutModel",
          "model_module_version": "1.2.0",
          "state": {
            "_model_module": "@jupyter-widgets/base",
            "_model_module_version": "1.2.0",
            "_model_name": "LayoutModel",
            "_view_count": null,
            "_view_module": "@jupyter-widgets/base",
            "_view_module_version": "1.2.0",
            "_view_name": "LayoutView",
            "align_content": null,
            "align_items": null,
            "align_self": null,
            "border": null,
            "bottom": null,
            "display": null,
            "flex": null,
            "flex_flow": null,
            "grid_area": null,
            "grid_auto_columns": null,
            "grid_auto_flow": null,
            "grid_auto_rows": null,
            "grid_column": null,
            "grid_gap": null,
            "grid_row": null,
            "grid_template_areas": null,
            "grid_template_columns": null,
            "grid_template_rows": null,
            "height": null,
            "justify_content": null,
            "justify_items": null,
            "left": null,
            "margin": null,
            "max_height": null,
            "max_width": null,
            "min_height": null,
            "min_width": null,
            "object_fit": null,
            "object_position": null,
            "order": null,
            "overflow": null,
            "overflow_x": null,
            "overflow_y": null,
            "padding": null,
            "right": null,
            "top": null,
            "visibility": null,
            "width": "100%"
          }
        },
        "fd5ed2e928a34ffc875e0dea0622829d": {
          "model_module": "@jupyter-widgets/controls",
          "model_name": "SliderStyleModel",
          "model_module_version": "1.5.0",
          "state": {
            "_model_module": "@jupyter-widgets/controls",
            "_model_module_version": "1.5.0",
            "_model_name": "SliderStyleModel",
            "_view_count": null,
            "_view_module": "@jupyter-widgets/base",
            "_view_module_version": "1.2.0",
            "_view_name": "StyleView",
            "description_width": "",
            "handle_color": null
          }
        },
        "8af036013e0149168602918f4f4d3f0a": {
          "model_module": "@jupyter-widgets/base",
          "model_name": "LayoutModel",
          "model_module_version": "1.2.0",
          "state": {
            "_model_module": "@jupyter-widgets/base",
            "_model_module_version": "1.2.0",
            "_model_name": "LayoutModel",
            "_view_count": null,
            "_view_module": "@jupyter-widgets/base",
            "_view_module_version": "1.2.0",
            "_view_name": "LayoutView",
            "align_content": null,
            "align_items": null,
            "align_self": null,
            "border": null,
            "bottom": null,
            "display": null,
            "flex": null,
            "flex_flow": null,
            "grid_area": null,
            "grid_auto_columns": null,
            "grid_auto_flow": null,
            "grid_auto_rows": null,
            "grid_column": null,
            "grid_gap": null,
            "grid_row": null,
            "grid_template_areas": null,
            "grid_template_columns": null,
            "grid_template_rows": null,
            "height": null,
            "justify_content": null,
            "justify_items": null,
            "left": null,
            "margin": null,
            "max_height": null,
            "max_width": null,
            "min_height": null,
            "min_width": null,
            "object_fit": null,
            "object_position": null,
            "order": null,
            "overflow": null,
            "overflow_x": null,
            "overflow_y": null,
            "padding": null,
            "right": null,
            "top": null,
            "visibility": null,
            "width": null
          }
        },
        "1caf0d6af31d4d6fbdf11c6b0c33ddad": {
          "model_module": "jupyter-matplotlib",
          "model_name": "MPLCanvasModel",
          "model_module_version": "^0.11",
          "state": {
            "_cursor": "default",
            "_data_url": "data:image/png;base64,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",
            "_dom_classes": [],
            "_figure_label": "Figure 2",
            "_image_mode": "full",
            "_message": "",
            "_model_module": "jupyter-matplotlib",
            "_model_module_version": "^0.11",
            "_model_name": "MPLCanvasModel",
            "_rubberband_height": 0,
            "_rubberband_width": 0,
            "_rubberband_x": 0,
            "_rubberband_y": 0,
            "_size": [
              648,
              360
            ],
            "_view_count": null,
            "_view_module": "jupyter-matplotlib",
            "_view_module_version": "^0.11",
            "_view_name": "MPLCanvasView",
            "capture_scroll": false,
            "footer_visible": true,
            "header_visible": true,
            "layout": "IPY_MODEL_bd47fbcb3b854e52a0759970086ffdf9",
            "pan_zoom_throttle": 33,
            "resizable": true,
            "toolbar": "IPY_MODEL_dbe67a26aedb449188f8656a63dfd3f2",
            "toolbar_position": "left",
            "toolbar_visible": "fade-in-fade-out"
          }
        },
        "bd47fbcb3b854e52a0759970086ffdf9": {
          "model_module": "@jupyter-widgets/base",
          "model_name": "LayoutModel",
          "model_module_version": "1.2.0",
          "state": {
            "_model_module": "@jupyter-widgets/base",
            "_model_module_version": "1.2.0",
            "_model_name": "LayoutModel",
            "_view_count": null,
            "_view_module": "@jupyter-widgets/base",
            "_view_module_version": "1.2.0",
            "_view_name": "LayoutView",
            "align_content": null,
            "align_items": null,
            "align_self": null,
            "border": null,
            "bottom": null,
            "display": null,
            "flex": null,
            "flex_flow": null,
            "grid_area": null,
            "grid_auto_columns": null,
            "grid_auto_flow": null,
            "grid_auto_rows": null,
            "grid_column": null,
            "grid_gap": null,
            "grid_row": null,
            "grid_template_areas": null,
            "grid_template_columns": null,
            "grid_template_rows": null,
            "height": null,
            "justify_content": null,
            "justify_items": null,
            "left": null,
            "margin": null,
            "max_height": null,
            "max_width": null,
            "min_height": null,
            "min_width": null,
            "object_fit": null,
            "object_position": null,
            "order": null,
            "overflow": null,
            "overflow_x": null,
            "overflow_y": null,
            "padding": null,
            "right": null,
            "top": null,
            "visibility": null,
            "width": null
          }
        },
        "dbe67a26aedb449188f8656a63dfd3f2": {
          "model_module": "jupyter-matplotlib",
          "model_name": "ToolbarModel",
          "model_module_version": "^0.11",
          "state": {
            "_current_action": "",
            "_dom_classes": [],
            "_model_module": "jupyter-matplotlib",
            "_model_module_version": "^0.11",
            "_model_name": "ToolbarModel",
            "_view_count": null,
            "_view_module": "jupyter-matplotlib",
            "_view_module_version": "^0.11",
            "_view_name": "ToolbarView",
            "button_style": "",
            "collapsed": true,
            "layout": "IPY_MODEL_a7f0902a52574cc39a66d8b3e66a51d3",
            "orientation": "vertical",
            "toolitems": [
              [
                "Home",
                "Reset original view",
                "home",
                "home"
              ],
              [
                "Back",
                "Back to previous view",
                "arrow-left",
                "back"
              ],
              [
                "Forward",
                "Forward to next view",
                "arrow-right",
                "forward"
              ],
              [
                "Pan",
                "Left button pans, Right button zooms\nx/y fixes axis, CTRL fixes aspect",
                "arrows",
                "pan"
              ],
              [
                "Zoom",
                "Zoom to rectangle\nx/y fixes axis",
                "square-o",
                "zoom"
              ],
              [
                "Download",
                "Download plot",
                "floppy-o",
                "save_figure"
              ]
            ]
          }
        },
        "a7f0902a52574cc39a66d8b3e66a51d3": {
          "model_module": "@jupyter-widgets/base",
          "model_name": "LayoutModel",
          "model_module_version": "1.2.0",
          "state": {
            "_model_module": "@jupyter-widgets/base",
            "_model_module_version": "1.2.0",
            "_model_name": "LayoutModel",
            "_view_count": null,
            "_view_module": "@jupyter-widgets/base",
            "_view_module_version": "1.2.0",
            "_view_name": "LayoutView",
            "align_content": null,
            "align_items": null,
            "align_self": null,
            "border": null,
            "bottom": null,
            "display": null,
            "flex": null,
            "flex_flow": null,
            "grid_area": null,
            "grid_auto_columns": null,
            "grid_auto_flow": null,
            "grid_auto_rows": null,
            "grid_column": null,
            "grid_gap": null,
            "grid_row": null,
            "grid_template_areas": null,
            "grid_template_columns": null,
            "grid_template_rows": null,
            "height": null,
            "justify_content": null,
            "justify_items": null,
            "left": null,
            "margin": null,
            "max_height": null,
            "max_width": null,
            "min_height": null,
            "min_width": null,
            "object_fit": null,
            "object_position": null,
            "order": null,
            "overflow": null,
            "overflow_x": null,
            "overflow_y": null,
            "padding": null,
            "right": null,
            "top": null,
            "visibility": null,
            "width": null
          }
        },
        "ef2e9c9d5d1b44d4aa64bb40704b56f3": {
          "model_module": "jupyter-matplotlib",
          "model_name": "MPLCanvasModel",
          "model_module_version": "^0.11",
          "state": {
            "_cursor": "default",
            "_data_url": "data:image/png;base64,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",
            "_dom_classes": [],
            "_figure_label": "Figure 3",
            "_image_mode": "full",
            "_message": "",
            "_model_module": "jupyter-matplotlib",
            "_model_module_version": "^0.11",
            "_model_name": "MPLCanvasModel",
            "_rubberband_height": 0,
            "_rubberband_width": 0,
            "_rubberband_x": 0,
            "_rubberband_y": 0,
            "_size": [
              648,
              432
            ],
            "_view_count": null,
            "_view_module": "jupyter-matplotlib",
            "_view_module_version": "^0.11",
            "_view_name": "MPLCanvasView",
            "capture_scroll": false,
            "footer_visible": true,
            "header_visible": true,
            "layout": "IPY_MODEL_800f851d69c84db0b62ba1ff136b5df4",
            "pan_zoom_throttle": 33,
            "resizable": true,
            "toolbar": "IPY_MODEL_2180291c93a141679f2692eab2263709",
            "toolbar_position": "left",
            "toolbar_visible": "fade-in-fade-out"
          }
        },
        "800f851d69c84db0b62ba1ff136b5df4": {
          "model_module": "@jupyter-widgets/base",
          "model_name": "LayoutModel",
          "model_module_version": "1.2.0",
          "state": {
            "_model_module": "@jupyter-widgets/base",
            "_model_module_version": "1.2.0",
            "_model_name": "LayoutModel",
            "_view_count": null,
            "_view_module": "@jupyter-widgets/base",
            "_view_module_version": "1.2.0",
            "_view_name": "LayoutView",
            "align_content": null,
            "align_items": null,
            "align_self": null,
            "border": null,
            "bottom": null,
            "display": null,
            "flex": null,
            "flex_flow": null,
            "grid_area": null,
            "grid_auto_columns": null,
            "grid_auto_flow": null,
            "grid_auto_rows": null,
            "grid_column": null,
            "grid_gap": null,
            "grid_row": null,
            "grid_template_areas": null,
            "grid_template_columns": null,
            "grid_template_rows": null,
            "height": null,
            "justify_content": null,
            "justify_items": null,
            "left": null,
            "margin": null,
            "max_height": null,
            "max_width": null,
            "min_height": null,
            "min_width": null,
            "object_fit": null,
            "object_position": null,
            "order": null,
            "overflow": null,
            "overflow_x": null,
            "overflow_y": null,
            "padding": null,
            "right": null,
            "top": null,
            "visibility": null,
            "width": null
          }
        },
        "2180291c93a141679f2692eab2263709": {
          "model_module": "jupyter-matplotlib",
          "model_name": "ToolbarModel",
          "model_module_version": "^0.11",
          "state": {
            "_current_action": "",
            "_dom_classes": [],
            "_model_module": "jupyter-matplotlib",
            "_model_module_version": "^0.11",
            "_model_name": "ToolbarModel",
            "_view_count": null,
            "_view_module": "jupyter-matplotlib",
            "_view_module_version": "^0.11",
            "_view_name": "ToolbarView",
            "button_style": "",
            "collapsed": true,
            "layout": "IPY_MODEL_7d49a75fd8aa4355bd722d5659b3c213",
            "orientation": "vertical",
            "toolitems": [
              [
                "Home",
                "Reset original view",
                "home",
                "home"
              ],
              [
                "Back",
                "Back to previous view",
                "arrow-left",
                "back"
              ],
              [
                "Forward",
                "Forward to next view",
                "arrow-right",
                "forward"
              ],
              [
                "Pan",
                "Left button pans, Right button zooms\nx/y fixes axis, CTRL fixes aspect",
                "arrows",
                "pan"
              ],
              [
                "Zoom",
                "Zoom to rectangle\nx/y fixes axis",
                "square-o",
                "zoom"
              ],
              [
                "Download",
                "Download plot",
                "floppy-o",
                "save_figure"
              ]
            ]
          }
        },
        "7d49a75fd8aa4355bd722d5659b3c213": {
          "model_module": "@jupyter-widgets/base",
          "model_name": "LayoutModel",
          "model_module_version": "1.2.0",
          "state": {
            "_model_module": "@jupyter-widgets/base",
            "_model_module_version": "1.2.0",
            "_model_name": "LayoutModel",
            "_view_count": null,
            "_view_module": "@jupyter-widgets/base",
            "_view_module_version": "1.2.0",
            "_view_name": "LayoutView",
            "align_content": null,
            "align_items": null,
            "align_self": null,
            "border": null,
            "bottom": null,
            "display": null,
            "flex": null,
            "flex_flow": null,
            "grid_area": null,
            "grid_auto_columns": null,
            "grid_auto_flow": null,
            "grid_auto_rows": null,
            "grid_column": null,
            "grid_gap": null,
            "grid_row": null,
            "grid_template_areas": null,
            "grid_template_columns": null,
            "grid_template_rows": null,
            "height": null,
            "justify_content": null,
            "justify_items": null,
            "left": null,
            "margin": null,
            "max_height": null,
            "max_width": null,
            "min_height": null,
            "min_width": null,
            "object_fit": null,
            "object_position": null,
            "order": null,
            "overflow": null,
            "overflow_x": null,
            "overflow_y": null,
            "padding": null,
            "right": null,
            "top": null,
            "visibility": null,
            "width": null
          }
        },
        "dab3c0348ccc47c2904646ee09a0c91e": {
          "model_module": "@jupyter-widgets/controls",
          "model_name": "VBoxModel",
          "model_module_version": "1.5.0",
          "state": {
            "_dom_classes": [
              "widget-interact"
            ],
            "_model_module": "@jupyter-widgets/controls",
            "_model_module_version": "1.5.0",
            "_model_name": "VBoxModel",
            "_view_count": null,
            "_view_module": "@jupyter-widgets/controls",
            "_view_module_version": "1.5.0",
            "_view_name": "VBoxView",
            "box_style": "",
            "children": [
              "IPY_MODEL_acf0d66f4c6b425cb85ee999afc46a66",
              "IPY_MODEL_4bf323a7e603426c8f8de2a0807c3aaf"
            ],
            "layout": "IPY_MODEL_80bccd3311ae4b05a437896ec5270d19"
          }
        },
        "acf0d66f4c6b425cb85ee999afc46a66": {
          "model_module": "@jupyter-widgets/controls",
          "model_name": "IntSliderModel",
          "model_module_version": "1.5.0",
          "state": {
            "_dom_classes": [],
            "_model_module": "@jupyter-widgets/controls",
            "_model_module_version": "1.5.0",
            "_model_name": "IntSliderModel",
            "_view_count": null,
            "_view_module": "@jupyter-widgets/controls",
            "_view_module_version": "1.5.0",
            "_view_name": "IntSliderView",
            "continuous_update": true,
            "description": "Training Iteration",
            "description_tooltip": null,
            "disabled": false,
            "layout": "IPY_MODEL_0fe7e79d07ae4ff2ba0998a25c70be24",
            "max": 5000,
            "min": 0,
            "orientation": "horizontal",
            "readout": true,
            "readout_format": "d",
            "step": 1,
            "style": "IPY_MODEL_5d23e55e7ad34bff8a33431e3d02dc44",
            "value": 3159
          }
        },
        "4bf323a7e603426c8f8de2a0807c3aaf": {
          "model_module": "@jupyter-widgets/output",
          "model_name": "OutputModel",
          "model_module_version": "1.0.0",
          "state": {
            "_dom_classes": [],
            "_model_module": "@jupyter-widgets/output",
            "_model_module_version": "1.0.0",
            "_model_name": "OutputModel",
            "_view_count": null,
            "_view_module": "@jupyter-widgets/output",
            "_view_module_version": "1.0.0",
            "_view_name": "OutputView",
            "layout": "IPY_MODEL_0f780de7eadb4f10b77df2319583c0e7",
            "msg_id": "",
            "outputs": []
          }
        },
        "80bccd3311ae4b05a437896ec5270d19": {
          "model_module": "@jupyter-widgets/base",
          "model_name": "LayoutModel",
          "model_module_version": "1.2.0",
          "state": {
            "_model_module": "@jupyter-widgets/base",
            "_model_module_version": "1.2.0",
            "_model_name": "LayoutModel",
            "_view_count": null,
            "_view_module": "@jupyter-widgets/base",
            "_view_module_version": "1.2.0",
            "_view_name": "LayoutView",
            "align_content": null,
            "align_items": null,
            "align_self": null,
            "border": null,
            "bottom": null,
            "display": null,
            "flex": null,
            "flex_flow": null,
            "grid_area": null,
            "grid_auto_columns": null,
            "grid_auto_flow": null,
            "grid_auto_rows": null,
            "grid_column": null,
            "grid_gap": null,
            "grid_row": null,
            "grid_template_areas": null,
            "grid_template_columns": null,
            "grid_template_rows": null,
            "height": null,
            "justify_content": null,
            "justify_items": null,
            "left": null,
            "margin": null,
            "max_height": null,
            "max_width": null,
            "min_height": null,
            "min_width": null,
            "object_fit": null,
            "object_position": null,
            "order": null,
            "overflow": null,
            "overflow_x": null,
            "overflow_y": null,
            "padding": null,
            "right": null,
            "top": null,
            "visibility": null,
            "width": null
          }
        },
        "0fe7e79d07ae4ff2ba0998a25c70be24": {
          "model_module": "@jupyter-widgets/base",
          "model_name": "LayoutModel",
          "model_module_version": "1.2.0",
          "state": {
            "_model_module": "@jupyter-widgets/base",
            "_model_module_version": "1.2.0",
            "_model_name": "LayoutModel",
            "_view_count": null,
            "_view_module": "@jupyter-widgets/base",
            "_view_module_version": "1.2.0",
            "_view_name": "LayoutView",
            "align_content": null,
            "align_items": null,
            "align_self": null,
            "border": null,
            "bottom": null,
            "display": null,
            "flex": null,
            "flex_flow": null,
            "grid_area": null,
            "grid_auto_columns": null,
            "grid_auto_flow": null,
            "grid_auto_rows": null,
            "grid_column": null,
            "grid_gap": null,
            "grid_row": null,
            "grid_template_areas": null,
            "grid_template_columns": null,
            "grid_template_rows": null,
            "height": null,
            "justify_content": null,
            "justify_items": null,
            "left": null,
            "margin": null,
            "max_height": null,
            "max_width": null,
            "min_height": null,
            "min_width": null,
            "object_fit": null,
            "object_position": null,
            "order": null,
            "overflow": null,
            "overflow_x": null,
            "overflow_y": null,
            "padding": null,
            "right": null,
            "top": null,
            "visibility": null,
            "width": "100%"
          }
        },
        "5d23e55e7ad34bff8a33431e3d02dc44": {
          "model_module": "@jupyter-widgets/controls",
          "model_name": "SliderStyleModel",
          "model_module_version": "1.5.0",
          "state": {
            "_model_module": "@jupyter-widgets/controls",
            "_model_module_version": "1.5.0",
            "_model_name": "SliderStyleModel",
            "_view_count": null,
            "_view_module": "@jupyter-widgets/base",
            "_view_module_version": "1.2.0",
            "_view_name": "StyleView",
            "description_width": "initial",
            "handle_color": null
          }
        },
        "0f780de7eadb4f10b77df2319583c0e7": {
          "model_module": "@jupyter-widgets/base",
          "model_name": "LayoutModel",
          "model_module_version": "1.2.0",
          "state": {
            "_model_module": "@jupyter-widgets/base",
            "_model_module_version": "1.2.0",
            "_model_name": "LayoutModel",
            "_view_count": null,
            "_view_module": "@jupyter-widgets/base",
            "_view_module_version": "1.2.0",
            "_view_name": "LayoutView",
            "align_content": null,
            "align_items": null,
            "align_self": null,
            "border": null,
            "bottom": null,
            "display": null,
            "flex": null,
            "flex_flow": null,
            "grid_area": null,
            "grid_auto_columns": null,
            "grid_auto_flow": null,
            "grid_auto_rows": null,
            "grid_column": null,
            "grid_gap": null,
            "grid_row": null,
            "grid_template_areas": null,
            "grid_template_columns": null,
            "grid_template_rows": null,
            "height": null,
            "justify_content": null,
            "justify_items": null,
            "left": null,
            "margin": null,
            "max_height": null,
            "max_width": null,
            "min_height": null,
            "min_width": null,
            "object_fit": null,
            "object_position": null,
            "order": null,
            "overflow": null,
            "overflow_x": null,
            "overflow_y": null,
            "padding": null,
            "right": null,
            "top": null,
            "visibility": null,
            "width": null
          }
        },
        "58bcf63a9b584dd3af96e48434769629": {
          "model_module": "jupyter-matplotlib",
          "model_name": "MPLCanvasModel",
          "model_module_version": "^0.11",
          "state": {
            "_cursor": "default",
            "_data_url": "data:image/png;base64,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",
            "_dom_classes": [],
            "_figure_label": "Figure 8",
            "_image_mode": "full",
            "_message": "",
            "_model_module": "jupyter-matplotlib",
            "_model_module_version": "^0.11",
            "_model_name": "MPLCanvasModel",
            "_rubberband_height": 0,
            "_rubberband_width": 0,
            "_rubberband_x": 0,
            "_rubberband_y": 0,
            "_size": [
              648,
              432
            ],
            "_view_count": null,
            "_view_module": "jupyter-matplotlib",
            "_view_module_version": "^0.11",
            "_view_name": "MPLCanvasView",
            "capture_scroll": false,
            "footer_visible": true,
            "header_visible": true,
            "layout": "IPY_MODEL_436c90a7d9064a3f973b77df43e49585",
            "pan_zoom_throttle": 33,
            "resizable": true,
            "toolbar": "IPY_MODEL_4e54c840d7b64ac1a3837aa4559a4e80",
            "toolbar_position": "left",
            "toolbar_visible": "fade-in-fade-out"
          }
        },
        "436c90a7d9064a3f973b77df43e49585": {
          "model_module": "@jupyter-widgets/base",
          "model_name": "LayoutModel",
          "model_module_version": "1.2.0",
          "state": {
            "_model_module": "@jupyter-widgets/base",
            "_model_module_version": "1.2.0",
            "_model_name": "LayoutModel",
            "_view_count": null,
            "_view_module": "@jupyter-widgets/base",
            "_view_module_version": "1.2.0",
            "_view_name": "LayoutView",
            "align_content": null,
            "align_items": null,
            "align_self": null,
            "border": null,
            "bottom": null,
            "display": null,
            "flex": null,
            "flex_flow": null,
            "grid_area": null,
            "grid_auto_columns": null,
            "grid_auto_flow": null,
            "grid_auto_rows": null,
            "grid_column": null,
            "grid_gap": null,
            "grid_row": null,
            "grid_template_areas": null,
            "grid_template_columns": null,
            "grid_template_rows": null,
            "height": null,
            "justify_content": null,
            "justify_items": null,
            "left": null,
            "margin": null,
            "max_height": null,
            "max_width": null,
            "min_height": null,
            "min_width": null,
            "object_fit": null,
            "object_position": null,
            "order": null,
            "overflow": null,
            "overflow_x": null,
            "overflow_y": null,
            "padding": null,
            "right": null,
            "top": null,
            "visibility": null,
            "width": null
          }
        },
        "4e54c840d7b64ac1a3837aa4559a4e80": {
          "model_module": "jupyter-matplotlib",
          "model_name": "ToolbarModel",
          "model_module_version": "^0.11",
          "state": {
            "_current_action": "",
            "_dom_classes": [],
            "_model_module": "jupyter-matplotlib",
            "_model_module_version": "^0.11",
            "_model_name": "ToolbarModel",
            "_view_count": null,
            "_view_module": "jupyter-matplotlib",
            "_view_module_version": "^0.11",
            "_view_name": "ToolbarView",
            "button_style": "",
            "collapsed": true,
            "layout": "IPY_MODEL_e2fa00816a6d402a9429d81ba90ff91c",
            "orientation": "vertical",
            "toolitems": [
              [
                "Home",
                "Reset original view",
                "home",
                "home"
              ],
              [
                "Back",
                "Back to previous view",
                "arrow-left",
                "back"
              ],
              [
                "Forward",
                "Forward to next view",
                "arrow-right",
                "forward"
              ],
              [
                "Pan",
                "Left button pans, Right button zooms\nx/y fixes axis, CTRL fixes aspect",
                "arrows",
                "pan"
              ],
              [
                "Zoom",
                "Zoom to rectangle\nx/y fixes axis",
                "square-o",
                "zoom"
              ],
              [
                "Download",
                "Download plot",
                "floppy-o",
                "save_figure"
              ]
            ]
          }
        },
        "e2fa00816a6d402a9429d81ba90ff91c": {
          "model_module": "@jupyter-widgets/base",
          "model_name": "LayoutModel",
          "model_module_version": "1.2.0",
          "state": {
            "_model_module": "@jupyter-widgets/base",
            "_model_module_version": "1.2.0",
            "_model_name": "LayoutModel",
            "_view_count": null,
            "_view_module": "@jupyter-widgets/base",
            "_view_module_version": "1.2.0",
            "_view_name": "LayoutView",
            "align_content": null,
            "align_items": null,
            "align_self": null,
            "border": null,
            "bottom": null,
            "display": null,
            "flex": null,
            "flex_flow": null,
            "grid_area": null,
            "grid_auto_columns": null,
            "grid_auto_flow": null,
            "grid_auto_rows": null,
            "grid_column": null,
            "grid_gap": null,
            "grid_row": null,
            "grid_template_areas": null,
            "grid_template_columns": null,
            "grid_template_rows": null,
            "height": null,
            "justify_content": null,
            "justify_items": null,
            "left": null,
            "margin": null,
            "max_height": null,
            "max_width": null,
            "min_height": null,
            "min_width": null,
            "object_fit": null,
            "object_position": null,
            "order": null,
            "overflow": null,
            "overflow_x": null,
            "overflow_y": null,
            "padding": null,
            "right": null,
            "top": null,
            "visibility": null,
            "width": null
          }
        }
      }
    }
  },
  "nbformat": 4,
  "nbformat_minor": 5
}